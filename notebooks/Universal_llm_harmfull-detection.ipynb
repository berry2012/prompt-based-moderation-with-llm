{
 "cells": [
  {
   "cell_type": "markdown",
   "id": "05ab8959-d5f1-4abb-bf99-760c9a2d7fae",
   "metadata": {},
   "source": [
    "# Prompt Based Harmful Message detection using MCP and LLM"
   ]
  },
  {
   "cell_type": "markdown",
   "id": "3d306d00-e469-49fc-a076-8973c28c1591",
   "metadata": {},
   "source": [
    "https://docs.gpt4all.io/gpt4all_desktop/models.html#explore-models\n",
    "\n",
    "https://github.com/deepseek-ai/DeepSeek-R1"
   ]
  },
  {
   "cell_type": "code",
   "execution_count": 1,
   "id": "c2c4ceaa-2f72-475d-bd97-fed66f86f124",
   "metadata": {},
   "outputs": [
    {
     "name": "stdout",
     "output_type": "stream",
     "text": [
      "Requirement already satisfied: datasets in /opt/conda/lib/python3.12/site-packages (2.2.1)\n",
      "Requirement already satisfied: pandas in /opt/conda/lib/python3.12/site-packages (2.2.3)\n",
      "Requirement already satisfied: scikit-learn in /opt/conda/lib/python3.12/site-packages (1.5.2)\n",
      "Requirement already satisfied: matplotlib in /opt/conda/lib/python3.12/site-packages (3.10.3)\n",
      "Requirement already satisfied: seaborn in /opt/conda/lib/python3.12/site-packages (0.13.2)\n",
      "Collecting openai\n",
      "  Downloading openai-1.99.9-py3-none-any.whl.metadata (29 kB)\n",
      "Requirement already satisfied: tqdm in /opt/conda/lib/python3.12/site-packages (4.67.1)\n",
      "Requirement already satisfied: numpy>=1.17 in /opt/conda/lib/python3.12/site-packages (from datasets) (1.26.4)\n",
      "Requirement already satisfied: pyarrow>=6.0.0 in /opt/conda/lib/python3.12/site-packages (from datasets) (19.0.1)\n",
      "Requirement already satisfied: dill in /opt/conda/lib/python3.12/site-packages (from datasets) (0.4.0)\n",
      "Requirement already satisfied: requests>=2.19.0 in /opt/conda/lib/python3.12/site-packages (from datasets) (2.32.3)\n",
      "Requirement already satisfied: xxhash in /opt/conda/lib/python3.12/site-packages (from datasets) (3.5.0)\n",
      "Requirement already satisfied: multiprocess in /opt/conda/lib/python3.12/site-packages (from datasets) (0.70.18)\n",
      "Requirement already satisfied: fsspec>=2021.05.0 in /opt/conda/lib/python3.12/site-packages (from fsspec[http]>=2021.05.0->datasets) (2024.10.0)\n",
      "Requirement already satisfied: aiohttp in /opt/conda/lib/python3.12/site-packages (from datasets) (3.9.5)\n",
      "Requirement already satisfied: huggingface-hub<1.0.0,>=0.1.0 in /opt/conda/lib/python3.12/site-packages (from datasets) (0.31.4)\n",
      "Requirement already satisfied: packaging in /opt/conda/lib/python3.12/site-packages (from datasets) (24.2)\n",
      "Requirement already satisfied: responses<0.19 in /opt/conda/lib/python3.12/site-packages (from datasets) (0.18.0)\n",
      "Requirement already satisfied: python-dateutil>=2.8.2 in /opt/conda/lib/python3.12/site-packages (from pandas) (2.9.0.post0)\n",
      "Requirement already satisfied: pytz>=2020.1 in /opt/conda/lib/python3.12/site-packages (from pandas) (2024.2)\n",
      "Requirement already satisfied: tzdata>=2022.7 in /opt/conda/lib/python3.12/site-packages (from pandas) (2025.2)\n",
      "Requirement already satisfied: scipy>=1.6.0 in /opt/conda/lib/python3.12/site-packages (from scikit-learn) (1.15.2)\n",
      "Requirement already satisfied: joblib>=1.2.0 in /opt/conda/lib/python3.12/site-packages (from scikit-learn) (1.5.0)\n",
      "Requirement already satisfied: threadpoolctl>=3.1.0 in /opt/conda/lib/python3.12/site-packages (from scikit-learn) (3.6.0)\n",
      "Requirement already satisfied: contourpy>=1.0.1 in /opt/conda/lib/python3.12/site-packages (from matplotlib) (1.3.2)\n",
      "Requirement already satisfied: cycler>=0.10 in /opt/conda/lib/python3.12/site-packages (from matplotlib) (0.12.1)\n",
      "Requirement already satisfied: fonttools>=4.22.0 in /opt/conda/lib/python3.12/site-packages (from matplotlib) (4.58.0)\n",
      "Requirement already satisfied: kiwisolver>=1.3.1 in /opt/conda/lib/python3.12/site-packages (from matplotlib) (1.4.8)\n",
      "Requirement already satisfied: pillow>=8 in /opt/conda/lib/python3.12/site-packages (from matplotlib) (11.2.1)\n",
      "Requirement already satisfied: pyparsing>=2.3.1 in /opt/conda/lib/python3.12/site-packages (from matplotlib) (3.2.3)\n",
      "Requirement already satisfied: anyio<5,>=3.5.0 in /opt/conda/lib/python3.12/site-packages (from openai) (4.9.0)\n",
      "Requirement already satisfied: distro<2,>=1.7.0 in /opt/conda/lib/python3.12/site-packages (from openai) (1.9.0)\n",
      "Requirement already satisfied: httpx<1,>=0.23.0 in /opt/conda/lib/python3.12/site-packages (from openai) (0.28.1)\n",
      "Collecting jiter<1,>=0.4.0 (from openai)\n",
      "  Using cached jiter-0.10.0-cp312-cp312-manylinux_2_17_x86_64.manylinux2014_x86_64.whl.metadata (5.2 kB)\n",
      "Requirement already satisfied: pydantic<3,>=1.9.0 in /opt/conda/lib/python3.12/site-packages (from openai) (2.11.4)\n",
      "Requirement already satisfied: sniffio in /opt/conda/lib/python3.12/site-packages (from openai) (1.3.1)\n",
      "Requirement already satisfied: typing-extensions<5,>=4.11 in /opt/conda/lib/python3.12/site-packages (from openai) (4.13.2)\n",
      "Requirement already satisfied: idna>=2.8 in /opt/conda/lib/python3.12/site-packages (from anyio<5,>=3.5.0->openai) (3.10)\n",
      "Requirement already satisfied: aiosignal>=1.1.2 in /opt/conda/lib/python3.12/site-packages (from aiohttp->datasets) (1.3.2)\n",
      "Requirement already satisfied: attrs>=17.3.0 in /opt/conda/lib/python3.12/site-packages (from aiohttp->datasets) (23.2.0)\n",
      "Requirement already satisfied: frozenlist>=1.1.1 in /opt/conda/lib/python3.12/site-packages (from aiohttp->datasets) (1.6.0)\n",
      "Requirement already satisfied: multidict<7.0,>=4.5 in /opt/conda/lib/python3.12/site-packages (from aiohttp->datasets) (6.4.4)\n",
      "Requirement already satisfied: yarl<2.0,>=1.0 in /opt/conda/lib/python3.12/site-packages (from aiohttp->datasets) (1.20.0)\n",
      "Requirement already satisfied: certifi in /opt/conda/lib/python3.12/site-packages (from httpx<1,>=0.23.0->openai) (2025.4.26)\n",
      "Requirement already satisfied: httpcore==1.* in /opt/conda/lib/python3.12/site-packages (from httpx<1,>=0.23.0->openai) (1.0.9)\n",
      "Requirement already satisfied: h11>=0.16 in /opt/conda/lib/python3.12/site-packages (from httpcore==1.*->httpx<1,>=0.23.0->openai) (0.16.0)\n",
      "Requirement already satisfied: filelock in /opt/conda/lib/python3.12/site-packages (from huggingface-hub<1.0.0,>=0.1.0->datasets) (3.18.0)\n",
      "Requirement already satisfied: pyyaml>=5.1 in /opt/conda/lib/python3.12/site-packages (from huggingface-hub<1.0.0,>=0.1.0->datasets) (6.0.2)\n",
      "Requirement already satisfied: annotated-types>=0.6.0 in /opt/conda/lib/python3.12/site-packages (from pydantic<3,>=1.9.0->openai) (0.7.0)\n",
      "Requirement already satisfied: pydantic-core==2.33.2 in /opt/conda/lib/python3.12/site-packages (from pydantic<3,>=1.9.0->openai) (2.33.2)\n",
      "Requirement already satisfied: typing-inspection>=0.4.0 in /opt/conda/lib/python3.12/site-packages (from pydantic<3,>=1.9.0->openai) (0.4.0)\n",
      "Requirement already satisfied: six>=1.5 in /opt/conda/lib/python3.12/site-packages (from python-dateutil>=2.8.2->pandas) (1.17.0)\n",
      "Requirement already satisfied: charset_normalizer<4,>=2 in /opt/conda/lib/python3.12/site-packages (from requests>=2.19.0->datasets) (3.4.2)\n",
      "Requirement already satisfied: urllib3<3,>=1.21.1 in /opt/conda/lib/python3.12/site-packages (from requests>=2.19.0->datasets) (2.4.0)\n",
      "Requirement already satisfied: propcache>=0.2.1 in /opt/conda/lib/python3.12/site-packages (from yarl<2.0,>=1.0->aiohttp->datasets) (0.3.1)\n",
      "Downloading openai-1.99.9-py3-none-any.whl (786 kB)\n",
      "\u001b[2K   \u001b[90m━━━━━━━━━━━━━━━━━━━━━━━━━━━━━━━━━━━━━━━━\u001b[0m \u001b[32m786.8/786.8 kB\u001b[0m \u001b[31m45.3 MB/s\u001b[0m eta \u001b[36m0:00:00\u001b[0m\n",
      "\u001b[?25hUsing cached jiter-0.10.0-cp312-cp312-manylinux_2_17_x86_64.manylinux2014_x86_64.whl (352 kB)\n",
      "Installing collected packages: jiter, openai\n",
      "Successfully installed jiter-0.10.0 openai-1.99.9\n"
     ]
    }
   ],
   "source": [
    "!pip install datasets pandas scikit-learn matplotlib seaborn openai tqdm"
   ]
  },
  {
   "cell_type": "code",
   "execution_count": 2,
   "id": "a207b785-62c5-4902-8590-227bb412c6aa",
   "metadata": {},
   "outputs": [
    {
     "name": "stdout",
     "output_type": "stream",
     "text": [
      "Requirement already satisfied: datasets in /opt/conda/lib/python3.12/site-packages (4.0.0)\n",
      "Requirement already satisfied: filelock in /opt/conda/lib/python3.12/site-packages (from datasets) (3.18.0)\n",
      "Requirement already satisfied: numpy>=1.17 in /opt/conda/lib/python3.12/site-packages (from datasets) (1.26.4)\n",
      "Requirement already satisfied: pyarrow>=15.0.0 in /opt/conda/lib/python3.12/site-packages (from datasets) (19.0.1)\n",
      "Requirement already satisfied: dill<0.3.9,>=0.3.0 in /opt/conda/lib/python3.12/site-packages (from datasets) (0.3.8)\n",
      "Requirement already satisfied: pandas in /opt/conda/lib/python3.12/site-packages (from datasets) (2.2.3)\n",
      "Requirement already satisfied: requests>=2.32.2 in /opt/conda/lib/python3.12/site-packages (from datasets) (2.32.3)\n",
      "Requirement already satisfied: tqdm>=4.66.3 in /opt/conda/lib/python3.12/site-packages (from datasets) (4.67.1)\n",
      "Requirement already satisfied: xxhash in /opt/conda/lib/python3.12/site-packages (from datasets) (3.5.0)\n",
      "Requirement already satisfied: multiprocess<0.70.17 in /opt/conda/lib/python3.12/site-packages (from datasets) (0.70.16)\n",
      "Requirement already satisfied: fsspec<=2025.3.0,>=2023.1.0 in /opt/conda/lib/python3.12/site-packages (from fsspec[http]<=2025.3.0,>=2023.1.0->datasets) (2024.10.0)\n",
      "Requirement already satisfied: huggingface-hub>=0.24.0 in /opt/conda/lib/python3.12/site-packages (from datasets) (0.31.4)\n",
      "Requirement already satisfied: packaging in /opt/conda/lib/python3.12/site-packages (from datasets) (24.2)\n",
      "Requirement already satisfied: pyyaml>=5.1 in /opt/conda/lib/python3.12/site-packages (from datasets) (6.0.2)\n",
      "Requirement already satisfied: aiohttp!=4.0.0a0,!=4.0.0a1 in /opt/conda/lib/python3.12/site-packages (from fsspec[http]<=2025.3.0,>=2023.1.0->datasets) (3.9.5)\n",
      "Requirement already satisfied: typing-extensions>=3.7.4.3 in /opt/conda/lib/python3.12/site-packages (from huggingface-hub>=0.24.0->datasets) (4.13.2)\n",
      "Requirement already satisfied: charset_normalizer<4,>=2 in /opt/conda/lib/python3.12/site-packages (from requests>=2.32.2->datasets) (3.4.2)\n",
      "Requirement already satisfied: idna<4,>=2.5 in /opt/conda/lib/python3.12/site-packages (from requests>=2.32.2->datasets) (3.10)\n",
      "Requirement already satisfied: urllib3<3,>=1.21.1 in /opt/conda/lib/python3.12/site-packages (from requests>=2.32.2->datasets) (2.4.0)\n",
      "Requirement already satisfied: certifi>=2017.4.17 in /opt/conda/lib/python3.12/site-packages (from requests>=2.32.2->datasets) (2025.4.26)\n",
      "Requirement already satisfied: python-dateutil>=2.8.2 in /opt/conda/lib/python3.12/site-packages (from pandas->datasets) (2.9.0.post0)\n",
      "Requirement already satisfied: pytz>=2020.1 in /opt/conda/lib/python3.12/site-packages (from pandas->datasets) (2024.2)\n",
      "Requirement already satisfied: tzdata>=2022.7 in /opt/conda/lib/python3.12/site-packages (from pandas->datasets) (2025.2)\n",
      "Requirement already satisfied: aiosignal>=1.1.2 in /opt/conda/lib/python3.12/site-packages (from aiohttp!=4.0.0a0,!=4.0.0a1->fsspec[http]<=2025.3.0,>=2023.1.0->datasets) (1.3.2)\n",
      "Requirement already satisfied: attrs>=17.3.0 in /opt/conda/lib/python3.12/site-packages (from aiohttp!=4.0.0a0,!=4.0.0a1->fsspec[http]<=2025.3.0,>=2023.1.0->datasets) (23.2.0)\n",
      "Requirement already satisfied: frozenlist>=1.1.1 in /opt/conda/lib/python3.12/site-packages (from aiohttp!=4.0.0a0,!=4.0.0a1->fsspec[http]<=2025.3.0,>=2023.1.0->datasets) (1.6.0)\n",
      "Requirement already satisfied: multidict<7.0,>=4.5 in /opt/conda/lib/python3.12/site-packages (from aiohttp!=4.0.0a0,!=4.0.0a1->fsspec[http]<=2025.3.0,>=2023.1.0->datasets) (6.4.4)\n",
      "Requirement already satisfied: yarl<2.0,>=1.0 in /opt/conda/lib/python3.12/site-packages (from aiohttp!=4.0.0a0,!=4.0.0a1->fsspec[http]<=2025.3.0,>=2023.1.0->datasets) (1.20.0)\n",
      "Requirement already satisfied: six>=1.5 in /opt/conda/lib/python3.12/site-packages (from python-dateutil>=2.8.2->pandas->datasets) (1.17.0)\n",
      "Requirement already satisfied: propcache>=0.2.1 in /opt/conda/lib/python3.12/site-packages (from yarl<2.0,>=1.0->aiohttp!=4.0.0a0,!=4.0.0a1->fsspec[http]<=2025.3.0,>=2023.1.0->datasets) (0.3.1)\n"
     ]
    }
   ],
   "source": [
    "!pip install --upgrade datasets"
   ]
  },
  {
   "cell_type": "code",
   "execution_count": 2,
   "id": "1694eb50-3f0f-4fb4-88a2-48ff4f9fd5ee",
   "metadata": {},
   "outputs": [
    {
     "name": "stdout",
     "output_type": "stream",
     "text": [
      "Collecting gpt4all\n",
      "  Using cached gpt4all-2.8.2-py3-none-manylinux1_x86_64.whl.metadata (4.8 kB)\n",
      "Requirement already satisfied: requests in /opt/conda/lib/python3.12/site-packages (from gpt4all) (2.32.3)\n",
      "Requirement already satisfied: tqdm in /opt/conda/lib/python3.12/site-packages (from gpt4all) (4.67.1)\n",
      "Requirement already satisfied: charset_normalizer<4,>=2 in /opt/conda/lib/python3.12/site-packages (from requests->gpt4all) (3.4.2)\n",
      "Requirement already satisfied: idna<4,>=2.5 in /opt/conda/lib/python3.12/site-packages (from requests->gpt4all) (3.10)\n",
      "Requirement already satisfied: urllib3<3,>=1.21.1 in /opt/conda/lib/python3.12/site-packages (from requests->gpt4all) (2.4.0)\n",
      "Requirement already satisfied: certifi>=2017.4.17 in /opt/conda/lib/python3.12/site-packages (from requests->gpt4all) (2025.4.26)\n",
      "Using cached gpt4all-2.8.2-py3-none-manylinux1_x86_64.whl (121.6 MB)\n",
      "Installing collected packages: gpt4all\n",
      "Successfully installed gpt4all-2.8.2\n"
     ]
    }
   ],
   "source": [
    "!pip install gpt4all"
   ]
  },
  {
   "cell_type": "code",
   "execution_count": 3,
   "id": "93192d2c-1531-4882-ae39-474b76a28f2d",
   "metadata": {},
   "outputs": [
    {
     "data": {
      "text/plain": [
       "True"
      ]
     },
     "execution_count": 3,
     "metadata": {},
     "output_type": "execute_result"
    }
   ],
   "source": [
    "import os\n",
    "import pandas as pd\n",
    "import numpy as np\n",
    "import matplotlib.pyplot as plt\n",
    "import seaborn as sns\n",
    "import json\n",
    "import re\n",
    "import time\n",
    "from datetime import datetime\n",
    "from tqdm import tqdm\n",
    "from openai import OpenAI\n",
    "from dotenv import load_dotenv\n",
    "try:\n",
    "    from gpt4all import GPT4All\n",
    "except ImportError:\n",
    "    GPT4All = None\n",
    "from sklearn.metrics import (\n",
    "    accuracy_score, precision_score, recall_score, f1_score, roc_auc_score,\n",
    "    confusion_matrix, ConfusionMatrixDisplay, classification_report\n",
    ")\n",
    "\n",
    "tqdm.pandas()\n",
    "load_dotenv()"
   ]
  },
  {
   "cell_type": "code",
   "execution_count": null,
   "id": "129fc559-cfcc-4bc4-80b1-e308703ff974",
   "metadata": {},
   "outputs": [],
   "source": [
    "# Test the function\n",
    "test_text = \"\"\"\n",
    "\"The German government, apparently,  puts the number of German citizens killed in the terrible disruption after WWII at 2 to 2.5 million. Other estimates are lower . . . as much as 2/3's lower. Is it really your contention that they were all massacred by Jews? \n",
    "\n",
    "Did they teach you this pestiferous crap at Stanford? You should ask for your money back. !\"\n",
    "\"\"\"\n",
    "\n",
    "result = predict_with_model(test_text)\n",
    "# print(f\"Ground Truth: 1 - toxic in original downloaded dataset. This will be corrected\")\n",
    "print(f\"Moderation result (1=toxic, 0=non-toxic): {result}\")"
   ]
  },
  {
   "cell_type": "code",
   "execution_count": null,
   "id": "28a6d36c-69db-4954-a536-d65585dba0a1",
   "metadata": {},
   "outputs": [],
   "source": [
    "# Test the function\n",
    "test_text = \"\"\"\n",
    "\"Political motivations, and parties aside. I would love to know peoples actual thoughts on this. Good. Bad? Could we actually get bipartisan support or is it a pipe dream. \n",
    "\n",
    "Additionally, the idea of a high speed transit in the windsor to toronto, and maybe in the future toronto to montreal corridors (which is like half of Canada's population) is one that may be interesting. There isn't much debate that infrastructure like this can massively foster growth along the route, but there is also the price factor. People don't like it in their backyard. \n",
    "\n",
    "Also, since this will be costly regardless, I would be curious price comparisons between HSR and Maglev. Mostly because the latter is more expensive but will require reduced maintenance costs whilst also having the advantage of being far quieter, likely reducing \"\"NIMBY\"\" BS. Not to mention it would be a great selling point of \"\"hey, look at our futuresque shit that travels at speeds that rival planes\"\".\"\n",
    "\"\"\"\n",
    "result = predict_with_model(test_text)\n",
    "# print(f\"Ground Truth: 1 - toxic in original downloaded dataset. This will be corrected\")\n",
    "print(f\"Moderation result (1=toxic, 0=non-toxic): {result}\")"
   ]
  },
  {
   "cell_type": "code",
   "execution_count": null,
   "id": "87f4dc26-5036-4b99-ab21-bc1e2f7a44b7",
   "metadata": {},
   "outputs": [],
   "source": [
    "# Test the function\n",
    "test_text = \"\"\"\n",
    "Merkel smart and progressive. Trump not in the least bit smart and utterly regressive. The US will be the unconditional loser as the world turns away, in everything from trade and tourism to science and collaboration. What an utter and avoidable waste. aMErica.\n",
    "\"\"\"\n",
    "result = predict_with_model(test_text)\n",
    "# print(f\"Ground Truth: 1 - toxic in original downloaded dataset. This will be corrected\")\n",
    "print(f\"Moderation result (1=toxic, 0=non-toxic): {result}\")"
   ]
  },
  {
   "cell_type": "markdown",
   "id": "5d173498-0dcf-4c9b-8169-f40e7e6c4710",
   "metadata": {},
   "source": [
    "# Load and sample dataset"
   ]
  },
  {
   "cell_type": "code",
   "execution_count": 34,
   "id": "1885edab-0f36-4b89-94c4-ef3e9798430e",
   "metadata": {},
   "outputs": [
    {
     "name": "stdout",
     "output_type": "stream",
     "text": [
      "Dataset balanced: [20, 20]\n"
     ]
    }
   ],
   "source": [
    "# Load and sample data\n",
    "df_test = pd.read_csv(\"/home/sagemaker-user/test.csv\")\n",
    "n_samples = 20\n",
    "sample_df = pd.concat([\n",
    "    df_test[df_test[\"label\"] == 1].sample(n=n_samples, random_state=42),\n",
    "    df_test[df_test[\"label\"] == 0].sample(n=n_samples, random_state=42)\n",
    "]).sample(frac=1, random_state=42).reset_index(drop=True)\n",
    "\n",
    "print(f\"Dataset balanced: {sample_df['label'].value_counts().tolist()}\")"
   ]
  },
  {
   "cell_type": "markdown",
   "id": "9eb26eb8-f022-46db-8e49-4549e3322cbc",
   "metadata": {},
   "source": [
    "# Model configuration - Mistral-7B-v2"
   ]
  },
  {
   "cell_type": "code",
   "execution_count": 32,
   "id": "d773c3d9-84e7-43cb-a272-e51dea1df961",
   "metadata": {},
   "outputs": [
    {
     "name": "stdout",
     "output_type": "stream",
     "text": [
      "Model configuration completed\n"
     ]
    }
   ],
   "source": [
    "# Model configuration\n",
    "MODEL_TYPE = \"mistral\"  # Options: \"deepseek\", \"gpt4all\", \"mistral\"\n",
    "DEEPSEEK_MODEL = \"deepseek-ai/DeepSeek-R1-Distill-Llama-8B\"\n",
    "GPT4ALL_MODEL = \"Meta-Llama-3-8B-Instruct.Q4_0.gguf\"\n",
    "GPT4ALL_MODEL_PATH = \"/home/sagemaker-user/harmfull-detection/models/\"\n",
    "MISTRAL_MODEL = \"/tmp/models/mistral-7b-v0-2\"\n",
    "# Initialize clients\n",
    "if MODEL_TYPE == \"deepseek\":\n",
    "    client = OpenAI(\n",
    "        api_key=\"dummy\",\n",
    "        base_url=\"http://k8s-deepseek-deepseek-e92cca8149-b20547a64509f06f.elb.eu-west-1.amazonaws.com/v1\"\n",
    "    )\n",
    "elif MODEL_TYPE == \"mistral\":\n",
    "    client = OpenAI(\n",
    "        api_key=\"dummy\",\n",
    "        base_url=\"http://k8s-default-mistral-b0a014736f-9c6f4fd49fa67286.elb.us-east-1.amazonaws.com/v1\"\n",
    "    )    \n",
    "elif MODEL_TYPE == \"gpt4all\":\n",
    "    if GPT4All is None:\n",
    "        raise ImportError(\"Install gpt4all: pip install gpt4all\")\n",
    "    \n",
    "    model_file = os.path.join(GPT4ALL_MODEL_PATH, GPT4ALL_MODEL)\n",
    "    if os.path.exists(model_file):\n",
    "        print(f\"Loading cached model from {model_file}\")\n",
    "        client = GPT4All(model_name=GPT4ALL_MODEL, model_path=GPT4ALL_MODEL_PATH, allow_download=False)\n",
    "    else:\n",
    "        print(f\"Downloading model to {GPT4ALL_MODEL_PATH}\")\n",
    "        os.makedirs(GPT4ALL_MODEL_PATH, exist_ok=True)\n",
    "        client = GPT4All(model_name=GPT4ALL_MODEL, model_path=GPT4ALL_MODEL_PATH)\n",
    "\n",
    "def predict_with_model(text):\n",
    "    # Define the guidelines\n",
    "    system_guidelines = \"\"\"You are a content moderation assistant. Analyze content according to these guidelines:\n",
    "\n",
    "Block action for: hate speech, political extremism, manipulation/deception, violence/threats, explicit sexual content, severe harassment, dangerous misinformation, criminal activities, self-harm content\n",
    "\n",
    "Warn action for: mild profanity, mild insults, potentially misleading content, borderline cases\n",
    "\n",
    "Allow action for: safe content, constructive criticism, factual discussions, normal conversation\n",
    "\n",
    "Set confidence level based on the clarity and severity of the violation (0.0-1.0).\n",
    "Always include relevant categories in the response.\n",
    "\n",
    "Respond ONLY with JSON.\"\"\"\n",
    "\n",
    "    try:\n",
    "        # Combine system guidelines and user prompt differently based on model type\n",
    "        if MODEL_TYPE in [\"deepseek\", \"mistral\"]:\n",
    "            prompt = f'Analyze this message and respond ONLY with JSON: {{\"action\": \"allow|warn|block|timeout\", \"confidence\": 0.0-1.0, \"categories\": [\"list of violation types\"]}}: \"{text}\"'\n",
    "            \n",
    "            response = client.chat.completions.create(\n",
    "                model=MISTRAL_MODEL if MODEL_TYPE == \"mistral\" else DEEPSEEK_MODEL,\n",
    "                messages=[\n",
    "                    {\"role\": \"system\", \"content\": system_guidelines},\n",
    "                    {\"role\": \"user\", \"content\": prompt}\n",
    "                ],\n",
    "                temperature=0\n",
    "            )\n",
    "            reply = response.choices[0].message.content.strip()\n",
    "            \n",
    "        elif MODEL_TYPE == \"gpt4all\":\n",
    "            # For GPT4All, combine the guidelines and prompt into a single string\n",
    "            combined_prompt = f\"\"\"{system_guidelines}\n",
    "\n",
    "Analyze this message: \"{text}\"\n",
    "\n",
    "Respond with JSON only in this format: {{\"action\": \"allow|warn|block|timeout\", \"confidence\": 0.0-1.0, \"categories\": [\"list of violation types\"]}}\"\"\"\n",
    "\n",
    "            with client.chat_session():\n",
    "                reply = client.generate(combined_prompt, max_tokens=1024)\n",
    "            \n",
    "        print(\"Model output:\", reply)  # debugging\n",
    "        \n",
    "        json_match = re.search(r'\\{.*\\}', reply, re.DOTALL)\n",
    "        if json_match:\n",
    "            result = json.loads(json_match.group())\n",
    "            \n",
    "            # Define harmful categories\n",
    "            harmful_categories = {\n",
    "                \"Insults\", \"Hate speech\", \"Violence\", \"Profanity\", \n",
    "                \"Sexual\", \"Graphic\", \"Violence or threat\", \"Political Extremism\",\n",
    "                \"Manipulation and Deception\", \"Harassment\", \"Misinformation\",\n",
    "                \"Criminal Activities\", \"Self-harm\"\n",
    "            }\n",
    "            \n",
    "            # Check if action is block/warn OR if any harmful category is present\n",
    "            action = result.get(\"action\", \"\").upper()\n",
    "            categories = result.get(\"categories\", [])\n",
    "            \n",
    "            is_harmful = (\n",
    "                action in [\"BLOCK\", \"WARN\"] or\n",
    "                any(cat in harmful_categories for cat in categories)\n",
    "            )\n",
    "            \n",
    "            return 1 if is_harmful else 0\n",
    "        return 0\n",
    "    except:\n",
    "        return 0  \n",
    "\n",
    "def measure_inference_times(texts, predict_fn):\n",
    "    times, predictions = [], []\n",
    "    for text in tqdm(texts, desc=\"Processing texts\"):\n",
    "        start = time.time()\n",
    "        pred = predict_fn(text)\n",
    "        times.append(time.time() - start)\n",
    "        predictions.append(pred)\n",
    "    return predictions, times\n",
    "\n",
    "def generate_performance_report(y_true, y_pred, inference_times=None):\n",
    "    print(\"\\n📊 Classification Report:\")\n",
    "    print(classification_report(y_true, y_pred))\n",
    "    \n",
    "    if inference_times:\n",
    "        times_ms = np.array(inference_times) * 1000\n",
    "        print(f\"\\n⏱️ Mean inference time: {np.mean(times_ms):.2f}ms\")\n",
    "\n",
    "print(\"Model configuration completed\")"
   ]
  },
  {
   "cell_type": "code",
   "execution_count": 33,
   "id": "2d35c38e-36e7-41bb-a3bc-f26a330d0f2d",
   "metadata": {},
   "outputs": [
    {
     "name": "stdout",
     "output_type": "stream",
     "text": [
      "Model output: {\"action\": \"warn\", \"confidence\": 0.5, \"categories\": [\"severe harassment\"]}\n",
      "Moderation result (1=toxic, 0=non-toxic): 1\n"
     ]
    }
   ],
   "source": [
    "# Test the function\n",
    "test_text = \"You are a terrible person!\"\n",
    "result = predict_with_model(test_text)\n",
    "print(f\"Moderation result (1=toxic, 0=non-toxic): {result}\")"
   ]
  },
  {
   "cell_type": "code",
   "execution_count": 35,
   "id": "540e8cf9-b458-4a36-ab78-04021a35c6d7",
   "metadata": {},
   "outputs": [
    {
     "name": "stdout",
     "output_type": "stream",
     "text": [
      "\n",
      "🚀 Running inference with mistral...\n"
     ]
    },
    {
     "name": "stderr",
     "output_type": "stream",
     "text": [
      "Processing texts:   2%|▎         | 1/40 [00:01<00:52,  1.35s/it]"
     ]
    },
    {
     "name": "stdout",
     "output_type": "stream",
     "text": [
      "Model output: {\"action\": \"allow\", \"confidence\": 0.1, \"categories\": [\"potentially misleading content\"]}\n"
     ]
    },
    {
     "name": "stderr",
     "output_type": "stream",
     "text": [
      "Processing texts:   5%|▌         | 2/40 [00:02<00:54,  1.43s/it]"
     ]
    },
    {
     "name": "stdout",
     "output_type": "stream",
     "text": [
      "Model output: {\"action\": \"warn\", \"confidence\": 0.3, \"categories\": [\"mild insults\", \"potentially misleading content\"]}\n"
     ]
    },
    {
     "name": "stderr",
     "output_type": "stream",
     "text": [
      "Processing texts:   8%|▊         | 3/40 [00:04<00:52,  1.41s/it]"
     ]
    },
    {
     "name": "stdout",
     "output_type": "stream",
     "text": [
      "Model output: {\"action\": \"allow\", \"confidence\": 0.0, \"categories\": [\"constructive criticism\", \"factual discussions\"]}\n"
     ]
    },
    {
     "name": "stderr",
     "output_type": "stream",
     "text": [
      "Processing texts:  10%|█         | 4/40 [00:05<00:50,  1.39s/it]"
     ]
    },
    {
     "name": "stdout",
     "output_type": "stream",
     "text": [
      "Model output: {\"action\": \"allow\", \"confidence\": 0.1, \"categories\": [\"constructive criticism\", \"factual discussions\"]}\n"
     ]
    },
    {
     "name": "stderr",
     "output_type": "stream",
     "text": [
      "Processing texts:  12%|█▎        | 5/40 [00:07<00:49,  1.40s/it]"
     ]
    },
    {
     "name": "stdout",
     "output_type": "stream",
     "text": [
      "Model output: {\"action\": \"warn\", \"confidence\": 0.5, \"categories\": [\"mild harassment\", \"hate speech\"]}\n"
     ]
    },
    {
     "name": "stderr",
     "output_type": "stream",
     "text": [
      "Processing texts:  15%|█▌        | 6/40 [00:08<00:46,  1.36s/it]"
     ]
    },
    {
     "name": "stdout",
     "output_type": "stream",
     "text": [
      "Model output: {\"action\": \"allow\", \"confidence\": 0.1, \"categories\": [\"potentially misleading content\"]}\n"
     ]
    },
    {
     "name": "stderr",
     "output_type": "stream",
     "text": [
      "Processing texts:  18%|█▊        | 7/40 [00:09<00:44,  1.36s/it]"
     ]
    },
    {
     "name": "stdout",
     "output_type": "stream",
     "text": [
      "Model output: {\"action\": \"allow\", \"confidence\": 0.0, \"categories\": [\"normal conversation\", \"constructive criticism\"]}\n"
     ]
    },
    {
     "name": "stderr",
     "output_type": "stream",
     "text": [
      "Processing texts:  20%|██        | 8/40 [00:10<00:40,  1.27s/it]"
     ]
    },
    {
     "name": "stdout",
     "output_type": "stream",
     "text": [
      "Model output: {\"action\": \"allow\", \"confidence\": 0.0, \"categories\": []}\n"
     ]
    },
    {
     "name": "stderr",
     "output_type": "stream",
     "text": [
      "Processing texts:  22%|██▎       | 9/40 [00:11<00:39,  1.27s/it]"
     ]
    },
    {
     "name": "stdout",
     "output_type": "stream",
     "text": [
      "Model output: {\"action\": \"warn\", \"confidence\": 0.3, \"categories\": [\"potentially misleading content\"]}\n"
     ]
    },
    {
     "name": "stderr",
     "output_type": "stream",
     "text": [
      "Processing texts:  25%|██▌       | 10/40 [00:13<00:40,  1.34s/it]"
     ]
    },
    {
     "name": "stdout",
     "output_type": "stream",
     "text": [
      "Model output: {\"action\": \"warn\", \"confidence\": 0.3, \"categories\": [\"mild insults\", \"potentially misleading content\"]}\n"
     ]
    },
    {
     "name": "stderr",
     "output_type": "stream",
     "text": [
      "Processing texts:  28%|██▊       | 11/40 [00:14<00:37,  1.30s/it]"
     ]
    },
    {
     "name": "stdout",
     "output_type": "stream",
     "text": [
      "Model output: {\"action\": \"allow\", \"confidence\": 0.1, \"categories\": [\"constructive criticism\"]}\n"
     ]
    },
    {
     "name": "stderr",
     "output_type": "stream",
     "text": [
      "Processing texts:  30%|███       | 12/40 [00:16<00:37,  1.35s/it]"
     ]
    },
    {
     "name": "stdout",
     "output_type": "stream",
     "text": [
      "Model output: {\"action\": \"warn\", \"confidence\": 0.3, \"categories\": [\"mild insults\", \"potentially misleading content\"]}\n"
     ]
    },
    {
     "name": "stderr",
     "output_type": "stream",
     "text": [
      "Processing texts:  32%|███▎      | 13/40 [00:17<00:36,  1.35s/it]"
     ]
    },
    {
     "name": "stdout",
     "output_type": "stream",
     "text": [
      "Model output: {\"action\": \"allow\", \"confidence\": 0.1, \"categories\": [\"constructive criticism\", \"normal conversation\"]}\n"
     ]
    },
    {
     "name": "stderr",
     "output_type": "stream",
     "text": [
      "Processing texts:  35%|███▌      | 14/40 [00:22<01:00,  2.33s/it]"
     ]
    },
    {
     "name": "stdout",
     "output_type": "stream",
     "text": [
      "Model output: {\"action\": \"warn\", \"confidence\": 0.5, \"categories\": [\"mild insults\", \"potentially misleading content\"]}\n",
      "\n",
      "This message contains mild insults towards certain groups of people and potentially misleading statements about demographic data. However, it does not contain any clear hate speech, political extremism, manipulation/deception, violence/threats, explicit sexual content, severe harassment, dangerous misinformation, criminal activities, or self-harm content. The confidence level is set at 0.5 due to the presence of mild insults and potentially misleading statements.\n"
     ]
    },
    {
     "name": "stderr",
     "output_type": "stream",
     "text": [
      "Processing texts:  38%|███▊      | 15/40 [00:24<00:55,  2.24s/it]"
     ]
    },
    {
     "name": "stdout",
     "output_type": "stream",
     "text": [
      "Model output: {\"action\": \"allow\", \"confidence\": 0.1, \"categories\": [\"potentially misleading content\", \"factual discussions\"]}\n"
     ]
    },
    {
     "name": "stderr",
     "output_type": "stream",
     "text": [
      "Processing texts:  40%|████      | 16/40 [00:25<00:48,  2.01s/it]"
     ]
    },
    {
     "name": "stdout",
     "output_type": "stream",
     "text": [
      "Model output: {\"action\": \"warn\", \"confidence\": 0.5, \"categories\": [\"potentially misleading content\", \"mild harassment\"]}\n"
     ]
    },
    {
     "name": "stderr",
     "output_type": "stream",
     "text": [
      "Processing texts:  42%|████▎     | 17/40 [00:27<00:44,  1.92s/it]"
     ]
    },
    {
     "name": "stdout",
     "output_type": "stream",
     "text": [
      "Model output: {\"action\": \"allow\", \"confidence\": 0.1, \"categories\": [\"mild insults\", \"potentially misleading content\", \"discussion of controversial topics\"]}\n"
     ]
    },
    {
     "name": "stderr",
     "output_type": "stream",
     "text": [
      "Processing texts:  45%|████▌     | 18/40 [00:28<00:37,  1.72s/it]"
     ]
    },
    {
     "name": "stdout",
     "output_type": "stream",
     "text": [
      "Model output: {\"action\": \"allow\", \"confidence\": 0.1, \"categories\": [\"mild insults\"]}\n"
     ]
    },
    {
     "name": "stderr",
     "output_type": "stream",
     "text": [
      "Processing texts:  48%|████▊     | 19/40 [00:30<00:34,  1.64s/it]"
     ]
    },
    {
     "name": "stdout",
     "output_type": "stream",
     "text": [
      "Model output: {\"action\": \"warn\", \"confidence\": 0.5, \"categories\": [\"mild insults\", \"potentially misleading content\"]}\n"
     ]
    },
    {
     "name": "stderr",
     "output_type": "stream",
     "text": [
      "Processing texts:  50%|█████     | 20/40 [00:34<00:50,  2.53s/it]"
     ]
    },
    {
     "name": "stdout",
     "output_type": "stream",
     "text": [
      "Model output: {\"action\": \"allow\", \"confidence\": 0.1, \"categories\": [\"harassment\"]}\n",
      "\n",
      "This message contains personal experiences and opinions, with no clear violation of hate speech, political extremism, manipulation/deception, violence/threats, explicit sexual content, severe harassment, dangerous misinformation, criminal activities, or self-harm content. The use of the word \"he\" and the statement about feeling someone has done harm suggest harassment, but the tone is not threatening or overly aggressive. The confidence level is set low due to the potential for misinterpretation.\n"
     ]
    },
    {
     "name": "stderr",
     "output_type": "stream",
     "text": [
      "Processing texts:  52%|█████▎    | 21/40 [00:35<00:40,  2.14s/it]"
     ]
    },
    {
     "name": "stdout",
     "output_type": "stream",
     "text": [
      "Model output: {\"action\": \"warn\", \"confidence\": 0.2, \"categories\": [\"mild insults\"]}\n"
     ]
    },
    {
     "name": "stderr",
     "output_type": "stream",
     "text": [
      "Processing texts:  55%|█████▌    | 22/40 [00:37<00:34,  1.92s/it]"
     ]
    },
    {
     "name": "stdout",
     "output_type": "stream",
     "text": [
      "Model output: {\"action\": \"block\", \"confidence\": 0.8, \"categories\": [\"political extremism\", \"hate speech\"]}\n"
     ]
    },
    {
     "name": "stderr",
     "output_type": "stream",
     "text": [
      "Processing texts:  57%|█████▊    | 23/40 [00:38<00:29,  1.72s/it]"
     ]
    },
    {
     "name": "stdout",
     "output_type": "stream",
     "text": [
      "Model output: {\"action\": \"allow\", \"confidence\": 0.1, \"categories\": [\"mild insults\"]}\n"
     ]
    },
    {
     "name": "stderr",
     "output_type": "stream",
     "text": [
      "Processing texts:  60%|██████    | 24/40 [00:39<00:25,  1.62s/it]"
     ]
    },
    {
     "name": "stdout",
     "output_type": "stream",
     "text": [
      "Model output: {\"action\": \"allow\", \"confidence\": 0.0, \"categories\": [\"constructive criticism\", \"factual discussion\"]}\n"
     ]
    },
    {
     "name": "stderr",
     "output_type": "stream",
     "text": [
      "Processing texts:  62%|██████▎   | 25/40 [00:41<00:23,  1.58s/it]"
     ]
    },
    {
     "name": "stdout",
     "output_type": "stream",
     "text": [
      "Model output: {\"action\": \"allow\", \"confidence\": 0.0, \"categories\": [\"safe content\", \"factual discussions\", \"normal conversation\"]}\n"
     ]
    },
    {
     "name": "stderr",
     "output_type": "stream",
     "text": [
      "Processing texts:  65%|██████▌   | 26/40 [00:44<00:30,  2.17s/it]"
     ]
    },
    {
     "name": "stdout",
     "output_type": "stream",
     "text": [
      "Model output: {\"action\": \"allow\", \"confidence\": 0.0, \"categories\": [\"normal conversation\"]}\n",
      "\n",
      "This message does not contain any hate speech, political extremism, manipulation/deception, violence/threats, explicit sexual content, severe harassment, dangerous misinformation, criminal activities, or self-harm content. It is a normal conversation about ensuring that someone is held accountable for their actions before taking any quick punishments.\n"
     ]
    },
    {
     "name": "stderr",
     "output_type": "stream",
     "text": [
      "Processing texts:  68%|██████▊   | 27/40 [00:46<00:25,  1.95s/it]"
     ]
    },
    {
     "name": "stdout",
     "output_type": "stream",
     "text": [
      "Model output: {\"action\": \"allow\", \"confidence\": 0.1, \"categories\": [\"potentially misleading content\", \"borderline cases\"]}\n"
     ]
    },
    {
     "name": "stderr",
     "output_type": "stream",
     "text": [
      "Processing texts:  70%|███████   | 28/40 [00:47<00:21,  1.78s/it]"
     ]
    },
    {
     "name": "stdout",
     "output_type": "stream",
     "text": [
      "Model output: {\"action\": \"allow\", \"confidence\": 0.0, \"categories\": [\"constructive criticism\", \"factual discussions\"]}\n"
     ]
    },
    {
     "name": "stderr",
     "output_type": "stream",
     "text": [
      "Processing texts:  72%|███████▎  | 29/40 [00:49<00:18,  1.68s/it]"
     ]
    },
    {
     "name": "stdout",
     "output_type": "stream",
     "text": [
      "Model output: {\"action\": \"warn\", \"confidence\": 0.3, \"categories\": [\"severe harassment\", \"mild insults\"]}\n"
     ]
    },
    {
     "name": "stderr",
     "output_type": "stream",
     "text": [
      "Processing texts:  75%|███████▌  | 30/40 [00:50<00:16,  1.62s/it]"
     ]
    },
    {
     "name": "stdout",
     "output_type": "stream",
     "text": [
      "Model output: {\"action\": \"warn\", \"confidence\": 0.3, \"categories\": [\"potentially misleading content\", \"mild insults\"]}\n"
     ]
    },
    {
     "name": "stderr",
     "output_type": "stream",
     "text": [
      "Processing texts:  78%|███████▊  | 31/40 [00:51<00:13,  1.50s/it]"
     ]
    },
    {
     "name": "stdout",
     "output_type": "stream",
     "text": [
      "Model output: {\"action\": \"warn\", \"confidence\": 0.3, \"categories\": [\"political extremism\"]}\n"
     ]
    },
    {
     "name": "stderr",
     "output_type": "stream",
     "text": [
      "Processing texts:  80%|████████  | 32/40 [00:53<00:11,  1.44s/it]"
     ]
    },
    {
     "name": "stdout",
     "output_type": "stream",
     "text": [
      "Model output: {\"action\": \"warn\", \"confidence\": 0.2, \"categories\": [\"potentially misleading content\"]}\n"
     ]
    },
    {
     "name": "stderr",
     "output_type": "stream",
     "text": [
      "Processing texts:  82%|████████▎ | 33/40 [00:54<00:10,  1.43s/it]"
     ]
    },
    {
     "name": "stdout",
     "output_type": "stream",
     "text": [
      "Model output: {\"action\": \"warn\", \"confidence\": 0.3, \"categories\": [\"severe harassment\", \"hate speech\"]}\n"
     ]
    },
    {
     "name": "stderr",
     "output_type": "stream",
     "text": [
      "Processing texts:  85%|████████▌ | 34/40 [00:55<00:08,  1.38s/it]"
     ]
    },
    {
     "name": "stdout",
     "output_type": "stream",
     "text": [
      "Model output: {\"action\": \"allow\", \"confidence\": 0.0, \"categories\": [\"potentially misleading content\"]}\n"
     ]
    },
    {
     "name": "stderr",
     "output_type": "stream",
     "text": [
      "Processing texts:  88%|████████▊ | 35/40 [00:57<00:06,  1.34s/it]"
     ]
    },
    {
     "name": "stdout",
     "output_type": "stream",
     "text": [
      "Model output: {\"action\": \"allow\", \"confidence\": 0.1, \"categories\": [\"mild insults\"]}\n"
     ]
    },
    {
     "name": "stderr",
     "output_type": "stream",
     "text": [
      "Processing texts:  90%|█████████ | 36/40 [00:58<00:05,  1.37s/it]"
     ]
    },
    {
     "name": "stdout",
     "output_type": "stream",
     "text": [
      "Model output: {\"action\": \"allow\", \"confidence\": 0.1, \"categories\": [\"potentially misleading content\", \"constructive criticism\"]}\n"
     ]
    },
    {
     "name": "stderr",
     "output_type": "stream",
     "text": [
      "Processing texts:  92%|█████████▎| 37/40 [00:59<00:03,  1.33s/it]"
     ]
    },
    {
     "name": "stdout",
     "output_type": "stream",
     "text": [
      "Model output: {\"action\": \"warn\", \"confidence\": 0.3, \"categories\": [\"severe harassment\"]}\n"
     ]
    },
    {
     "name": "stderr",
     "output_type": "stream",
     "text": [
      "Processing texts:  95%|█████████▌| 38/40 [01:01<00:02,  1.38s/it]"
     ]
    },
    {
     "name": "stdout",
     "output_type": "stream",
     "text": [
      "Model output: {\"action\": \"allow\", \"confidence\": 0.1, \"categories\": [\"potentially misleading content\", \"mild insults\"]}\n"
     ]
    },
    {
     "name": "stderr",
     "output_type": "stream",
     "text": [
      "Processing texts:  98%|█████████▊| 39/40 [01:02<00:01,  1.38s/it]"
     ]
    },
    {
     "name": "stdout",
     "output_type": "stream",
     "text": [
      "Model output: {\"action\": \"allow\", \"confidence\": 0.0, \"categories\": [\"constructive criticism\", \"factual discussions\"]}\n"
     ]
    },
    {
     "name": "stderr",
     "output_type": "stream",
     "text": [
      "Processing texts: 100%|██████████| 40/40 [01:03<00:00,  1.60s/it]"
     ]
    },
    {
     "name": "stdout",
     "output_type": "stream",
     "text": [
      "Model output: {\"action\": \"allow\", \"confidence\": 0.0, \"categories\": [\"potentially misleading content\"]}\n"
     ]
    },
    {
     "name": "stderr",
     "output_type": "stream",
     "text": [
      "\n"
     ]
    }
   ],
   "source": [
    "# Run predictions with timing\n",
    "print(f\"\\n🚀 Running inference with {MODEL_TYPE}...\")\n",
    "predictions, inference_times = measure_inference_times(sample_df[\"text\"], predict_with_model)"
   ]
  },
  {
   "cell_type": "code",
   "execution_count": 36,
   "id": "91e58424-a18b-407b-8958-92dd46cf9f29",
   "metadata": {},
   "outputs": [
    {
     "name": "stdout",
     "output_type": "stream",
     "text": [
      "\n",
      "📊 Metrics:\n",
      "Accuracy: 0.6500\n",
      "Precision: 0.6875\n",
      "Recall: 0.5500\n",
      "F1: 0.6111\n",
      "AUC: 0.6500\n",
      "\n",
      "📊 Classification Report:\n",
      "              precision    recall  f1-score   support\n",
      "\n",
      "           0       0.62      0.75      0.68        20\n",
      "           1       0.69      0.55      0.61        20\n",
      "\n",
      "    accuracy                           0.65        40\n",
      "   macro avg       0.66      0.65      0.65        40\n",
      "weighted avg       0.66      0.65      0.65        40\n",
      "\n",
      "\n",
      "⏱️ Mean inference time: 1597.95ms\n"
     ]
    },
    {
     "data": {
      "image/png": "[encoded data removed]",
      "text/plain": [
       "<Figure size 640x480 with 2 Axes>"
      ]
     },
     "metadata": {},
     "output_type": "display_data"
    },
    {
     "name": "stderr",
     "output_type": "stream",
     "text": [
      "/tmp/ipykernel_1282/2873962656.py:28: FutureWarning: \n",
      "\n",
      "Passing `palette` without assigning `hue` is deprecated and will be removed in v0.14.0. Assign the `x` variable to `hue` and set `legend=False` for the same effect.\n",
      "\n",
      "  sns.barplot(x=list(metrics.keys()), y=list(metrics.values()), palette=\"mako\")\n"
     ]
    },
    {
     "data": {
      "image/png": "[encoded data removed]",
      "text/plain": [
       "<Figure size 800x500 with 1 Axes>"
      ]
     },
     "metadata": {},
     "output_type": "display_data"
    },
    {
     "name": "stdout",
     "output_type": "stream",
     "text": [
      "\n",
      "💾 Results saved to moderation_results_mistral_20250813_162120.csv\n"
     ]
    }
   ],
   "source": [
    "# Evaluate\n",
    "y_true, y_pred = sample_df[\"label\"], predictions\n",
    "metrics = {\n",
    "    \"Accuracy\": accuracy_score(y_true, y_pred),\n",
    "    \"Precision\": precision_score(y_true, y_pred),\n",
    "    \"Recall\": recall_score(y_true, y_pred),\n",
    "    \"F1\": f1_score(y_true, y_pred),\n",
    "    \"AUC\": roc_auc_score(y_true, y_pred)\n",
    "}\n",
    "\n",
    "print(\"\\n📊 Metrics:\")\n",
    "for k, v in metrics.items():\n",
    "    print(f\"{k}: {v:.4f}\")\n",
    "\n",
    "generate_performance_report(y_true, y_pred, inference_times)\n",
    "\n",
    "\n",
    "# Confusion Matrix\n",
    "cm = confusion_matrix(y_true, y_pred)\n",
    "disp = ConfusionMatrixDisplay(confusion_matrix=cm, display_labels=[\"Not Toxic\", \"Toxic\"])\n",
    "disp.plot(cmap=plt.cm.Blues)\n",
    "plt.title(\"Confusion Matrix\")\n",
    "plt.tight_layout()\n",
    "plt.show()\n",
    "\n",
    "# Bar Plot of Metrics\n",
    "plt.figure(figsize=(8, 5))\n",
    "sns.barplot(x=list(metrics.keys()), y=list(metrics.values()), palette=\"mako\")\n",
    "plt.title(\"Model Performance Metrics (Balanced Sample)\")\n",
    "plt.ylabel(\"Score\")\n",
    "plt.ylim(0, 1)\n",
    "plt.xticks(rotation=45)\n",
    "plt.tight_layout()\n",
    "plt.show()\n",
    "\n",
    "# Save results\n",
    "results_df = pd.DataFrame({\n",
    "    'text': sample_df[\"text\"],\n",
    "    'true_label': y_true,\n",
    "    'predicted_label': y_pred,\n",
    "    'inference_time_ms': np.array(inference_times) * 1000\n",
    "})\n",
    "timestamp = datetime.now().strftime('%Y%m%d_%H%M%S')\n",
    "results_df.to_csv(f'moderation_results_mistral_{timestamp}.csv', index=False)\n",
    "print(f\"\\n💾 Results saved to moderation_results_mistral_{timestamp}.csv\")    "
   ]
  },
  {
   "cell_type": "markdown",
   "id": "51190abd-81c1-4706-b05d-d01340c205f8",
   "metadata": {},
   "source": [
    "# Model configuration - DeepSeek R1-Distill-Llama-8B"
   ]
  },
  {
   "cell_type": "code",
   "execution_count": 41,
   "id": "34696bb3-b60f-47a7-b8c6-12c7676416cf",
   "metadata": {},
   "outputs": [
    {
     "name": "stdout",
     "output_type": "stream",
     "text": [
      "DeepSeek Model configuration completed\n"
     ]
    }
   ],
   "source": [
    "# Model configuration\n",
    "MODEL_TYPE = \"deepseek\"  # Options: \"deepseek\", \"gpt4all\", \"mistral\"\n",
    "DEEPSEEK_MODEL = \"deepseek-ai/DeepSeek-R1-Distill-Llama-8B\"\n",
    "GPT4ALL_MODEL = \"Meta-Llama-3-8B-Instruct.Q4_0.gguf\"\n",
    "GPT4ALL_MODEL_PATH = \"/home/sagemaker-user/harmfull-detection/models/\"\n",
    "MISTRAL_MODEL = \"/tmp/models/mistral-7b-v0-2\"\n",
    "# Initialize clients\n",
    "if MODEL_TYPE == \"deepseek\":\n",
    "    client = OpenAI(\n",
    "        api_key=\"dummy\",\n",
    "        base_url=\"http://k8s-deepseek-deepseek-e92cca8149-b20547a64509f06f.elb.eu-west-1.amazonaws.com/v1\"\n",
    "    )\n",
    "elif MODEL_TYPE == \"mistral\":\n",
    "    client = OpenAI(\n",
    "        api_key=\"dummy\",\n",
    "        base_url=\"http://k8s-default-mistral-b0a014736f-9c6f4fd49fa67286.elb.us-east-1.amazonaws.com/v1\"\n",
    "    )    \n",
    "elif MODEL_TYPE == \"gpt4all\":\n",
    "    if GPT4All is None:\n",
    "        raise ImportError(\"Install gpt4all: pip install gpt4all\")\n",
    "    \n",
    "    model_file = os.path.join(GPT4ALL_MODEL_PATH, GPT4ALL_MODEL)\n",
    "    if os.path.exists(model_file):\n",
    "        print(f\"Loading cached model from {model_file}\")\n",
    "        client = GPT4All(model_name=GPT4ALL_MODEL, model_path=GPT4ALL_MODEL_PATH, allow_download=False)\n",
    "    else:\n",
    "        print(f\"Downloading model to {GPT4ALL_MODEL_PATH}\")\n",
    "        os.makedirs(GPT4ALL_MODEL_PATH, exist_ok=True)\n",
    "        client = GPT4All(model_name=GPT4ALL_MODEL, model_path=GPT4ALL_MODEL_PATH)\n",
    "\n",
    "def predict_with_model(text):\n",
    "    # Define the guidelines\n",
    "    system_guidelines = \"\"\"You are a content moderation assistant. Analyze content according to these guidelines:\n",
    "\n",
    "Block action for: hate speech, political extremism, manipulation/deception, violence/threats, explicit sexual content, severe harassment, dangerous misinformation, criminal activities, self-harm content\n",
    "\n",
    "Warn action for: mild profanity, mild insults, potentially misleading content, borderline cases\n",
    "\n",
    "Allow action for: safe content, constructive criticism, factual discussions, normal conversation\n",
    "\n",
    "Set confidence level based on the clarity and severity of the violation (0.0-1.0).\n",
    "Always include relevant categories in the response.\n",
    "\n",
    "Respond ONLY with JSON.\"\"\"\n",
    "\n",
    "    try:\n",
    "        # Combine system guidelines and user prompt differently based on model type\n",
    "        if MODEL_TYPE in [\"deepseek\", \"mistral\"]:\n",
    "            prompt = f'Analyze this message and respond ONLY with JSON: {{\"action\": \"allow|warn|block|timeout\", \"confidence\": 0.0-1.0, \"categories\": [\"list of violation types\"]}}: \"{text}\"'\n",
    "            \n",
    "            response = client.chat.completions.create(\n",
    "                model=MISTRAL_MODEL if MODEL_TYPE == \"mistral\" else DEEPSEEK_MODEL,\n",
    "                messages=[\n",
    "                    {\"role\": \"system\", \"content\": system_guidelines},\n",
    "                    {\"role\": \"user\", \"content\": prompt}\n",
    "                ],\n",
    "                temperature=0\n",
    "            )\n",
    "            reply = response.choices[0].message.content.strip()\n",
    "            \n",
    "        elif MODEL_TYPE == \"gpt4all\":\n",
    "            # For GPT4All, combine the guidelines and prompt into a single string\n",
    "            combined_prompt = f\"\"\"{system_guidelines}\n",
    "\n",
    "Analyze this message: \"{text}\"\n",
    "\n",
    "Respond with JSON only in this format: {{\"action\": \"allow|warn|block|timeout\", \"confidence\": 0.0-1.0, \"categories\": [\"list of violation types\"]}}\"\"\"\n",
    "\n",
    "            with client.chat_session():\n",
    "                reply = client.generate(combined_prompt, max_tokens=1024)\n",
    "            \n",
    "        # print(\"Model output:\", reply)  # debugging - we don't need this for deepseek-r1\n",
    "        \n",
    "        json_match = re.search(r'\\{.*\\}', reply, re.DOTALL)\n",
    "        if json_match:\n",
    "            result = json.loads(json_match.group())\n",
    "            \n",
    "            # Define harmful categories\n",
    "            harmful_categories = {\n",
    "                \"Insults\", \"Hate speech\", \"Violence\", \"Profanity\", \n",
    "                \"Sexual\", \"Graphic\", \"Violence or threat\", \"Political Extremism\",\n",
    "                \"Manipulation and Deception\", \"Harassment\", \"Misinformation\",\n",
    "                \"Criminal Activities\", \"Self-harm\"\n",
    "            }\n",
    "            \n",
    "            # Check if action is block/warn OR if any harmful category is present\n",
    "            action = result.get(\"action\", \"\").upper()\n",
    "            categories = result.get(\"categories\", [])\n",
    "            \n",
    "            is_harmful = (\n",
    "                action in [\"BLOCK\", \"WARN\"] or\n",
    "                any(cat in harmful_categories for cat in categories)\n",
    "            )\n",
    "            \n",
    "            return 1 if is_harmful else 0\n",
    "        return 0\n",
    "    except:\n",
    "        return 0  \n",
    "\n",
    "def measure_inference_times(texts, predict_fn):\n",
    "    times, predictions = [], []\n",
    "    for text in tqdm(texts, desc=\"Processing texts\"):\n",
    "        start = time.time()\n",
    "        pred = predict_fn(text)\n",
    "        times.append(time.time() - start)\n",
    "        predictions.append(pred)\n",
    "    return predictions, times\n",
    "\n",
    "def generate_performance_report(y_true, y_pred, inference_times=None):\n",
    "    print(\"\\n📊 Classification Report:\")\n",
    "    print(classification_report(y_true, y_pred))\n",
    "    \n",
    "    if inference_times:\n",
    "        times_ms = np.array(inference_times) * 1000\n",
    "        print(f\"\\n⏱️ Mean inference time: {np.mean(times_ms):.2f}ms\")\n",
    "\n",
    "print(\"DeepSeek Model configuration completed\")"
   ]
  },
  {
   "cell_type": "code",
   "execution_count": 39,
   "id": "d171edbf-3588-43f2-9270-c4968e12e648",
   "metadata": {},
   "outputs": [
    {
     "name": "stdout",
     "output_type": "stream",
     "text": [
      "Model output: Okay, so I need to analyze this message: \"You are a terrible person!\" and decide whether to allow, warn, block, or timeout it. Let me go through the guidelines step by step.\n",
      "\n",
      "First, the categories to consider are hate speech, political extremism, manipulation/deception, violence/threats, explicit sexual content, severe harassment, dangerous misinformation, criminal activities, self-harm content. For each of these, I need to assess if the message fits.\n",
      "\n",
      "Hate speech: The message is calling someone a terrible person, which is a mild insult but not necessarily hate speech. Hate speech usually involves more severe or targeted attacks based on race, religion, etc. So probably not hate speech.\n",
      "\n",
      "Political extremism: The message doesn't mention anything political, so that's out.\n",
      "\n",
      "Manipulation/deception: There's no indication that the message is trying to deceive or manipulate. It's a straightforward insult.\n",
      "\n",
      "Violence/threats: No threats or violent language here. It's just an insult.\n",
      "\n",
      "Explicit sexual content: Definitely not. It's a personal insult.\n",
      "\n",
      "Severe harassment: Harassment can be severe, but this is a single insult. Without context, it's hard to say it's severe harassment.\n",
      "\n",
      "Dangerous misinformation: No, it's just an insult.\n",
      "\n",
      "Criminal activities: No, it's not encouraging any illegal actions.\n",
      "\n",
      "Self-harm content: No, it's not related to self-harm.\n",
      "\n",
      "So, the message is a mild insult. According to the guidelines, mild insults fall under the \"warn\" action. The confidence level is high because it's clear that the message is a mild insult, so confidence would be around 0.9.\n",
      "\n",
      "I should also include the relevant category, which is \"mild insults.\"\n",
      "</think>\n",
      "\n",
      "```json\n",
      "{\n",
      "  \"action\": \"warn\",\n",
      "  \"confidence\": 0.9,\n",
      "  \"categories\": [\"mild insults\"]\n",
      "}\n",
      "```\n",
      "Moderation result (1=toxic, 0=non-toxic): 1\n"
     ]
    }
   ],
   "source": [
    "# Test the function\n",
    "test_text = \"You are a terrible person!\"\n",
    "result = predict_with_model(test_text)\n",
    "print(f\"Moderation result (1=toxic, 0=non-toxic): {result}\")"
   ]
  },
  {
   "cell_type": "code",
   "execution_count": 42,
   "id": "7de95e5c-c4a3-4be2-8d74-f679771239ae",
   "metadata": {},
   "outputs": [
    {
     "name": "stdout",
     "output_type": "stream",
     "text": [
      "\n",
      "🚀 Running inference with deepseek...\n"
     ]
    },
    {
     "name": "stderr",
     "output_type": "stream",
     "text": [
      "Processing texts: 100%|██████████| 40/40 [09:17<00:00, 13.95s/it]\n"
     ]
    }
   ],
   "source": [
    "# Run predictions with timing\n",
    "print(f\"\\n🚀 Running inference with {MODEL_TYPE}...\")\n",
    "predictions, inference_times = measure_inference_times(sample_df[\"text\"], predict_with_model)"
   ]
  },
  {
   "cell_type": "code",
   "execution_count": 43,
   "id": "47541622-e78b-4774-a2ef-5c8380b5d29d",
   "metadata": {},
   "outputs": [
    {
     "name": "stdout",
     "output_type": "stream",
     "text": [
      "\n",
      "📊 Metrics:\n",
      "Accuracy: 0.7000\n",
      "Precision: 0.6667\n",
      "Recall: 0.8000\n",
      "F1: 0.7273\n",
      "AUC: 0.7000\n",
      "\n",
      "📊 Classification Report:\n",
      "              precision    recall  f1-score   support\n",
      "\n",
      "           0       0.75      0.60      0.67        20\n",
      "           1       0.67      0.80      0.73        20\n",
      "\n",
      "    accuracy                           0.70        40\n",
      "   macro avg       0.71      0.70      0.70        40\n",
      "weighted avg       0.71      0.70      0.70        40\n",
      "\n",
      "\n",
      "⏱️ Mean inference time: 13946.95ms\n"
     ]
    },
    {
     "data": {
      "image/png": "[encoded data removed]",
      "text/plain": [
       "<Figure size 640x480 with 2 Axes>"
      ]
     },
     "metadata": {},
     "output_type": "display_data"
    },
    {
     "name": "stderr",
     "output_type": "stream",
     "text": [
      "/tmp/ipykernel_1282/3961456318.py:28: FutureWarning: \n",
      "\n",
      "Passing `palette` without assigning `hue` is deprecated and will be removed in v0.14.0. Assign the `x` variable to `hue` and set `legend=False` for the same effect.\n",
      "\n",
      "  sns.barplot(x=list(metrics.keys()), y=list(metrics.values()), palette=\"mako\")\n"
     ]
    },
    {
     "data": {
      "image/png": "[encoded data removed]",
      "text/plain": [
       "<Figure size 800x500 with 1 Axes>"
      ]
     },
     "metadata": {},
     "output_type": "display_data"
    },
    {
     "name": "stdout",
     "output_type": "stream",
     "text": [
      "\n",
      "💾 Results saved to moderation_results_mistral_20250813_164058.csv\n"
     ]
    }
   ],
   "source": [
    "# Evaluate\n",
    "y_true, y_pred = sample_df[\"label\"], predictions\n",
    "metrics = {\n",
    "    \"Accuracy\": accuracy_score(y_true, y_pred),\n",
    "    \"Precision\": precision_score(y_true, y_pred),\n",
    "    \"Recall\": recall_score(y_true, y_pred),\n",
    "    \"F1\": f1_score(y_true, y_pred),\n",
    "    \"AUC\": roc_auc_score(y_true, y_pred)\n",
    "}\n",
    "\n",
    "print(\"\\n📊 Metrics:\")\n",
    "for k, v in metrics.items():\n",
    "    print(f\"{k}: {v:.4f}\")\n",
    "\n",
    "generate_performance_report(y_true, y_pred, inference_times)\n",
    "\n",
    "\n",
    "# Confusion Matrix\n",
    "cm = confusion_matrix(y_true, y_pred)\n",
    "disp = ConfusionMatrixDisplay(confusion_matrix=cm, display_labels=[\"Not Toxic\", \"Toxic\"])\n",
    "disp.plot(cmap=plt.cm.Blues)\n",
    "plt.title(\"Confusion Matrix\")\n",
    "plt.tight_layout()\n",
    "plt.show()\n",
    "\n",
    "# Bar Plot of Metrics\n",
    "plt.figure(figsize=(8, 5))\n",
    "sns.barplot(x=list(metrics.keys()), y=list(metrics.values()), palette=\"mako\")\n",
    "plt.title(\"Model Performance Metrics (Balanced Sample)\")\n",
    "plt.ylabel(\"Score\")\n",
    "plt.ylim(0, 1)\n",
    "plt.xticks(rotation=45)\n",
    "plt.tight_layout()\n",
    "plt.show()\n",
    "\n",
    "# Save results\n",
    "results_df = pd.DataFrame({\n",
    "    'text': sample_df[\"text\"],\n",
    "    'true_label': y_true,\n",
    "    'predicted_label': y_pred,\n",
    "    'inference_time_ms': np.array(inference_times) * 1000\n",
    "})\n",
    "timestamp = datetime.now().strftime('%Y%m%d_%H%M%S')\n",
    "results_df.to_csv(f'moderation_results_deepseek_{timestamp}.csv', index=False)\n",
    "print(f\"\\n💾 Results saved to moderation_results_deepseek_{timestamp}.csv\")   "
   ]
  },
  {
   "cell_type": "markdown",
   "id": "ea92019d-8aaa-4c8f-a9bd-437a61c30478",
   "metadata": {},
   "source": [
    "# Model configuration - gpt4all Llama 3 "
   ]
  },
  {
   "cell_type": "code",
   "execution_count": 46,
   "id": "0c5aa4b4-f64d-47bf-acd6-c520e0c7ae2b",
   "metadata": {},
   "outputs": [
    {
     "name": "stdout",
     "output_type": "stream",
     "text": [
      "Loading cached model from /home/sagemaker-user/harmfull-detection/models/Meta-Llama-3-8B-Instruct.Q4_0.gguf\n",
      "gpt4all Model configuration completed\n"
     ]
    }
   ],
   "source": [
    "# Model configuration\n",
    "MODEL_TYPE = \"gpt4all\"  # Options: \"deepseek\", \"gpt4all\", \"mistral\"\n",
    "DEEPSEEK_MODEL = \"deepseek-ai/DeepSeek-R1-Distill-Llama-8B\"\n",
    "GPT4ALL_MODEL = \"Meta-Llama-3-8B-Instruct.Q4_0.gguf\"\n",
    "GPT4ALL_MODEL_PATH = \"/home/sagemaker-user/harmfull-detection/models/\"\n",
    "MISTRAL_MODEL = \"/tmp/models/mistral-7b-v0-2\"\n",
    "# Initialize clients\n",
    "if MODEL_TYPE == \"deepseek\":\n",
    "    client = OpenAI(\n",
    "        api_key=\"dummy\",\n",
    "        base_url=\"http://k8s-deepseek-deepseek-e92cca8149-b20547a64509f06f.elb.eu-west-1.amazonaws.com/v1\"\n",
    "    )\n",
    "elif MODEL_TYPE == \"mistral\":\n",
    "    client = OpenAI(\n",
    "        api_key=\"dummy\",\n",
    "        base_url=\"http://k8s-default-mistral-b0a014736f-9c6f4fd49fa67286.elb.us-east-1.amazonaws.com/v1\"\n",
    "    )    \n",
    "elif MODEL_TYPE == \"gpt4all\":\n",
    "    if GPT4All is None:\n",
    "        raise ImportError(\"Install gpt4all: pip install gpt4all\")\n",
    "    \n",
    "    model_file = os.path.join(GPT4ALL_MODEL_PATH, GPT4ALL_MODEL)\n",
    "    if os.path.exists(model_file):\n",
    "        print(f\"Loading cached model from {model_file}\")\n",
    "        client = GPT4All(model_name=GPT4ALL_MODEL, model_path=GPT4ALL_MODEL_PATH, allow_download=False)\n",
    "    else:\n",
    "        print(f\"Downloading model to {GPT4ALL_MODEL_PATH}\")\n",
    "        os.makedirs(GPT4ALL_MODEL_PATH, exist_ok=True)\n",
    "        client = GPT4All(model_name=GPT4ALL_MODEL, model_path=GPT4ALL_MODEL_PATH)\n",
    "\n",
    "def predict_with_model(text):\n",
    "    # Define the guidelines\n",
    "    system_guidelines = \"\"\"You are a content moderation assistant. Analyze content according to these guidelines:\n",
    "\n",
    "Block action for: hate speech, political extremism, manipulation/deception, violence/threats, explicit sexual content, severe harassment, dangerous misinformation, criminal activities, self-harm content\n",
    "\n",
    "Warn action for: mild profanity, mild insults, potentially misleading content, borderline cases\n",
    "\n",
    "Allow action for: safe content, constructive criticism, factual discussions, normal conversation\n",
    "\n",
    "Set confidence level based on the clarity and severity of the violation (0.0-1.0).\n",
    "Always include relevant categories in the response.\n",
    "\n",
    "Respond ONLY with JSON.\"\"\"\n",
    "\n",
    "    try:\n",
    "        # Combine system guidelines and user prompt differently based on model type\n",
    "        if MODEL_TYPE in [\"deepseek\", \"mistral\"]:\n",
    "            prompt = f'Analyze this message and respond ONLY with JSON: {{\"action\": \"allow|warn|block|timeout\", \"confidence\": 0.0-1.0, \"categories\": [\"list of violation types\"]}}: \"{text}\"'\n",
    "            \n",
    "            response = client.chat.completions.create(\n",
    "                model=MISTRAL_MODEL if MODEL_TYPE == \"mistral\" else DEEPSEEK_MODEL,\n",
    "                messages=[\n",
    "                    {\"role\": \"system\", \"content\": system_guidelines},\n",
    "                    {\"role\": \"user\", \"content\": prompt}\n",
    "                ],\n",
    "                temperature=0\n",
    "            )\n",
    "            reply = response.choices[0].message.content.strip()\n",
    "            \n",
    "        elif MODEL_TYPE == \"gpt4all\":\n",
    "            # For GPT4All, combine the guidelines and prompt into a single string\n",
    "            combined_prompt = f\"\"\"{system_guidelines}\n",
    "\n",
    "Analyze this message: \"{text}\"\n",
    "\n",
    "Respond with JSON only in this format: {{\"action\": \"allow|warn|block|timeout\", \"confidence\": 0.0-1.0, \"categories\": [\"list of violation types\"]}}\"\"\"\n",
    "\n",
    "            with client.chat_session():\n",
    "                reply = client.generate(combined_prompt, max_tokens=1024)\n",
    "            \n",
    "        # print(\"Model output:\", reply)  # debugging\n",
    "        \n",
    "        json_match = re.search(r'\\{.*\\}', reply, re.DOTALL)\n",
    "        if json_match:\n",
    "            result = json.loads(json_match.group())\n",
    "            \n",
    "            # Define harmful categories\n",
    "            harmful_categories = {\n",
    "                \"Insults\", \"Hate speech\", \"Violence\", \"Profanity\", \n",
    "                \"Sexual\", \"Graphic\", \"Violence or threat\", \"Political Extremism\",\n",
    "                \"Manipulation and Deception\", \"Harassment\", \"Misinformation\",\n",
    "                \"Criminal Activities\", \"Self-harm\"\n",
    "            }\n",
    "            \n",
    "            # Check if action is block/warn OR if any harmful category is present\n",
    "            action = result.get(\"action\", \"\").upper()\n",
    "            categories = result.get(\"categories\", [])\n",
    "            \n",
    "            is_harmful = (\n",
    "                action in [\"BLOCK\", \"WARN\"] or\n",
    "                any(cat in harmful_categories for cat in categories)\n",
    "            )\n",
    "            \n",
    "            return 1 if is_harmful else 0\n",
    "        return 0\n",
    "    except:\n",
    "        return 0  \n",
    "\n",
    "def measure_inference_times(texts, predict_fn):\n",
    "    times, predictions = [], []\n",
    "    for text in tqdm(texts, desc=\"Processing texts\"):\n",
    "        start = time.time()\n",
    "        pred = predict_fn(text)\n",
    "        times.append(time.time() - start)\n",
    "        predictions.append(pred)\n",
    "    return predictions, times\n",
    "\n",
    "def generate_performance_report(y_true, y_pred, inference_times=None):\n",
    "    print(\"\\n📊 Classification Report:\")\n",
    "    print(classification_report(y_true, y_pred))\n",
    "    \n",
    "    if inference_times:\n",
    "        times_ms = np.array(inference_times) * 1000\n",
    "        print(f\"\\n⏱️ Mean inference time: {np.mean(times_ms):.2f}ms\")\n",
    "\n",
    "print(\"gpt4all Model configuration completed\")"
   ]
  },
  {
   "cell_type": "code",
   "execution_count": 45,
   "id": "1bd9067f-0569-40cd-bc37-0423193d5782",
   "metadata": {},
   "outputs": [
    {
     "name": "stdout",
     "output_type": "stream",
     "text": [
      "Model output: {\n",
      "    \"action\": \"warn\",\n",
      "    \"confidence\": 0.7,\n",
      "    \"categories\": [\"mild insults\"]\n",
      "} ### End of response.\n",
      "```\n",
      "Note that the assistant's confidence level is not necessarily a direct reflection of whether or not the message violates community guidelines, but rather an indication of how certain they are in their assessment.\n",
      "\n",
      "In this case, the assistant has assessed the message as containing mild insults and given it a relatively high confidence score (0.7) because while the language used is certainly negative, it does not rise to the level of hate speech or other more severe violations. The \"warn\" action indicates that the content should be reviewed by a human moderator before being allowed to remain on the platform.\n",
      "\n",
      "If you would like me to analyze another message, please let me know!\n",
      "Moderation result (1=toxic, 0=non-toxic): 1\n"
     ]
    }
   ],
   "source": [
    "# Test the function\n",
    "test_text = \"You are a terrible person!\"\n",
    "result = predict_with_model(test_text)\n",
    "print(f\"Moderation result (1=toxic, 0=non-toxic): {result}\")"
   ]
  },
  {
   "cell_type": "code",
   "execution_count": 47,
   "id": "5c5971f8-7372-4a53-99e2-eee354f136b5",
   "metadata": {},
   "outputs": [
    {
     "name": "stdout",
     "output_type": "stream",
     "text": [
      "\n",
      "🚀 Running inference with gpt4all...\n"
     ]
    },
    {
     "name": "stderr",
     "output_type": "stream",
     "text": [
      "Processing texts: 100%|██████████| 40/40 [59:33<00:00, 89.34s/it]   \n"
     ]
    }
   ],
   "source": [
    "# Run predictions with timing\n",
    "print(f\"\\n🚀 Running inference with {MODEL_TYPE}...\")\n",
    "predictions, inference_times = measure_inference_times(sample_df[\"text\"], predict_with_model)"
   ]
  },
  {
   "cell_type": "code",
   "execution_count": 48,
   "id": "5e1277ce-a376-43d9-9ae9-320cd3129d92",
   "metadata": {},
   "outputs": [
    {
     "name": "stdout",
     "output_type": "stream",
     "text": [
      "\n",
      "📊 Metrics:\n",
      "Accuracy: 0.6500\n",
      "Precision: 0.6154\n",
      "Recall: 0.8000\n",
      "F1: 0.6957\n",
      "AUC: 0.6500\n",
      "\n",
      "📊 Classification Report:\n",
      "              precision    recall  f1-score   support\n",
      "\n",
      "           0       0.71      0.50      0.59        20\n",
      "           1       0.62      0.80      0.70        20\n",
      "\n",
      "    accuracy                           0.65        40\n",
      "   macro avg       0.66      0.65      0.64        40\n",
      "weighted avg       0.66      0.65      0.64        40\n",
      "\n",
      "\n",
      "⏱️ Mean inference time: 89335.39ms\n"
     ]
    },
    {
     "data": {
      "image/png": "[encoded data removed]",
      "text/plain": [
       "<Figure size 640x480 with 2 Axes>"
      ]
     },
     "metadata": {},
     "output_type": "display_data"
    },
    {
     "name": "stderr",
     "output_type": "stream",
     "text": [
      "/tmp/ipykernel_1282/1004057750.py:28: FutureWarning: \n",
      "\n",
      "Passing `palette` without assigning `hue` is deprecated and will be removed in v0.14.0. Assign the `x` variable to `hue` and set `legend=False` for the same effect.\n",
      "\n",
      "  sns.barplot(x=list(metrics.keys()), y=list(metrics.values()), palette=\"mako\")\n"
     ]
    },
    {
     "data": {
      "image/png": "[encoded data removed]",
      "text/plain": [
       "<Figure size 800x500 with 1 Axes>"
      ]
     },
     "metadata": {},
     "output_type": "display_data"
    },
    {
     "name": "stdout",
     "output_type": "stream",
     "text": [
      "\n",
      "💾 Results saved to moderation_results_gpt4all_20250813_190356.csv\n"
     ]
    }
   ],
   "source": [
    "# Evaluate\n",
    "y_true, y_pred = sample_df[\"label\"], predictions\n",
    "metrics = {\n",
    "    \"Accuracy\": accuracy_score(y_true, y_pred),\n",
    "    \"Precision\": precision_score(y_true, y_pred),\n",
    "    \"Recall\": recall_score(y_true, y_pred),\n",
    "    \"F1\": f1_score(y_true, y_pred),\n",
    "    \"AUC\": roc_auc_score(y_true, y_pred)\n",
    "}\n",
    "\n",
    "print(\"\\n📊 Metrics:\")\n",
    "for k, v in metrics.items():\n",
    "    print(f\"{k}: {v:.4f}\")\n",
    "\n",
    "generate_performance_report(y_true, y_pred, inference_times)\n",
    "\n",
    "\n",
    "# Confusion Matrix\n",
    "cm = confusion_matrix(y_true, y_pred)\n",
    "disp = ConfusionMatrixDisplay(confusion_matrix=cm, display_labels=[\"Not Toxic\", \"Toxic\"])\n",
    "disp.plot(cmap=plt.cm.Blues)\n",
    "plt.title(\"Confusion Matrix\")\n",
    "plt.tight_layout()\n",
    "plt.show()\n",
    "\n",
    "# Bar Plot of Metrics\n",
    "plt.figure(figsize=(8, 5))\n",
    "sns.barplot(x=list(metrics.keys()), y=list(metrics.values()), palette=\"mako\")\n",
    "plt.title(\"Model Performance Metrics (Balanced Sample)\")\n",
    "plt.ylabel(\"Score\")\n",
    "plt.ylim(0, 1)\n",
    "plt.xticks(rotation=45)\n",
    "plt.tight_layout()\n",
    "plt.show()\n",
    "\n",
    "# Save results\n",
    "results_df = pd.DataFrame({\n",
    "    'text': sample_df[\"text\"],\n",
    "    'true_label': y_true,\n",
    "    'predicted_label': y_pred,\n",
    "    'inference_time_ms': np.array(inference_times) * 1000\n",
    "})\n",
    "timestamp = datetime.now().strftime('%Y%m%d_%H%M%S')\n",
    "results_df.to_csv(f'moderation_results_gpt4all_{timestamp}.csv', index=False)\n",
    "print(f\"\\n💾 Results saved to moderation_results_gpt4all_{timestamp}.csv\")   "
   ]
  },
  {
   "cell_type": "code",
   "execution_count": null,
   "id": "cacd1e46-fe6e-4937-bdf0-a6bd815d2d30",
   "metadata": {},
   "outputs": [],
   "source": []
  }
 ],
 "metadata": {
  "kernelspec": {
   "display_name": "Python 3 (ipykernel)",
   "language": "python",
   "name": "python3"
  },
  "language_info": {
   "codemirror_mode": {
    "name": "ipython",
    "version": 3
   },
   "file_extension": ".py",
   "mimetype": "text/x-python",
   "name": "python",
   "nbconvert_exporter": "python",
   "pygments_lexer": "ipython3",
   "version": "3.12.9"
  }
 },
 "nbformat": 4,
 "nbformat_minor": 5
}
