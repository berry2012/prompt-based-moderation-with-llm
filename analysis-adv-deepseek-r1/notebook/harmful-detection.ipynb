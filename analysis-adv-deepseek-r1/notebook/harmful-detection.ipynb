{
 "cells": [
  {
   "cell_type": "markdown",
   "id": "f0498688-f209-4082-8190-a2cc1d63262b",
   "metadata": {},
   "source": [
    "# Prompt Based Harmful Message detection using MCP and LLM"
   ]
  },
  {
   "cell_type": "markdown",
   "id": "f668e6ec-9846-4183-9d10-974e1f579945",
   "metadata": {},
   "source": [
    "## Install pre-requisites"
   ]
  },
  {
   "cell_type": "code",
   "execution_count": 1,
   "id": "534af87c-074e-4aa9-b4bb-dbdab180ca1d",
   "metadata": {},
   "outputs": [
    {
     "name": "stdout",
     "output_type": "stream",
     "text": [
      "Requirement already satisfied: datasets in /opt/conda/lib/python3.12/site-packages (4.0.0)\n",
      "Requirement already satisfied: pandas in /opt/conda/lib/python3.12/site-packages (2.2.3)\n",
      "Requirement already satisfied: scikit-learn in /opt/conda/lib/python3.12/site-packages (1.5.2)\n",
      "Requirement already satisfied: matplotlib in /opt/conda/lib/python3.12/site-packages (3.10.1)\n",
      "Requirement already satisfied: seaborn in /opt/conda/lib/python3.12/site-packages (0.13.2)\n",
      "Requirement already satisfied: openai in /opt/conda/lib/python3.12/site-packages (1.97.1)\n",
      "Requirement already satisfied: tqdm in /opt/conda/lib/python3.12/site-packages (4.67.1)\n",
      "Requirement already satisfied: filelock in /opt/conda/lib/python3.12/site-packages (from datasets) (3.18.0)\n",
      "Requirement already satisfied: numpy>=1.17 in /opt/conda/lib/python3.12/site-packages (from datasets) (1.26.4)\n",
      "Requirement already satisfied: pyarrow>=15.0.0 in /opt/conda/lib/python3.12/site-packages (from datasets) (19.0.1)\n",
      "Requirement already satisfied: dill<0.3.9,>=0.3.0 in /opt/conda/lib/python3.12/site-packages (from datasets) (0.3.8)\n",
      "Requirement already satisfied: requests>=2.32.2 in /opt/conda/lib/python3.12/site-packages (from datasets) (2.32.3)\n",
      "Requirement already satisfied: xxhash in /opt/conda/lib/python3.12/site-packages (from datasets) (3.5.0)\n",
      "Requirement already satisfied: multiprocess<0.70.17 in /opt/conda/lib/python3.12/site-packages (from datasets) (0.70.16)\n",
      "Requirement already satisfied: fsspec<=2025.3.0,>=2023.1.0 in /opt/conda/lib/python3.12/site-packages (from fsspec[http]<=2025.3.0,>=2023.1.0->datasets) (2024.10.0)\n",
      "Requirement already satisfied: huggingface-hub>=0.24.0 in /opt/conda/lib/python3.12/site-packages (from datasets) (0.30.2)\n",
      "Requirement already satisfied: packaging in /opt/conda/lib/python3.12/site-packages (from datasets) (24.2)\n",
      "Requirement already satisfied: pyyaml>=5.1 in /opt/conda/lib/python3.12/site-packages (from datasets) (6.0.2)\n",
      "Requirement already satisfied: python-dateutil>=2.8.2 in /opt/conda/lib/python3.12/site-packages (from pandas) (2.9.0.post0)\n",
      "Requirement already satisfied: pytz>=2020.1 in /opt/conda/lib/python3.12/site-packages (from pandas) (2024.2)\n",
      "Requirement already satisfied: tzdata>=2022.7 in /opt/conda/lib/python3.12/site-packages (from pandas) (2025.2)\n",
      "Requirement already satisfied: scipy>=1.6.0 in /opt/conda/lib/python3.12/site-packages (from scikit-learn) (1.15.2)\n",
      "Requirement already satisfied: joblib>=1.2.0 in /opt/conda/lib/python3.12/site-packages (from scikit-learn) (1.5.0)\n",
      "Requirement already satisfied: threadpoolctl>=3.1.0 in /opt/conda/lib/python3.12/site-packages (from scikit-learn) (3.6.0)\n",
      "Requirement already satisfied: contourpy>=1.0.1 in /opt/conda/lib/python3.12/site-packages (from matplotlib) (1.3.2)\n",
      "Requirement already satisfied: cycler>=0.10 in /opt/conda/lib/python3.12/site-packages (from matplotlib) (0.12.1)\n",
      "Requirement already satisfied: fonttools>=4.22.0 in /opt/conda/lib/python3.12/site-packages (from matplotlib) (4.57.0)\n",
      "Requirement already satisfied: kiwisolver>=1.3.1 in /opt/conda/lib/python3.12/site-packages (from matplotlib) (1.4.8)\n",
      "Requirement already satisfied: pillow>=8 in /opt/conda/lib/python3.12/site-packages (from matplotlib) (11.1.0)\n",
      "Requirement already satisfied: pyparsing>=2.3.1 in /opt/conda/lib/python3.12/site-packages (from matplotlib) (3.2.3)\n",
      "Requirement already satisfied: anyio<5,>=3.5.0 in /opt/conda/lib/python3.12/site-packages (from openai) (4.9.0)\n",
      "Requirement already satisfied: distro<2,>=1.7.0 in /opt/conda/lib/python3.12/site-packages (from openai) (1.9.0)\n",
      "Requirement already satisfied: httpx<1,>=0.23.0 in /opt/conda/lib/python3.12/site-packages (from openai) (0.28.1)\n",
      "Requirement already satisfied: jiter<1,>=0.4.0 in /opt/conda/lib/python3.12/site-packages (from openai) (0.10.0)\n",
      "Requirement already satisfied: pydantic<3,>=1.9.0 in /opt/conda/lib/python3.12/site-packages (from openai) (2.11.3)\n",
      "Requirement already satisfied: sniffio in /opt/conda/lib/python3.12/site-packages (from openai) (1.3.1)\n",
      "Requirement already satisfied: typing-extensions<5,>=4.11 in /opt/conda/lib/python3.12/site-packages (from openai) (4.13.2)\n",
      "Requirement already satisfied: idna>=2.8 in /opt/conda/lib/python3.12/site-packages (from anyio<5,>=3.5.0->openai) (3.10)\n",
      "Requirement already satisfied: aiohttp!=4.0.0a0,!=4.0.0a1 in /opt/conda/lib/python3.12/site-packages (from fsspec[http]<=2025.3.0,>=2023.1.0->datasets) (3.9.5)\n",
      "Requirement already satisfied: certifi in /opt/conda/lib/python3.12/site-packages (from httpx<1,>=0.23.0->openai) (2025.1.31)\n",
      "Requirement already satisfied: httpcore==1.* in /opt/conda/lib/python3.12/site-packages (from httpx<1,>=0.23.0->openai) (1.0.9)\n",
      "Requirement already satisfied: h11>=0.16 in /opt/conda/lib/python3.12/site-packages (from httpcore==1.*->httpx<1,>=0.23.0->openai) (0.16.0)\n",
      "Requirement already satisfied: annotated-types>=0.6.0 in /opt/conda/lib/python3.12/site-packages (from pydantic<3,>=1.9.0->openai) (0.7.0)\n",
      "Requirement already satisfied: pydantic-core==2.33.1 in /opt/conda/lib/python3.12/site-packages (from pydantic<3,>=1.9.0->openai) (2.33.1)\n",
      "Requirement already satisfied: typing-inspection>=0.4.0 in /opt/conda/lib/python3.12/site-packages (from pydantic<3,>=1.9.0->openai) (0.4.0)\n",
      "Requirement already satisfied: six>=1.5 in /opt/conda/lib/python3.12/site-packages (from python-dateutil>=2.8.2->pandas) (1.17.0)\n",
      "Requirement already satisfied: charset_normalizer<4,>=2 in /opt/conda/lib/python3.12/site-packages (from requests>=2.32.2->datasets) (3.4.2)\n",
      "Requirement already satisfied: urllib3<3,>=1.21.1 in /opt/conda/lib/python3.12/site-packages (from requests>=2.32.2->datasets) (2.4.0)\n",
      "Requirement already satisfied: aiosignal>=1.1.2 in /opt/conda/lib/python3.12/site-packages (from aiohttp!=4.0.0a0,!=4.0.0a1->fsspec[http]<=2025.3.0,>=2023.1.0->datasets) (1.3.2)\n",
      "Requirement already satisfied: attrs>=17.3.0 in /opt/conda/lib/python3.12/site-packages (from aiohttp!=4.0.0a0,!=4.0.0a1->fsspec[http]<=2025.3.0,>=2023.1.0->datasets) (23.2.0)\n",
      "Requirement already satisfied: frozenlist>=1.1.1 in /opt/conda/lib/python3.12/site-packages (from aiohttp!=4.0.0a0,!=4.0.0a1->fsspec[http]<=2025.3.0,>=2023.1.0->datasets) (1.5.0)\n",
      "Requirement already satisfied: multidict<7.0,>=4.5 in /opt/conda/lib/python3.12/site-packages (from aiohttp!=4.0.0a0,!=4.0.0a1->fsspec[http]<=2025.3.0,>=2023.1.0->datasets) (6.4.3)\n",
      "Requirement already satisfied: yarl<2.0,>=1.0 in /opt/conda/lib/python3.12/site-packages (from aiohttp!=4.0.0a0,!=4.0.0a1->fsspec[http]<=2025.3.0,>=2023.1.0->datasets) (1.20.0)\n",
      "Requirement already satisfied: propcache>=0.2.1 in /opt/conda/lib/python3.12/site-packages (from yarl<2.0,>=1.0->aiohttp!=4.0.0a0,!=4.0.0a1->fsspec[http]<=2025.3.0,>=2023.1.0->datasets) (0.3.1)\n"
     ]
    }
   ],
   "source": [
    "!pip install datasets pandas scikit-learn matplotlib seaborn openai tqdm"
   ]
  },
  {
   "cell_type": "code",
   "execution_count": 2,
   "id": "4d1690e8-dcf6-4f96-9518-f719d38799ec",
   "metadata": {},
   "outputs": [
    {
     "name": "stdout",
     "output_type": "stream",
     "text": [
      "Requirement already satisfied: datasets in /opt/conda/lib/python3.12/site-packages (4.0.0)\n",
      "Requirement already satisfied: filelock in /opt/conda/lib/python3.12/site-packages (from datasets) (3.18.0)\n",
      "Requirement already satisfied: numpy>=1.17 in /opt/conda/lib/python3.12/site-packages (from datasets) (1.26.4)\n",
      "Requirement already satisfied: pyarrow>=15.0.0 in /opt/conda/lib/python3.12/site-packages (from datasets) (19.0.1)\n",
      "Requirement already satisfied: dill<0.3.9,>=0.3.0 in /opt/conda/lib/python3.12/site-packages (from datasets) (0.3.8)\n",
      "Requirement already satisfied: pandas in /opt/conda/lib/python3.12/site-packages (from datasets) (2.2.3)\n",
      "Requirement already satisfied: requests>=2.32.2 in /opt/conda/lib/python3.12/site-packages (from datasets) (2.32.3)\n",
      "Requirement already satisfied: tqdm>=4.66.3 in /opt/conda/lib/python3.12/site-packages (from datasets) (4.67.1)\n",
      "Requirement already satisfied: xxhash in /opt/conda/lib/python3.12/site-packages (from datasets) (3.5.0)\n",
      "Requirement already satisfied: multiprocess<0.70.17 in /opt/conda/lib/python3.12/site-packages (from datasets) (0.70.16)\n",
      "Requirement already satisfied: fsspec<=2025.3.0,>=2023.1.0 in /opt/conda/lib/python3.12/site-packages (from fsspec[http]<=2025.3.0,>=2023.1.0->datasets) (2024.10.0)\n",
      "Requirement already satisfied: huggingface-hub>=0.24.0 in /opt/conda/lib/python3.12/site-packages (from datasets) (0.30.2)\n",
      "Requirement already satisfied: packaging in /opt/conda/lib/python3.12/site-packages (from datasets) (24.2)\n",
      "Requirement already satisfied: pyyaml>=5.1 in /opt/conda/lib/python3.12/site-packages (from datasets) (6.0.2)\n",
      "Requirement already satisfied: aiohttp!=4.0.0a0,!=4.0.0a1 in /opt/conda/lib/python3.12/site-packages (from fsspec[http]<=2025.3.0,>=2023.1.0->datasets) (3.9.5)\n",
      "Requirement already satisfied: typing-extensions>=3.7.4.3 in /opt/conda/lib/python3.12/site-packages (from huggingface-hub>=0.24.0->datasets) (4.13.2)\n",
      "Requirement already satisfied: charset_normalizer<4,>=2 in /opt/conda/lib/python3.12/site-packages (from requests>=2.32.2->datasets) (3.4.2)\n",
      "Requirement already satisfied: idna<4,>=2.5 in /opt/conda/lib/python3.12/site-packages (from requests>=2.32.2->datasets) (3.10)\n",
      "Requirement already satisfied: urllib3<3,>=1.21.1 in /opt/conda/lib/python3.12/site-packages (from requests>=2.32.2->datasets) (2.4.0)\n",
      "Requirement already satisfied: certifi>=2017.4.17 in /opt/conda/lib/python3.12/site-packages (from requests>=2.32.2->datasets) (2025.1.31)\n",
      "Requirement already satisfied: python-dateutil>=2.8.2 in /opt/conda/lib/python3.12/site-packages (from pandas->datasets) (2.9.0.post0)\n",
      "Requirement already satisfied: pytz>=2020.1 in /opt/conda/lib/python3.12/site-packages (from pandas->datasets) (2024.2)\n",
      "Requirement already satisfied: tzdata>=2022.7 in /opt/conda/lib/python3.12/site-packages (from pandas->datasets) (2025.2)\n",
      "Requirement already satisfied: aiosignal>=1.1.2 in /opt/conda/lib/python3.12/site-packages (from aiohttp!=4.0.0a0,!=4.0.0a1->fsspec[http]<=2025.3.0,>=2023.1.0->datasets) (1.3.2)\n",
      "Requirement already satisfied: attrs>=17.3.0 in /opt/conda/lib/python3.12/site-packages (from aiohttp!=4.0.0a0,!=4.0.0a1->fsspec[http]<=2025.3.0,>=2023.1.0->datasets) (23.2.0)\n",
      "Requirement already satisfied: frozenlist>=1.1.1 in /opt/conda/lib/python3.12/site-packages (from aiohttp!=4.0.0a0,!=4.0.0a1->fsspec[http]<=2025.3.0,>=2023.1.0->datasets) (1.5.0)\n",
      "Requirement already satisfied: multidict<7.0,>=4.5 in /opt/conda/lib/python3.12/site-packages (from aiohttp!=4.0.0a0,!=4.0.0a1->fsspec[http]<=2025.3.0,>=2023.1.0->datasets) (6.4.3)\n",
      "Requirement already satisfied: yarl<2.0,>=1.0 in /opt/conda/lib/python3.12/site-packages (from aiohttp!=4.0.0a0,!=4.0.0a1->fsspec[http]<=2025.3.0,>=2023.1.0->datasets) (1.20.0)\n",
      "Requirement already satisfied: six>=1.5 in /opt/conda/lib/python3.12/site-packages (from python-dateutil>=2.8.2->pandas->datasets) (1.17.0)\n",
      "Requirement already satisfied: propcache>=0.2.1 in /opt/conda/lib/python3.12/site-packages (from yarl<2.0,>=1.0->aiohttp!=4.0.0a0,!=4.0.0a1->fsspec[http]<=2025.3.0,>=2023.1.0->datasets) (0.3.1)\n"
     ]
    }
   ],
   "source": [
    "!pip install --upgrade datasets"
   ]
  },
  {
   "cell_type": "code",
   "execution_count": 3,
   "id": "402251c4-e4b9-4af0-a6d1-b973867c822f",
   "metadata": {},
   "outputs": [],
   "source": [
    "import os\n",
    "import pandas as pd\n",
    "from datasets import load_dataset\n",
    "from sklearn.metrics import (\n",
    "    accuracy_score, precision_score, recall_score,\n",
    "    f1_score, roc_auc_score, confusion_matrix, ConfusionMatrixDisplay\n",
    ")\n",
    "import matplotlib.pyplot as plt\n",
    "import seaborn as sns\n",
    "from tqdm import tqdm\n",
    "from openai import OpenAI\n",
    "from dotenv import load_dotenv\n",
    "import requests\n",
    "tqdm.pandas()\n",
    "\n",
    "# Load environment variables from .env file\n",
    "load_dotenv()\n",
    "\n",
    "# Configure DeepSeek API\n",
    "client = OpenAI(\n",
    "    api_key=os.getenv(\"DEEPSEEK_API_KEY\"),  # Use env var or replace manually\n",
    "    base_url=\"http://k8s-deepseek-deepseek-e92cca8149-b20547a64509f06f.elb.eu-west-1.amazonaws.com/v1\"  # my local deepseek or deepseek API https://api.deepseek.com\n",
    ")\n",
    "\n",
    "MODEL_NAME = \"deepseek-ai/DeepSeek-R1-Distill-Llama-8B\"  # Replace with \"deepseek-chat\" or \"deepseek-v3-0324\" if supported\n"
   ]
  },
  {
   "cell_type": "code",
   "execution_count": null,
   "id": "04581706-b078-4aa1-88d9-e377efb42c72",
   "metadata": {},
   "outputs": [],
   "source": [
    "# Load dataset from Hugging Face\n",
    "# try:\n",
    "#     # Load the dataset\n",
    "#     # dataset = load_dataset(\"setfit/toxic_conversations\", streaming=True)\n",
    "#     dataset = load_dataset(\"setfit/toxic_conversations\")\n",
    "    \n",
    "#     # Convert to pandas DataFrame\n",
    "#     df = pd.DataFrame(dataset['train'])\n",
    "    \n",
    "# except ValueError as e:\n",
    "#     print(f\"Error loading dataset: {e}\")\n",
    "# except Exception as e:\n",
    "#     print(f\"An unexpected error occurred: {e}\")\n",
    "\n",
    "# # Display sample\n",
    "# print(df.head())\n",
    "\n",
    "# print(\"\\nToxic conversation dataset explored successfully!\")\n",
    "\n",
    "# Save data on disk\n",
    "# dataset[\"train\"].to_csv(\"train.csv\", index=False)\n",
    "# dataset[\"test\"].to_csv(\"test.csv\", index=False)"
   ]
  },
  {
   "cell_type": "code",
   "execution_count": null,
   "id": "695aedee-3198-48ae-9b11-74411ab49326",
   "metadata": {},
   "outputs": [],
   "source": [
    "# # Check data imbalance\n",
    "# label_size = df.groupby('label').size()\n",
    "# print(label_size)\n",
    "\n",
    "# plt.pie(label_size, explode=[0.1,0.1], colors=['firebrick','blue'], startangle=90,labels=['Non-Toxic', 'Toxic'], shadow=True, autopct='%1.1f%%')\n",
    "# plt.title('Data Imbalance')\n",
    "# plt.show()"
   ]
  },
  {
   "cell_type": "code",
   "execution_count": null,
   "id": "cefb7637-879c-4b87-8a30-cf57a4e8d4d9",
   "metadata": {},
   "outputs": [],
   "source": [
    "# # Step 2: Explore train dataset\n",
    "# df_train = pd.DataFrame(dataset[\"train\"])\n",
    "# df_test = pd.DataFrame(dataset[\"test\"])\n",
    "\n",
    "# print(\"\\n🔍 Class Distribution (Train):\\n\", df_train[\"label\"].value_counts())\n",
    "# df_train[\"label\"].value_counts().plot(kind='bar', title='Train Set Class Distribution')\n",
    "# plt.xlabel(\"Label (0 = Not Toxic, 1 = Toxic)\")\n",
    "# plt.ylabel(\"Count\")\n",
    "# plt.tight_layout()\n",
    "# plt.show()\n",
    "\n"
   ]
  },
  {
   "cell_type": "code",
   "execution_count": null,
   "id": "e744ebb9-63a4-4e59-97d4-61cc3a4771c7",
   "metadata": {},
   "outputs": [],
   "source": [
    "# # Step 2: Explore test dataset\n",
    "\n",
    "# print(\"\\n🔍 Class Distribution (Test):\\n\", df_test[\"label\"].value_counts())\n",
    "# df_test[\"label\"].value_counts().plot(kind='bar', title='Test Set Class Distribution')\n",
    "# plt.xlabel(\"Label (0 = Not Toxic, 1 = Toxic)\")\n",
    "# plt.ylabel(\"Count\")\n",
    "# plt.tight_layout()\n",
    "# plt.show()\n",
    "\n"
   ]
  },
  {
   "cell_type": "code",
   "execution_count": 4,
   "id": "77915db4-90c0-4c02-b037-ea277a5c0217",
   "metadata": {},
   "outputs": [],
   "source": [
    "import requests\n",
    "import json\n",
    "import re\n",
    "\n",
    "def predict_with_deepseek(text):\n",
    "    prompt = f\"\"\"You are a content moderation system. \n",
    "    Analyze the following message and respond ONLY with a JSON object containing: \n",
    "\n",
    "    \"action\": \"allow|warn|block|timeout\",\n",
    "    \"confidence\": 0.0 - 1.0,\n",
    "    \"categories\": [\"list of violation types\"]\n",
    "\n",
    "    DO NOT include any explanation or thinking process. Return ONLY the JSON object.\n",
    "\n",
    "Message: \"{text}\"\n",
    "\"\"\"\n",
    "\n",
    "    try:\n",
    "        response = requests.post(\n",
    "            \"http://k8s-deepseek-deepseek-e92cca8149-b20547a64509f06f.elb.eu-west-1.amazonaws.com/v1/chat/completions\",\n",
    "            headers={\"Content-Type\": \"application/json\"},\n",
    "            json={\n",
    "                \"model\": \"deepseek-ai/DeepSeek-R1-Distill-Llama-8B\",\n",
    "                \"messages\": [\n",
    "                    {\"role\": \"system\", \"content\": \"You are a content moderation assistant. Respond only with JSON.\"},\n",
    "                    {\"role\": \"user\", \"content\": prompt}\n",
    "                ],\n",
    "                \"temperature\": 0\n",
    "            },\n",
    "            timeout=20\n",
    "        )\n",
    "\n",
    "        response.raise_for_status()\n",
    "        result = response.json()\n",
    "        reply = result[\"choices\"][0][\"message\"][\"content\"].strip()\n",
    "\n",
    "        # Extract JSON part from the response using regex\n",
    "        json_match = re.search(r'\\{.*\\}', reply, re.DOTALL)\n",
    "        \n",
    "        if json_match:\n",
    "            json_str = json_match.group()\n",
    "            try:\n",
    "                moderation_result = json.loads(json_str)\n",
    "                \n",
    "                # Convert action to uppercase for consistent comparison\n",
    "                action = moderation_result.get(\"action\", \"\").upper()\n",
    "                \n",
    "                # Debug output\n",
    "                print(f\"Extracted JSON: {json.dumps(moderation_result, indent=2)}\")\n",
    "                \n",
    "                # Return 1 for BLOCK action, 0 for all others\n",
    "                return 1 if action == \"BLOCK\" else 0\n",
    "\n",
    "            except json.JSONDecodeError as je:\n",
    "                print(f\"⚠️ Failed to parse extracted JSON: '{json_str}'\")\n",
    "                print(f\"JSON Error: {je}\")\n",
    "                return 0\n",
    "        else:\n",
    "            print(f\"⚠️ No JSON found in response: '{reply}'\")\n",
    "            return 0\n",
    "\n",
    "    except requests.exceptions.RequestException as e:\n",
    "        print(f\"❌ Network error: {e}\")\n",
    "        return 0\n",
    "    except Exception as e:\n",
    "        print(f\"❌ Unexpected error: {e}\")\n",
    "        return 0"
   ]
  },
  {
   "cell_type": "markdown",
   "id": "6fc7f131-1dd2-4267-a52c-40642cf7bff1",
   "metadata": {},
   "source": [
    "## Test the function"
   ]
  },
  {
   "cell_type": "code",
   "execution_count": 5,
   "id": "50b24bc0-cc98-4f7c-b0a8-5f49c63a9f83",
   "metadata": {},
   "outputs": [
    {
     "name": "stdout",
     "output_type": "stream",
     "text": [
      "Extracted JSON: {\n",
      "  \"action\": \"block\",\n",
      "  \"confidence\": 1.0,\n",
      "  \"categories\": [\n",
      "    \"personal attack\",\n",
      "    \"hate speech\"\n",
      "  ]\n",
      "}\n",
      "Moderation result (1=toxic, 0=non-toxic): 1\n"
     ]
    }
   ],
   "source": [
    "# Test the function\n",
    "test_text = \"You are a terrible person!\"\n",
    "result = predict_with_deepseek(test_text)\n",
    "print(f\"Moderation result (1=toxic, 0=non-toxic): {result}\")\n"
   ]
  },
  {
   "cell_type": "code",
   "execution_count": 6,
   "id": "49625fc9-0cff-4748-9a55-921d342472d3",
   "metadata": {},
   "outputs": [],
   "source": [
    "# ✅ Load your test dataset (already downloaded in previous steps)\n",
    "df_test = pd.read_csv(\"test.csv\")\n",
    "\n",
    "# ✅ Step 4: Sample a balanced dataset (e.g., 20 toxic and 20 non-toxic)\n",
    "n_samples = 20\n",
    "df_toxic = df_test[df_test[\"label\"] == 1].sample(n=n_samples, random_state=42)\n",
    "df_nontoxic = df_test[df_test[\"label\"] == 0].sample(n=n_samples, random_state=42)\n",
    "sample_df = pd.concat([df_toxic, df_nontoxic]).sample(frac=1, random_state=42).reset_index(drop=True)\n"
   ]
  },
  {
   "cell_type": "code",
   "execution_count": 7,
   "id": "8725340f-d836-4d29-bdbb-5724fe36434b",
   "metadata": {},
   "outputs": [
    {
     "name": "stdout",
     "output_type": "stream",
     "text": [
      "🔍 Sampled Dataset Class Distribution:\n",
      "label\n",
      "1    20\n",
      "0    20\n",
      "Name: count, dtype: int64\n"
     ]
    },
    {
     "name": "stderr",
     "output_type": "stream",
     "text": [
      "/tmp/ipykernel_9033/26813935.py:11: FutureWarning: \n",
      "\n",
      "Passing `palette` without assigning `hue` is deprecated and will be removed in v0.14.0. Assign the `x` variable to `hue` and set `legend=False` for the same effect.\n",
      "\n",
      "  sns.countplot(data=sample_df, x=\"label\", palette=\"coolwarm\")\n"
     ]
    },
    {
     "data": {
      "image/png": "[encoded data removed]",
      "text/plain": [
       "<Figure size 600x400 with 1 Axes>"
      ]
     },
     "metadata": {},
     "output_type": "display_data"
    },
    {
     "name": "stdout",
     "output_type": "stream",
     "text": [
      "✅ Dataset is balanced.\n"
     ]
    }
   ],
   "source": [
    "# Check Class Balance After Sampling\n",
    "import matplotlib.pyplot as plt\n",
    "import seaborn as sns\n",
    "\n",
    "# Check class distribution\n",
    "print(\"🔍 Sampled Dataset Class Distribution:\")\n",
    "print(sample_df[\"label\"].value_counts())\n",
    "\n",
    "# Plot it\n",
    "plt.figure(figsize=(6, 4))\n",
    "sns.countplot(data=sample_df, x=\"label\", palette=\"coolwarm\")\n",
    "plt.title(\"Class Distribution in Sampled Dataset (0 = Not Toxic, 1 = Toxic)\")\n",
    "plt.xlabel(\"Label\")\n",
    "plt.ylabel(\"Count\")\n",
    "plt.xticks([0, 1], [\"Not Toxic\", \"Toxic\"])\n",
    "plt.tight_layout()\n",
    "plt.show()\n",
    "assert sample_df[\"label\"].value_counts()[0] == sample_df[\"label\"].value_counts()[1], \"❌ Dataset is not balanced!\"\n",
    "print(\"✅ Dataset is balanced.\")"
   ]
  },
  {
   "cell_type": "markdown",
   "id": "be080b12-0b23-492a-90bd-7cf658f14d3e",
   "metadata": {},
   "source": [
    "## Model Evaluation"
   ]
  },
  {
   "cell_type": "code",
   "execution_count": 8,
   "id": "495b2a2e-8475-4525-b1ca-6967d6831914",
   "metadata": {},
   "outputs": [
    {
     "name": "stdout",
     "output_type": "stream",
     "text": [
      "\n",
      "🚀 Performing inference on balanced sample data...\n"
     ]
    },
    {
     "name": "stderr",
     "output_type": "stream",
     "text": [
      "  5%|▌         | 2/40 [00:09<02:51,  4.50s/it]"
     ]
    },
    {
     "name": "stdout",
     "output_type": "stream",
     "text": [
      "Extracted JSON: {\n",
      "  \"action\": \"warn\",\n",
      "  \"confidence\": 0.7,\n",
      "  \"categories\": [\n",
      "    \"_sensitive_topic\",\n",
      "    \"hate_speech\",\n",
      "    \"incitement\"\n",
      "  ]\n",
      "}\n"
     ]
    },
    {
     "name": "stderr",
     "output_type": "stream",
     "text": [
      "  8%|▊         | 3/40 [00:15<03:22,  5.46s/it]"
     ]
    },
    {
     "name": "stdout",
     "output_type": "stream",
     "text": [
      "Extracted JSON: {\n",
      "  \"action\": \"block\",\n",
      "  \"confidence\": 0.9,\n",
      "  \"categories\": [\n",
      "    \"hate_speech\",\n",
      "    \"defamation\"\n",
      "  ]\n",
      "}\n"
     ]
    },
    {
     "name": "stderr",
     "output_type": "stream",
     "text": [
      " 10%|█         | 4/40 [00:27<04:34,  7.64s/it]"
     ]
    },
    {
     "name": "stdout",
     "output_type": "stream",
     "text": [
      "Extracted JSON: {\n",
      "  \"action\": \"block\",\n",
      "  \"confidence\": 1.0,\n",
      "  \"categories\": [\n",
      "    \"hate speech\",\n",
      "    \"incivility\"\n",
      "  ]\n",
      "}\n"
     ]
    },
    {
     "name": "stderr",
     "output_type": "stream",
     "text": [
      " 12%|█▎        | 5/40 [00:37<04:55,  8.45s/it]"
     ]
    },
    {
     "name": "stdout",
     "output_type": "stream",
     "text": [
      "Extracted JSON: {\n",
      "  \"action\": \"warn\",\n",
      "  \"confidence\": 0.6,\n",
      "  \"categories\": [\n",
      "    \"Content Quality\"\n",
      "  ]\n",
      "}\n"
     ]
    },
    {
     "name": "stderr",
     "output_type": "stream",
     "text": [
      " 15%|█▌        | 6/40 [00:43<04:25,  7.81s/it]"
     ]
    },
    {
     "name": "stdout",
     "output_type": "stream",
     "text": [
      "Extracted JSON: {\n",
      "  \"action\": \"block\",\n",
      "  \"confidence\": 0.9,\n",
      "  \"categories\": [\n",
      "    \"hate_speech\",\n",
      "    \"anti-Semitic\",\n",
      "    \"offensive_language\"\n",
      "  ]\n",
      "}\n"
     ]
    },
    {
     "name": "stderr",
     "output_type": "stream",
     "text": [
      " 18%|█▊        | 7/40 [00:54<04:47,  8.71s/it]"
     ]
    },
    {
     "name": "stdout",
     "output_type": "stream",
     "text": [
      "Extracted JSON: {\n",
      "  \"action\": \"block\",\n",
      "  \"confidence\": 1.0,\n",
      "  \"categories\": [\n",
      "    \"hate speech\",\n",
      "    \"offensive language\"\n",
      "  ]\n",
      "}\n"
     ]
    },
    {
     "name": "stderr",
     "output_type": "stream",
     "text": [
      " 20%|██        | 8/40 [01:09<05:41, 10.68s/it]"
     ]
    },
    {
     "name": "stdout",
     "output_type": "stream",
     "text": [
      "Extracted JSON: {\n",
      "  \"action\": \"warn\",\n",
      "  \"confidence\": 1.0,\n",
      "  \"categories\": [\n",
      "    \"hate speech\",\n",
      "    \"inappropriate historical comparisons\"\n",
      "  ]\n",
      "}\n"
     ]
    },
    {
     "name": "stderr",
     "output_type": "stream",
     "text": [
      " 22%|██▎       | 9/40 [01:17<05:09,  9.98s/it]"
     ]
    },
    {
     "name": "stdout",
     "output_type": "stream",
     "text": [
      "Extracted JSON: {\n",
      "  \"action\": \"allow\",\n",
      "  \"confidence\": 0.8,\n",
      "  \"categories\": [\n",
      "    \"Government Criticism\"\n",
      "  ]\n",
      "}\n"
     ]
    },
    {
     "name": "stderr",
     "output_type": "stream",
     "text": [
      " 25%|██▌       | 10/40 [01:27<04:57,  9.92s/it]"
     ]
    },
    {
     "name": "stdout",
     "output_type": "stream",
     "text": [
      "Extracted JSON: {\n",
      "  \"action\": \"allow\",\n",
      "  \"confidence\": 0.9,\n",
      "  \"categories\": [\n",
      "    \"free_speech\",\n",
      "    \"philosophy\"\n",
      "  ]\n",
      "}\n"
     ]
    },
    {
     "name": "stderr",
     "output_type": "stream",
     "text": [
      " 28%|██▊       | 11/40 [01:39<05:05, 10.53s/it]"
     ]
    },
    {
     "name": "stdout",
     "output_type": "stream",
     "text": [
      "Extracted JSON: {\n",
      "  \"action\": \"block\",\n",
      "  \"confidence\": 1.0,\n",
      "  \"categories\": [\n",
      "    \"abusive or harassing language\",\n",
      "    \"hate speech\"\n",
      "  ]\n",
      "}\n"
     ]
    },
    {
     "name": "stderr",
     "output_type": "stream",
     "text": [
      " 30%|███       | 12/40 [01:52<05:21, 11.49s/it]"
     ]
    },
    {
     "name": "stdout",
     "output_type": "stream",
     "text": [
      "Extracted JSON: {\n",
      "  \"action\": \"warn\",\n",
      "  \"confidence\": 0.7,\n",
      "  \"categories\": [\n",
      "    \"Discrimination/Hate Speech\"\n",
      "  ]\n",
      "}\n"
     ]
    },
    {
     "name": "stderr",
     "output_type": "stream",
     "text": [
      " 32%|███▎      | 13/40 [02:04<05:06, 11.35s/it]"
     ]
    },
    {
     "name": "stdout",
     "output_type": "stream",
     "text": [
      "Extracted JSON: {\n",
      "  \"action\": \"warn\",\n",
      "  \"confidence\": 0.7,\n",
      "  \"categories\": [\n",
      "    \"hate_speech\",\n",
      "    \"divisive_behavior\"\n",
      "  ]\n",
      "}\n"
     ]
    },
    {
     "name": "stderr",
     "output_type": "stream",
     "text": [
      " 35%|███▌      | 14/40 [02:11<04:25, 10.21s/it]"
     ]
    },
    {
     "name": "stdout",
     "output_type": "stream",
     "text": [
      "Extracted JSON: {\n",
      "  \"action\": \"allow\",\n",
      "  \"confidence\": 0.9,\n",
      "  \"categories\": []\n",
      "}\n"
     ]
    },
    {
     "name": "stderr",
     "output_type": "stream",
     "text": [
      " 38%|███▊      | 15/40 [02:22<04:18, 10.34s/it]"
     ]
    },
    {
     "name": "stdout",
     "output_type": "stream",
     "text": [
      "Extracted JSON: {\n",
      "  \"action\": \"warn\",\n",
      "  \"confidence\": 0.7,\n",
      "  \"categories\": [\n",
      "    \"political_opinions\",\n",
      "    \"social_issues\"\n",
      "  ]\n",
      "}\n"
     ]
    },
    {
     "name": "stderr",
     "output_type": "stream",
     "text": [
      " 40%|████      | 16/40 [02:33<04:15, 10.65s/it]"
     ]
    },
    {
     "name": "stdout",
     "output_type": "stream",
     "text": [
      "Extracted JSON: {\n",
      "  \"action\": \"allow\",\n",
      "  \"confidence\": 0.95,\n",
      "  \"categories\": [\n",
      "    \"misuse of categories\",\n",
      "    \"incorrect labeling\"\n",
      "  ]\n",
      "}\n"
     ]
    },
    {
     "name": "stderr",
     "output_type": "stream",
     "text": [
      " 42%|████▎     | 17/40 [02:38<03:23,  8.85s/it]"
     ]
    },
    {
     "name": "stdout",
     "output_type": "stream",
     "text": [
      "Extracted JSON: {\n",
      "  \"action\": \"block\",\n",
      "  \"confidence\": 1.0,\n",
      "  \"categories\": [\n",
      "    \"hate_speech\",\n",
      "    \"harassment\"\n",
      "  ]\n",
      "}\n"
     ]
    },
    {
     "name": "stderr",
     "output_type": "stream",
     "text": [
      " 45%|████▌     | 18/40 [02:46<03:09,  8.61s/it]"
     ]
    },
    {
     "name": "stdout",
     "output_type": "stream",
     "text": [
      "Extracted JSON: {\n",
      "  \"action\": \"block\",\n",
      "  \"confidence\": 0.9,\n",
      "  \"categories\": [\n",
      "    \"hate speech\",\n",
      "    \"harassment\"\n",
      "  ]\n",
      "}\n"
     ]
    },
    {
     "name": "stderr",
     "output_type": "stream",
     "text": [
      " 48%|████▊     | 19/40 [02:54<03:00,  8.60s/it]"
     ]
    },
    {
     "name": "stdout",
     "output_type": "stream",
     "text": [
      "Extracted JSON: {\n",
      "  \"action\": \"warn\",\n",
      "  \"confidence\": 0.7,\n",
      "  \"categories\": [\n",
      "    \"respectful_communication\"\n",
      "  ]\n",
      "}\n"
     ]
    },
    {
     "name": "stderr",
     "output_type": "stream",
     "text": [
      " 50%|█████     | 20/40 [03:01<02:37,  7.88s/it]"
     ]
    },
    {
     "name": "stdout",
     "output_type": "stream",
     "text": [
      "Extracted JSON: {\n",
      "  \"action\": \"block\",\n",
      "  \"confidence\": 0.9,\n",
      "  \"categories\": [\n",
      "    \"hate_speech\",\n",
      "    \"disrespectful_language\",\n",
      "    \"public_figure\"\n",
      "  ]\n",
      "}\n"
     ]
    },
    {
     "name": "stderr",
     "output_type": "stream",
     "text": [
      " 52%|█████▎    | 21/40 [03:11<02:45,  8.69s/it]"
     ]
    },
    {
     "name": "stdout",
     "output_type": "stream",
     "text": [
      "Extracted JSON: {\n",
      "  \"action\": \"allow\",\n",
      "  \"confidence\": 0.95,\n",
      "  \"categories\": [\n",
      "    \"economic_policy_discussion\",\n",
      "    \"sensitive_topic\"\n",
      "  ]\n",
      "}\n"
     ]
    },
    {
     "name": "stderr",
     "output_type": "stream",
     "text": [
      " 55%|█████▌    | 22/40 [03:22<02:47,  9.30s/it]"
     ]
    },
    {
     "name": "stdout",
     "output_type": "stream",
     "text": [
      "Extracted JSON: {\n",
      "  \"action\": \"allow\",\n",
      "  \"confidence\": 0.8,\n",
      "  \"categories\": [\n",
      "    \"Political Expression\"\n",
      "  ]\n",
      "}\n"
     ]
    },
    {
     "name": "stderr",
     "output_type": "stream",
     "text": [
      " 57%|█████▊    | 23/40 [03:32<02:41,  9.50s/it]"
     ]
    },
    {
     "name": "stdout",
     "output_type": "stream",
     "text": [
      "Extracted JSON: {\n",
      "  \"action\": \"block\",\n",
      "  \"confidence\": 1.0,\n",
      "  \"categories\": [\n",
      "    \"hate_speech\",\n",
      "    \"religious_discrimination\"\n",
      "  ]\n",
      "}\n"
     ]
    },
    {
     "name": "stderr",
     "output_type": "stream",
     "text": [
      " 60%|██████    | 24/40 [03:41<02:30,  9.41s/it]"
     ]
    },
    {
     "name": "stdout",
     "output_type": "stream",
     "text": [
      "Extracted JSON: {\n",
      "  \"action\": \"warn\",\n",
      "  \"confidence\": 0.85,\n",
      "  \"categories\": [\n",
      "    \"harassment\"\n",
      "  ]\n",
      "}\n"
     ]
    },
    {
     "name": "stderr",
     "output_type": "stream",
     "text": [
      " 62%|██████▎   | 25/40 [03:51<02:23,  9.53s/it]"
     ]
    },
    {
     "name": "stdout",
     "output_type": "stream",
     "text": [
      "Extracted JSON: {\n",
      "  \"action\": \"block\",\n",
      "  \"confidence\": 1.0,\n",
      "  \"categories\": [\n",
      "    \"hate_speech\",\n",
      "    \"offensive_language\"\n",
      "  ]\n",
      "}\n"
     ]
    },
    {
     "name": "stderr",
     "output_type": "stream",
     "text": [
      " 65%|██████▌   | 26/40 [03:59<02:07,  9.10s/it]"
     ]
    },
    {
     "name": "stdout",
     "output_type": "stream",
     "text": [
      "Extracted JSON: {\n",
      "  \"action\": \"allow\",\n",
      "  \"confidence\": 1.0,\n",
      "  \"categories\": []\n",
      "}\n"
     ]
    },
    {
     "name": "stderr",
     "output_type": "stream",
     "text": [
      " 68%|██████▊   | 27/40 [04:10<02:06,  9.76s/it]"
     ]
    },
    {
     "name": "stdout",
     "output_type": "stream",
     "text": [
      "Extracted JSON: {\n",
      "  \"action\": \"warn\",\n",
      "  \"confidence\": 0.3,\n",
      "  \"categories\": [\n",
      "    \"abusive\"\n",
      "  ]\n",
      "}\n"
     ]
    },
    {
     "name": "stderr",
     "output_type": "stream",
     "text": [
      " 70%|███████   | 28/40 [04:17<01:46,  8.88s/it]"
     ]
    },
    {
     "name": "stdout",
     "output_type": "stream",
     "text": [
      "Extracted JSON: {\n",
      "  \"action\": \"allow\",\n",
      "  \"confidence\": 0.9,\n",
      "  \"categories\": []\n",
      "}\n"
     ]
    },
    {
     "name": "stderr",
     "output_type": "stream",
     "text": [
      " 72%|███████▎  | 29/40 [04:31<01:54, 10.45s/it]"
     ]
    },
    {
     "name": "stdout",
     "output_type": "stream",
     "text": [
      "Extracted JSON: {\n",
      "  \"action\": \"warn\",\n",
      "  \"confidence\": 0.7,\n",
      "  \"categories\": [\n",
      "    \"discrimination\",\n",
      "    \"diversity\"\n",
      "  ]\n",
      "}\n"
     ]
    },
    {
     "name": "stderr",
     "output_type": "stream",
     "text": [
      " 75%|███████▌  | 30/40 [04:46<01:58, 11.89s/it]"
     ]
    },
    {
     "name": "stdout",
     "output_type": "stream",
     "text": [
      "Extracted JSON: {\n",
      "  \"action\": \"block\",\n",
      "  \"confidence\": 0.9,\n",
      "  \"categories\": [\n",
      "    \"hate_speech\",\n",
      "    \"offensive_language\"\n",
      "  ]\n",
      "}\n"
     ]
    },
    {
     "name": "stderr",
     "output_type": "stream",
     "text": [
      " 78%|███████▊  | 31/40 [04:57<01:42, 11.34s/it]"
     ]
    },
    {
     "name": "stdout",
     "output_type": "stream",
     "text": [
      "Extracted JSON: {\n",
      "  \"action\": \"block\",\n",
      "  \"confidence\": 0.9,\n",
      "  \"categories\": [\n",
      "    \"ad_hominem\"\n",
      "  ]\n",
      "}\n"
     ]
    },
    {
     "name": "stderr",
     "output_type": "stream",
     "text": [
      " 80%|████████  | 32/40 [05:04<01:22, 10.25s/it]"
     ]
    },
    {
     "name": "stdout",
     "output_type": "stream",
     "text": [
      "Extracted JSON: {\n",
      "  \"action\": \"warn\",\n",
      "  \"confidence\": 0.7,\n",
      "  \"categories\": [\n",
      "    \"personal_attack\"\n",
      "  ]\n",
      "}\n"
     ]
    },
    {
     "name": "stderr",
     "output_type": "stream",
     "text": [
      " 82%|████████▎ | 33/40 [05:15<01:13, 10.50s/it]"
     ]
    },
    {
     "name": "stdout",
     "output_type": "stream",
     "text": [
      "Extracted JSON: {\n",
      "  \"action\": \"warn\",\n",
      "  \"confidence\": 0.6,\n",
      "  \"categories\": [\n",
      "    \"Media Bias\",\n",
      "    \"Political Content\"\n",
      "  ]\n",
      "}\n"
     ]
    },
    {
     "name": "stderr",
     "output_type": "stream",
     "text": [
      " 85%|████████▌ | 34/40 [05:28<01:07, 11.20s/it]"
     ]
    },
    {
     "name": "stdout",
     "output_type": "stream",
     "text": [
      "Extracted JSON: {\n",
      "  \"action\": \"warn\",\n",
      "  \"confidence\": 0.6,\n",
      "  \"categories\": [\n",
      "    \"offensive_language\",\n",
      "    \"hate_speech\"\n",
      "  ]\n",
      "}\n"
     ]
    },
    {
     "name": "stderr",
     "output_type": "stream",
     "text": [
      " 88%|████████▊ | 35/40 [05:39<00:55, 11.05s/it]"
     ]
    },
    {
     "name": "stdout",
     "output_type": "stream",
     "text": [
      "Extracted JSON: {\n",
      "  \"action\": \"allow\",\n",
      "  \"confidence\": 0.8,\n",
      "  \"categories\": []\n",
      "}\n"
     ]
    },
    {
     "name": "stderr",
     "output_type": "stream",
     "text": [
      " 90%|█████████ | 36/40 [05:43<00:36,  9.02s/it]"
     ]
    },
    {
     "name": "stdout",
     "output_type": "stream",
     "text": [
      "Extracted JSON: {\n",
      "  \"action\": \"block\",\n",
      "  \"confidence\": 0.9,\n",
      "  \"categories\": [\n",
      "    \"hate speech\",\n",
      "    \"discrimination\",\n",
      "    \"offensive language\"\n",
      "  ]\n",
      "}\n"
     ]
    },
    {
     "name": "stderr",
     "output_type": "stream",
     "text": [
      " 92%|█████████▎| 37/40 [05:53<00:28,  9.33s/it]"
     ]
    },
    {
     "name": "stdout",
     "output_type": "stream",
     "text": [
      "Extracted JSON: {\n",
      "  \"action\": \"warn\",\n",
      "  \"confidence\": 0.7,\n",
      "  \"categories\": [\n",
      "    \"Political Content\",\n",
      "    \"Confrontational/Rude Behavior\"\n",
      "  ]\n",
      "}\n"
     ]
    },
    {
     "name": "stderr",
     "output_type": "stream",
     "text": [
      " 95%|█████████▌| 38/40 [06:04<00:19,  9.75s/it]"
     ]
    },
    {
     "name": "stdout",
     "output_type": "stream",
     "text": [
      "Extracted JSON: {\n",
      "  \"action\": \"allow\",\n",
      "  \"confidence\": 0.8,\n",
      "  \"categories\": [\n",
      "    \"opinion\"\n",
      "  ]\n",
      "}\n"
     ]
    },
    {
     "name": "stderr",
     "output_type": "stream",
     "text": [
      " 98%|█████████▊| 39/40 [06:15<00:10, 10.22s/it]"
     ]
    },
    {
     "name": "stdout",
     "output_type": "stream",
     "text": [
      "Extracted JSON: {\n",
      "  \"action\": \"block\",\n",
      "  \"confidence\": 0.8,\n",
      "  \"categories\": [\n",
      "    \"Discrimination/Hate Speech\"\n",
      "  ]\n",
      "}\n"
     ]
    },
    {
     "name": "stderr",
     "output_type": "stream",
     "text": [
      "100%|██████████| 40/40 [06:24<00:00,  9.81s/it]"
     ]
    },
    {
     "name": "stdout",
     "output_type": "stream",
     "text": [
      "Extracted JSON: {\n",
      "  \"action\": \"block\",\n",
      "  \"confidence\": 0.8,\n",
      "  \"categories\": [\n",
      "    \"hate_speech\",\n",
      "    \"personal_attack\"\n",
      "  ]\n",
      "}\n"
     ]
    },
    {
     "name": "stderr",
     "output_type": "stream",
     "text": [
      "100%|██████████| 40/40 [06:43<00:00, 10.08s/it]"
     ]
    },
    {
     "name": "stdout",
     "output_type": "stream",
     "text": [
      "Extracted JSON: {\n",
      "  \"action\": \"block\",\n",
      "  \"confidence\": 0.9,\n",
      "  \"categories\": [\n",
      "    \"hate_speech\",\n",
      "    \"harassment\",\n",
      "    \"inappropriate_content\"\n",
      "  ]\n",
      "}\n",
      "\n",
      "📊 Evaluation Metrics:\n",
      "Accuracy: 0.7000\n",
      "Precision: 0.7500\n",
      "Recall: 0.6000\n",
      "F1 Score: 0.6667\n",
      "AUC: 0.7000\n"
     ]
    },
    {
     "name": "stderr",
     "output_type": "stream",
     "text": [
      "\n"
     ]
    }
   ],
   "source": [
    "# Initialize progress bar for pandas\n",
    "tqdm.pandas()\n",
    "\n",
    "# Step 5: Get predictions\n",
    "print(\"\\n🚀 Performing inference on balanced sample data...\")\n",
    "sample_df[\"prediction\"] = sample_df[\"text\"].progress_apply(predict_with_deepseek)\n",
    "\n",
    "# Step 6: Evaluate predictions\n",
    "y_true = sample_df[\"label\"]\n",
    "y_pred = sample_df[\"prediction\"]\n",
    "\n",
    "metrics = {\n",
    "    \"Accuracy\": accuracy_score(y_true, y_pred),\n",
    "    \"Precision\": precision_score(y_true, y_pred),\n",
    "    \"Recall\": recall_score(y_true, y_pred),\n",
    "    \"F1 Score\": f1_score(y_true, y_pred),\n",
    "    \"AUC\": roc_auc_score(y_true, y_pred)\n",
    "}\n",
    "\n",
    "print(\"\\n📊 Evaluation Metrics:\")\n",
    "for k, v in metrics.items():\n",
    "    print(f\"{k}: {v:.4f}\")\n",
    "\n"
   ]
  },
  {
   "cell_type": "code",
   "execution_count": 9,
   "id": "96d2b907-ee21-457c-8dc4-8ed695b2080a",
   "metadata": {},
   "outputs": [
    {
     "data": {
      "image/png": "[encoded data removed]",
      "text/plain": [
       "<Figure size 640x480 with 2 Axes>"
      ]
     },
     "metadata": {},
     "output_type": "display_data"
    },
    {
     "name": "stderr",
     "output_type": "stream",
     "text": [
      "/tmp/ipykernel_9033/916961170.py:11: FutureWarning: \n",
      "\n",
      "Passing `palette` without assigning `hue` is deprecated and will be removed in v0.14.0. Assign the `x` variable to `hue` and set `legend=False` for the same effect.\n",
      "\n",
      "  sns.barplot(x=list(metrics.keys()), y=list(metrics.values()), palette=\"mako\")\n"
     ]
    },
    {
     "data": {
      "image/png": "[encoded data removed]",
      "text/plain": [
       "<Figure size 800x500 with 1 Axes>"
      ]
     },
     "metadata": {},
     "output_type": "display_data"
    }
   ],
   "source": [
    "# ✅ Step 7: Confusion Matrix\n",
    "cm = confusion_matrix(y_true, y_pred)\n",
    "disp = ConfusionMatrixDisplay(confusion_matrix=cm, display_labels=[\"Not Toxic\", \"Toxic\"])\n",
    "disp.plot(cmap=plt.cm.Blues)\n",
    "plt.title(\"Confusion Matrix\")\n",
    "plt.tight_layout()\n",
    "plt.show()\n",
    "\n",
    "# ✅ Step 8: Bar Plot of Metrics\n",
    "plt.figure(figsize=(8, 5))\n",
    "sns.barplot(x=list(metrics.keys()), y=list(metrics.values()), palette=\"mako\")\n",
    "plt.title(\"Model Performance Metrics (Balanced Sample)\")\n",
    "plt.ylabel(\"Score\")\n",
    "plt.ylim(0, 1)\n",
    "plt.xticks(rotation=45)\n",
    "plt.tight_layout()\n",
    "plt.show()"
   ]
  },
  {
   "cell_type": "code",
   "execution_count": null,
   "id": "e388803d-6f76-4c52-8e19-710e7601ff75",
   "metadata": {},
   "outputs": [],
   "source": []
  },
  {
   "cell_type": "code",
   "execution_count": 10,
   "id": "6bea0716-9e40-494e-bcb7-102d9d7e8bbf",
   "metadata": {},
   "outputs": [
    {
     "name": "stdout",
     "output_type": "stream",
     "text": [
      "Extracted JSON: {\n",
      "  \"action\": \"warn\",\n",
      "  \"confidence\": 0.7,\n",
      "  \"categories\": [\n",
      "    \"_sensitive_topic\",\n",
      "    \"hate_speech\",\n",
      "    \"incitement\"\n",
      "  ]\n",
      "}\n",
      "Extracted JSON: {\n",
      "  \"action\": \"block\",\n",
      "  \"confidence\": 0.9,\n",
      "  \"categories\": [\n",
      "    \"hate_speech\",\n",
      "    \"defamation\"\n",
      "  ]\n",
      "}\n",
      "Extracted JSON: {\n",
      "  \"action\": \"block\",\n",
      "  \"confidence\": 0.9,\n",
      "  \"categories\": [\n",
      "    \"hate_speech\",\n",
      "    \"incivility\"\n",
      "  ]\n",
      "}\n",
      "Extracted JSON: {\n",
      "  \"action\": \"warn\",\n",
      "  \"confidence\": 0.6,\n",
      "  \"categories\": [\n",
      "    \"Content Quality\"\n",
      "  ]\n",
      "}\n",
      "Extracted JSON: {\n",
      "  \"action\": \"block\",\n",
      "  \"confidence\": 1.0,\n",
      "  \"categories\": [\n",
      "    \"hate_speech\"\n",
      "  ]\n",
      "}\n",
      "Extracted JSON: {\n",
      "  \"action\": \"block\",\n",
      "  \"confidence\": 1.0,\n",
      "  \"categories\": [\n",
      "    \"hate_speech\"\n",
      "  ]\n",
      "}\n",
      "Extracted JSON: {\n",
      "  \"action\": \"block\",\n",
      "  \"confidence\": 0.95,\n",
      "  \"categories\": [\n",
      "    \"hate_speech\",\n",
      "    \"offensive_content\"\n",
      "  ]\n",
      "}\n",
      "Extracted JSON: {\n",
      "  \"action\": \"warn\",\n",
      "  \"confidence\": 0.7,\n",
      "  \"categories\": [\n",
      "    \"Government Spending\",\n",
      "    \"Public Policy\",\n",
      "    \"Controversial Opinions\"\n",
      "  ]\n",
      "}\n",
      "Extracted JSON: {\n",
      "  \"action\": \"allow\",\n",
      "  \"confidence\": 0.3,\n",
      "  \"categories\": [\n",
      "    \"Religious Issues\",\n",
      "    \"Philosophical Discussion\"\n",
      "  ]\n",
      "}\n",
      "Extracted JSON: {\n",
      "  \"action\": \"block\",\n",
      "  \"confidence\": 0.95,\n",
      "  \"categories\": [\n",
      "    \"abusive\",\n",
      "    \"hate_speech\"\n",
      "  ]\n",
      "}\n",
      "Extracted JSON: {\n",
      "  \"action\": \"warn\",\n",
      "  \"confidence\": 0.7,\n",
      "  \"categories\": [\n",
      "    \"Discrimination\"\n",
      "  ]\n",
      "}\n",
      "Extracted JSON: {\n",
      "  \"action\": \"allow\",\n",
      "  \"confidence\": 0.7,\n",
      "  \"categories\": [\n",
      "    \"Political Opinion\"\n",
      "  ]\n",
      "}\n",
      "Extracted JSON: {\n",
      "  \"action\": \"allow\",\n",
      "  \"confidence\": 0.9,\n",
      "  \"categories\": []\n",
      "}\n",
      "Extracted JSON: {\n",
      "  \"action\": \"warn\",\n",
      "  \"confidence\": 0.7,\n",
      "  \"categories\": [\n",
      "    \"political_opinions\",\n",
      "    \"social_issues\"\n",
      "  ]\n",
      "}\n",
      "Extracted JSON: {\n",
      "  \"action\": \"allow\",\n",
      "  \"confidence\": 0.95,\n",
      "  \"categories\": [\n",
      "    \"correcting misinformation\"\n",
      "  ]\n",
      "}\n",
      "Extracted JSON: {\n",
      "  \"action\": \"block\",\n",
      "  \"confidence\": 1.0,\n",
      "  \"categories\": [\n",
      "    \"hate_speech\",\n",
      "    \"harassment\"\n",
      "  ]\n",
      "}\n",
      "Extracted JSON: {\n",
      "  \"action\": \"warn\",\n",
      "  \"confidence\": 0.8,\n",
      "  \"categories\": [\n",
      "    \"equality\",\n",
      "    \"controversial_social_issue\"\n",
      "  ]\n",
      "}\n",
      "Extracted JSON: {\n",
      "  \"action\": \"block\",\n",
      "  \"confidence\": 0.9,\n",
      "  \"categories\": [\n",
      "    \"hate_speech\",\n",
      "    \"respectful_communication_violation\",\n",
      "    \"personal_attack\"\n",
      "  ]\n",
      "}\n",
      "Extracted JSON: {\n",
      "  \"action\": \"block\",\n",
      "  \"confidence\": 0.9,\n",
      "  \"categories\": [\n",
      "    \"hate_speech\",\n",
      "    \"disrespectful\"\n",
      "  ]\n",
      "}\n",
      "Extracted JSON: {\n",
      "  \"action\": \"allow\",\n",
      "  \"confidence\": 0.95,\n",
      "  \"categories\": []\n",
      "}\n",
      "Extracted JSON: {\n",
      "  \"action\": \"allow\",\n",
      "  \"confidence\": 0.9,\n",
      "  \"categories\": []\n",
      "}\n",
      "Extracted JSON: {\n",
      "  \"action\": \"warn\",\n",
      "  \"confidence\": 0.8,\n",
      "  \"categories\": [\n",
      "    \"religious_disrespect\",\n",
      "    \"harmful_stereotypes\"\n",
      "  ]\n",
      "}\n",
      "Extracted JSON: {\n",
      "  \"action\": \"warn\",\n",
      "  \"confidence\": 0.7,\n",
      "  \"categories\": [\n",
      "    \"harassment\",\n",
      "    \"derogatory language\"\n",
      "  ]\n",
      "}\n",
      "Extracted JSON: {\n",
      "  \"action\": \"block\",\n",
      "  \"confidence\": 0.9,\n",
      "  \"categories\": [\n",
      "    \"hate_speech\",\n",
      "    \"offensive_language\"\n",
      "  ]\n",
      "}\n",
      "Extracted JSON: {\n",
      "  \"action\": \"allow\",\n",
      "  \"confidence\": 0.8,\n",
      "  \"categories\": []\n",
      "}\n",
      "Extracted JSON: {\n",
      "  \"action\": \"allow\",\n",
      "  \"confidence\": 0.7,\n",
      "  \"categories\": [\n",
      "    \"personal_attack\",\n",
      "    \"negative_language\"\n",
      "  ]\n",
      "}\n",
      "Extracted JSON: {\n",
      "  \"action\": \"allow\",\n",
      "  \"confidence\": 0.7,\n",
      "  \"categories\": [\n",
      "    \"constructive_criticism\"\n",
      "  ]\n",
      "}\n",
      "Extracted JSON: {\n",
      "  \"action\": \"warn\",\n",
      "  \"confidence\": 0.7,\n",
      "  \"categories\": [\n",
      "    \"Diversity and Inclusion\"\n",
      "  ]\n",
      "}\n",
      "Extracted JSON: {\n",
      "  \"action\": \"block\",\n",
      "  \"confidence\": 0.95,\n",
      "  \"categories\": [\n",
      "    \"hate_speech\",\n",
      "    \"name_calling\"\n",
      "  ]\n",
      "}\n",
      "Extracted JSON: {\n",
      "  \"action\": \"warn\",\n",
      "  \"confidence\": 0.9,\n",
      "  \"categories\": [\n",
      "    \"ad_hominem\"\n",
      "  ]\n",
      "}\n",
      "Extracted JSON: {\n",
      "  \"action\": \"warn\",\n",
      "  \"confidence\": 0.6,\n",
      "  \"categories\": [\n",
      "    \"sensitive language\"\n",
      "  ]\n",
      "}\n",
      "Extracted JSON: {\n",
      "  \"action\": \"warn\",\n",
      "  \"confidence\": 0.7,\n",
      "  \"categories\": [\n",
      "    \"Media Bias\",\n",
      "    \"Political Content\"\n",
      "  ]\n",
      "}\n",
      "Extracted JSON: {\n",
      "  \"action\": \"warn\",\n",
      "  \"confidence\": 0.7,\n",
      "  \"categories\": [\n",
      "    \"offensive_language\",\n",
      "    \"hate_speech\"\n",
      "  ]\n",
      "}\n",
      "Extracted JSON: {\n",
      "  \"action\": \"warn\",\n",
      "  \"confidence\": 0.6,\n",
      "  \"categories\": [\n",
      "    \"emotional_distress\",\n",
      "    \"venting_frustration\"\n",
      "  ]\n",
      "}\n",
      "Extracted JSON: {\n",
      "  \"action\": \"block\",\n",
      "  \"confidence\": 0.9,\n",
      "  \"categories\": [\n",
      "    \"discrimination/hate_speech\"\n",
      "  ]\n",
      "}\n",
      "Extracted JSON: {\n",
      "  \"action\": \"warn\",\n",
      "  \"confidence\": 0.7,\n",
      "  \"categories\": [\n",
      "    \"Political Content\",\n",
      "    \"Confrontational/Rude Behavior\"\n",
      "  ]\n",
      "}\n",
      "Extracted JSON: {\n",
      "  \"action\": \"warn\",\n",
      "  \"confidence\": 0.7,\n",
      "  \"categories\": [\n",
      "    \"Tobacco\"\n",
      "  ]\n",
      "}\n",
      "Extracted JSON: {\n",
      "  \"action\": \"warn\",\n",
      "  \"confidence\": 0.7,\n",
      "  \"categories\": [\n",
      "    \"Argumentative/Disrespectful\",\n",
      "    \"Financial/Tax Discussion\",\n",
      "    \"Legal/Treaty Rights\"\n",
      "  ]\n",
      "}\n",
      "Extracted JSON: {\n",
      "  \"action\": \"warn\",\n",
      "  \"confidence\": 0.85,\n",
      "  \"categories\": [\n",
      "    \"personal attack or trolling\"\n",
      "  ]\n",
      "}\n",
      "Extracted JSON: {\n",
      "  \"action\": \"block\",\n",
      "  \"confidence\": 0.9,\n",
      "  \"categories\": [\n",
      "    \"hate_speech\",\n",
      "    \"derogatory_language\",\n",
      "    \"political_attacks\"\n",
      "  ]\n",
      "}\n",
      "\n",
      "📊 Classification Report:\n",
      "              precision    recall  f1-score   support\n",
      "\n",
      "           0       0.59      0.80      0.68        20\n",
      "           1       0.69      0.45      0.55        20\n",
      "\n",
      "    accuracy                           0.62        40\n",
      "   macro avg       0.64      0.62      0.61        40\n",
      "weighted avg       0.64      0.62      0.61        40\n",
      "\n"
     ]
    },
    {
     "data": {
      "image/png": "[encoded data removed]",
      "text/plain": [
       "<Figure size 1000x800 with 2 Axes>"
      ]
     },
     "metadata": {},
     "output_type": "display_data"
    },
    {
     "data": {
      "image/png": "[encoded data removed]",
      "text/plain": [
       "<Figure size 1200x600 with 2 Axes>"
      ]
     },
     "metadata": {},
     "output_type": "display_data"
    },
    {
     "name": "stdout",
     "output_type": "stream",
     "text": [
      "\n",
      "⏱️ Timing Statistics (in milliseconds):\n",
      "Mean inference time: 10451.25ms\n",
      "Median inference time: 10345.76ms\n",
      "Std dev: 2451.91ms\n",
      "Min time: 4664.11ms\n",
      "Max time: 16639.64ms\n"
     ]
    }
   ],
   "source": [
    "import pandas as pd\n",
    "import numpy as np\n",
    "import matplotlib.pyplot as plt\n",
    "import seaborn as sns\n",
    "from sklearn.metrics import classification_report, confusion_matrix\n",
    "import time\n",
    "from datetime import datetime\n",
    "\n",
    "def generate_performance_report(y_true, y_pred, inference_times=None):\n",
    "    \"\"\"\n",
    "    Generate classification report and visualizations\n",
    "    \"\"\"\n",
    "    # Classification Report\n",
    "    print(\"\\n📊 Classification Report:\")\n",
    "    print(classification_report(y_true, y_pred))\n",
    "    \n",
    "    # Create confusion matrix plot\n",
    "    plt.figure(figsize=(10, 8))\n",
    "    cm = confusion_matrix(y_true, y_pred)\n",
    "    sns.heatmap(cm, annot=True, fmt='d', cmap='Blues',\n",
    "                xticklabels=['Non-Toxic', 'Toxic'],\n",
    "                yticklabels=['Non-Toxic', 'Toxic'])\n",
    "    plt.title('Confusion Matrix')\n",
    "    plt.ylabel('True Label')\n",
    "    plt.xlabel('Predicted Label')\n",
    "    plt.show()\n",
    "\n",
    "    # If inference times are provided, plot them\n",
    "    if inference_times is not None:\n",
    "        plt.figure(figsize=(12, 6))\n",
    "        \n",
    "        # Convert to milliseconds for better readability\n",
    "        times_ms = np.array(inference_times) * 1000\n",
    "        \n",
    "        # Plot histogram of inference times\n",
    "        plt.subplot(1, 2, 1)\n",
    "        plt.hist(times_ms, bins=30, color='skyblue', edgecolor='black')\n",
    "        plt.title('Distribution of Inference Times')\n",
    "        plt.xlabel('Time (ms)')\n",
    "        plt.ylabel('Frequency')\n",
    "        \n",
    "        # Plot inference times over samples\n",
    "        plt.subplot(1, 2, 2)\n",
    "        plt.plot(range(len(times_ms)), times_ms, 'b-', alpha=0.5)\n",
    "        plt.axhline(y=np.mean(times_ms), color='r', linestyle='--', \n",
    "                   label=f'Mean: {np.mean(times_ms):.2f}ms')\n",
    "        plt.title('Inference Times per Sample')\n",
    "        plt.xlabel('Sample Number')\n",
    "        plt.ylabel('Time (ms)')\n",
    "        plt.legend()\n",
    "        \n",
    "        plt.tight_layout()\n",
    "        plt.show()\n",
    "        \n",
    "        # Print timing statistics\n",
    "        print(\"\\n⏱️ Timing Statistics (in milliseconds):\")\n",
    "        print(f\"Mean inference time: {np.mean(times_ms):.2f}ms\")\n",
    "        print(f\"Median inference time: {np.median(times_ms):.2f}ms\")\n",
    "        print(f\"Std dev: {np.std(times_ms):.2f}ms\")\n",
    "        print(f\"Min time: {np.min(times_ms):.2f}ms\")\n",
    "        print(f\"Max time: {np.max(times_ms):.2f}ms\")\n",
    "\n",
    "# Usage example:\n",
    "def measure_inference_times(texts, predict_fn):\n",
    "    \"\"\"\n",
    "    Measure inference times for each prediction\n",
    "    \"\"\"\n",
    "    times = []\n",
    "    predictions = []\n",
    "    \n",
    "    for text in texts:\n",
    "        start_time = time.time()\n",
    "        pred = predict_fn(text)\n",
    "        end_time = time.time()\n",
    "        \n",
    "        times.append(end_time - start_time)\n",
    "        predictions.append(pred)\n",
    "    \n",
    "    return predictions, times\n",
    "\n",
    "# Run predictions with timing\n",
    "predictions, inference_times = measure_inference_times(sample_df[\"text\"], predict_with_deepseek)\n",
    "\n",
    "# Generate report\n",
    "generate_performance_report(\n",
    "    y_true=sample_df[\"label\"],\n",
    "    y_pred=predictions,\n",
    "    inference_times=inference_times\n",
    ")\n",
    "\n",
    "# Optional: Save results to CSV\n",
    "results_df = pd.DataFrame({\n",
    "    'text': sample_df[\"text\"],\n",
    "    'true_label': sample_df[\"label\"],\n",
    "    'predicted_label': predictions,\n",
    "    'inference_time_ms': np.array(inference_times) * 1000\n",
    "})\n",
    "\n",
    "timestamp = datetime.now().strftime('%Y%m%d_%H%M%S')\n",
    "results_df.to_csv(f'moderation_results_{timestamp}.csv', index=False)"
   ]
  },
  {
   "cell_type": "code",
   "execution_count": null,
   "id": "c7be5700-c89b-4739-82d1-b8c22064f49f",
   "metadata": {},
   "outputs": [],
   "source": []
  }
 ],
 "metadata": {
  "kernelspec": {
   "display_name": "Python 3 (ipykernel)",
   "language": "python",
   "name": "python3"
  },
  "language_info": {
   "codemirror_mode": {
    "name": "ipython",
    "version": 3
   },
   "file_extension": ".py",
   "mimetype": "text/x-python",
   "name": "python",
   "nbconvert_exporter": "python",
   "pygments_lexer": "ipython3",
   "version": "3.12.9"
  }
 },
 "nbformat": 4,
 "nbformat_minor": 5
}
