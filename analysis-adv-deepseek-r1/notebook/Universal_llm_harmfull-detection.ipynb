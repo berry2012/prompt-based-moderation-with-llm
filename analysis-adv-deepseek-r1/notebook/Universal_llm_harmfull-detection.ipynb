{
 "cells": [
  {
   "cell_type": "markdown",
   "id": "05ab8959-d5f1-4abb-bf99-760c9a2d7fae",
   "metadata": {},
   "source": [
    "# Prompt Based Harmful Message detection using MCP and LLM"
   ]
  },
  {
   "cell_type": "markdown",
   "id": "3d306d00-e469-49fc-a076-8973c28c1591",
   "metadata": {},
   "source": [
    "https://docs.gpt4all.io/gpt4all_desktop/models.html#explore-models\n",
    "\n",
    "https://github.com/deepseek-ai/DeepSeek-R1"
   ]
  },
  {
   "cell_type": "code",
   "execution_count": 1,
   "id": "c2c4ceaa-2f72-475d-bd97-fed66f86f124",
   "metadata": {},
   "outputs": [
    {
     "name": "stdout",
     "output_type": "stream",
     "text": [
      "Requirement already satisfied: datasets in /opt/conda/lib/python3.12/site-packages (4.0.0)\n",
      "Requirement already satisfied: pandas in /opt/conda/lib/python3.12/site-packages (2.2.3)\n",
      "Requirement already satisfied: scikit-learn in /opt/conda/lib/python3.12/site-packages (1.5.2)\n",
      "Requirement already satisfied: matplotlib in /opt/conda/lib/python3.12/site-packages (3.10.3)\n",
      "Requirement already satisfied: seaborn in /opt/conda/lib/python3.12/site-packages (0.13.2)\n",
      "Requirement already satisfied: openai in /opt/conda/lib/python3.12/site-packages (1.99.7)\n",
      "Requirement already satisfied: tqdm in /opt/conda/lib/python3.12/site-packages (4.67.1)\n",
      "Requirement already satisfied: filelock in /opt/conda/lib/python3.12/site-packages (from datasets) (3.18.0)\n",
      "Requirement already satisfied: numpy>=1.17 in /opt/conda/lib/python3.12/site-packages (from datasets) (1.26.4)\n",
      "Requirement already satisfied: pyarrow>=15.0.0 in /opt/conda/lib/python3.12/site-packages (from datasets) (19.0.1)\n",
      "Requirement already satisfied: dill<0.3.9,>=0.3.0 in /opt/conda/lib/python3.12/site-packages (from datasets) (0.3.8)\n",
      "Requirement already satisfied: requests>=2.32.2 in /opt/conda/lib/python3.12/site-packages (from datasets) (2.32.3)\n",
      "Requirement already satisfied: xxhash in /opt/conda/lib/python3.12/site-packages (from datasets) (3.5.0)\n",
      "Requirement already satisfied: multiprocess<0.70.17 in /opt/conda/lib/python3.12/site-packages (from datasets) (0.70.16)\n",
      "Requirement already satisfied: fsspec<=2025.3.0,>=2023.1.0 in /opt/conda/lib/python3.12/site-packages (from fsspec[http]<=2025.3.0,>=2023.1.0->datasets) (2024.10.0)\n",
      "Requirement already satisfied: huggingface-hub>=0.24.0 in /opt/conda/lib/python3.12/site-packages (from datasets) (0.31.4)\n",
      "Requirement already satisfied: packaging in /opt/conda/lib/python3.12/site-packages (from datasets) (24.2)\n",
      "Requirement already satisfied: pyyaml>=5.1 in /opt/conda/lib/python3.12/site-packages (from datasets) (6.0.2)\n",
      "Requirement already satisfied: python-dateutil>=2.8.2 in /opt/conda/lib/python3.12/site-packages (from pandas) (2.9.0.post0)\n",
      "Requirement already satisfied: pytz>=2020.1 in /opt/conda/lib/python3.12/site-packages (from pandas) (2024.2)\n",
      "Requirement already satisfied: tzdata>=2022.7 in /opt/conda/lib/python3.12/site-packages (from pandas) (2025.2)\n",
      "Requirement already satisfied: scipy>=1.6.0 in /opt/conda/lib/python3.12/site-packages (from scikit-learn) (1.15.2)\n",
      "Requirement already satisfied: joblib>=1.2.0 in /opt/conda/lib/python3.12/site-packages (from scikit-learn) (1.5.0)\n",
      "Requirement already satisfied: threadpoolctl>=3.1.0 in /opt/conda/lib/python3.12/site-packages (from scikit-learn) (3.6.0)\n",
      "Requirement already satisfied: contourpy>=1.0.1 in /opt/conda/lib/python3.12/site-packages (from matplotlib) (1.3.2)\n",
      "Requirement already satisfied: cycler>=0.10 in /opt/conda/lib/python3.12/site-packages (from matplotlib) (0.12.1)\n",
      "Requirement already satisfied: fonttools>=4.22.0 in /opt/conda/lib/python3.12/site-packages (from matplotlib) (4.58.0)\n",
      "Requirement already satisfied: kiwisolver>=1.3.1 in /opt/conda/lib/python3.12/site-packages (from matplotlib) (1.4.8)\n",
      "Requirement already satisfied: pillow>=8 in /opt/conda/lib/python3.12/site-packages (from matplotlib) (11.2.1)\n",
      "Requirement already satisfied: pyparsing>=2.3.1 in /opt/conda/lib/python3.12/site-packages (from matplotlib) (3.2.3)\n",
      "Requirement already satisfied: anyio<5,>=3.5.0 in /opt/conda/lib/python3.12/site-packages (from openai) (4.9.0)\n",
      "Requirement already satisfied: distro<2,>=1.7.0 in /opt/conda/lib/python3.12/site-packages (from openai) (1.9.0)\n",
      "Requirement already satisfied: httpx<1,>=0.23.0 in /opt/conda/lib/python3.12/site-packages (from openai) (0.28.1)\n",
      "Requirement already satisfied: jiter<1,>=0.4.0 in /opt/conda/lib/python3.12/site-packages (from openai) (0.10.0)\n",
      "Requirement already satisfied: pydantic<3,>=1.9.0 in /opt/conda/lib/python3.12/site-packages (from openai) (2.11.4)\n",
      "Requirement already satisfied: sniffio in /opt/conda/lib/python3.12/site-packages (from openai) (1.3.1)\n",
      "Requirement already satisfied: typing-extensions<5,>=4.11 in /opt/conda/lib/python3.12/site-packages (from openai) (4.13.2)\n",
      "Requirement already satisfied: idna>=2.8 in /opt/conda/lib/python3.12/site-packages (from anyio<5,>=3.5.0->openai) (3.10)\n",
      "Requirement already satisfied: aiohttp!=4.0.0a0,!=4.0.0a1 in /opt/conda/lib/python3.12/site-packages (from fsspec[http]<=2025.3.0,>=2023.1.0->datasets) (3.9.5)\n",
      "Requirement already satisfied: certifi in /opt/conda/lib/python3.12/site-packages (from httpx<1,>=0.23.0->openai) (2025.4.26)\n",
      "Requirement already satisfied: httpcore==1.* in /opt/conda/lib/python3.12/site-packages (from httpx<1,>=0.23.0->openai) (1.0.9)\n",
      "Requirement already satisfied: h11>=0.16 in /opt/conda/lib/python3.12/site-packages (from httpcore==1.*->httpx<1,>=0.23.0->openai) (0.16.0)\n",
      "Requirement already satisfied: annotated-types>=0.6.0 in /opt/conda/lib/python3.12/site-packages (from pydantic<3,>=1.9.0->openai) (0.7.0)\n",
      "Requirement already satisfied: pydantic-core==2.33.2 in /opt/conda/lib/python3.12/site-packages (from pydantic<3,>=1.9.0->openai) (2.33.2)\n",
      "Requirement already satisfied: typing-inspection>=0.4.0 in /opt/conda/lib/python3.12/site-packages (from pydantic<3,>=1.9.0->openai) (0.4.0)\n",
      "Requirement already satisfied: six>=1.5 in /opt/conda/lib/python3.12/site-packages (from python-dateutil>=2.8.2->pandas) (1.17.0)\n",
      "Requirement already satisfied: charset_normalizer<4,>=2 in /opt/conda/lib/python3.12/site-packages (from requests>=2.32.2->datasets) (3.4.2)\n",
      "Requirement already satisfied: urllib3<3,>=1.21.1 in /opt/conda/lib/python3.12/site-packages (from requests>=2.32.2->datasets) (2.4.0)\n",
      "Requirement already satisfied: aiosignal>=1.1.2 in /opt/conda/lib/python3.12/site-packages (from aiohttp!=4.0.0a0,!=4.0.0a1->fsspec[http]<=2025.3.0,>=2023.1.0->datasets) (1.3.2)\n",
      "Requirement already satisfied: attrs>=17.3.0 in /opt/conda/lib/python3.12/site-packages (from aiohttp!=4.0.0a0,!=4.0.0a1->fsspec[http]<=2025.3.0,>=2023.1.0->datasets) (23.2.0)\n",
      "Requirement already satisfied: frozenlist>=1.1.1 in /opt/conda/lib/python3.12/site-packages (from aiohttp!=4.0.0a0,!=4.0.0a1->fsspec[http]<=2025.3.0,>=2023.1.0->datasets) (1.6.0)\n",
      "Requirement already satisfied: multidict<7.0,>=4.5 in /opt/conda/lib/python3.12/site-packages (from aiohttp!=4.0.0a0,!=4.0.0a1->fsspec[http]<=2025.3.0,>=2023.1.0->datasets) (6.4.4)\n",
      "Requirement already satisfied: yarl<2.0,>=1.0 in /opt/conda/lib/python3.12/site-packages (from aiohttp!=4.0.0a0,!=4.0.0a1->fsspec[http]<=2025.3.0,>=2023.1.0->datasets) (1.20.0)\n",
      "Requirement already satisfied: propcache>=0.2.1 in /opt/conda/lib/python3.12/site-packages (from yarl<2.0,>=1.0->aiohttp!=4.0.0a0,!=4.0.0a1->fsspec[http]<=2025.3.0,>=2023.1.0->datasets) (0.3.1)\n"
     ]
    }
   ],
   "source": [
    "!pip install datasets pandas scikit-learn matplotlib seaborn openai tqdm"
   ]
  },
  {
   "cell_type": "code",
   "execution_count": 2,
   "id": "a207b785-62c5-4902-8590-227bb412c6aa",
   "metadata": {},
   "outputs": [
    {
     "name": "stdout",
     "output_type": "stream",
     "text": [
      "Requirement already satisfied: datasets in /opt/conda/lib/python3.12/site-packages (4.0.0)\n",
      "Requirement already satisfied: filelock in /opt/conda/lib/python3.12/site-packages (from datasets) (3.18.0)\n",
      "Requirement already satisfied: numpy>=1.17 in /opt/conda/lib/python3.12/site-packages (from datasets) (1.26.4)\n",
      "Requirement already satisfied: pyarrow>=15.0.0 in /opt/conda/lib/python3.12/site-packages (from datasets) (19.0.1)\n",
      "Requirement already satisfied: dill<0.3.9,>=0.3.0 in /opt/conda/lib/python3.12/site-packages (from datasets) (0.3.8)\n",
      "Requirement already satisfied: pandas in /opt/conda/lib/python3.12/site-packages (from datasets) (2.2.3)\n",
      "Requirement already satisfied: requests>=2.32.2 in /opt/conda/lib/python3.12/site-packages (from datasets) (2.32.3)\n",
      "Requirement already satisfied: tqdm>=4.66.3 in /opt/conda/lib/python3.12/site-packages (from datasets) (4.67.1)\n",
      "Requirement already satisfied: xxhash in /opt/conda/lib/python3.12/site-packages (from datasets) (3.5.0)\n",
      "Requirement already satisfied: multiprocess<0.70.17 in /opt/conda/lib/python3.12/site-packages (from datasets) (0.70.16)\n",
      "Requirement already satisfied: fsspec<=2025.3.0,>=2023.1.0 in /opt/conda/lib/python3.12/site-packages (from fsspec[http]<=2025.3.0,>=2023.1.0->datasets) (2024.10.0)\n",
      "Requirement already satisfied: huggingface-hub>=0.24.0 in /opt/conda/lib/python3.12/site-packages (from datasets) (0.31.4)\n",
      "Requirement already satisfied: packaging in /opt/conda/lib/python3.12/site-packages (from datasets) (24.2)\n",
      "Requirement already satisfied: pyyaml>=5.1 in /opt/conda/lib/python3.12/site-packages (from datasets) (6.0.2)\n",
      "Requirement already satisfied: aiohttp!=4.0.0a0,!=4.0.0a1 in /opt/conda/lib/python3.12/site-packages (from fsspec[http]<=2025.3.0,>=2023.1.0->datasets) (3.9.5)\n",
      "Requirement already satisfied: typing-extensions>=3.7.4.3 in /opt/conda/lib/python3.12/site-packages (from huggingface-hub>=0.24.0->datasets) (4.13.2)\n",
      "Requirement already satisfied: charset_normalizer<4,>=2 in /opt/conda/lib/python3.12/site-packages (from requests>=2.32.2->datasets) (3.4.2)\n",
      "Requirement already satisfied: idna<4,>=2.5 in /opt/conda/lib/python3.12/site-packages (from requests>=2.32.2->datasets) (3.10)\n",
      "Requirement already satisfied: urllib3<3,>=1.21.1 in /opt/conda/lib/python3.12/site-packages (from requests>=2.32.2->datasets) (2.4.0)\n",
      "Requirement already satisfied: certifi>=2017.4.17 in /opt/conda/lib/python3.12/site-packages (from requests>=2.32.2->datasets) (2025.4.26)\n",
      "Requirement already satisfied: python-dateutil>=2.8.2 in /opt/conda/lib/python3.12/site-packages (from pandas->datasets) (2.9.0.post0)\n",
      "Requirement already satisfied: pytz>=2020.1 in /opt/conda/lib/python3.12/site-packages (from pandas->datasets) (2024.2)\n",
      "Requirement already satisfied: tzdata>=2022.7 in /opt/conda/lib/python3.12/site-packages (from pandas->datasets) (2025.2)\n",
      "Requirement already satisfied: aiosignal>=1.1.2 in /opt/conda/lib/python3.12/site-packages (from aiohttp!=4.0.0a0,!=4.0.0a1->fsspec[http]<=2025.3.0,>=2023.1.0->datasets) (1.3.2)\n",
      "Requirement already satisfied: attrs>=17.3.0 in /opt/conda/lib/python3.12/site-packages (from aiohttp!=4.0.0a0,!=4.0.0a1->fsspec[http]<=2025.3.0,>=2023.1.0->datasets) (23.2.0)\n",
      "Requirement already satisfied: frozenlist>=1.1.1 in /opt/conda/lib/python3.12/site-packages (from aiohttp!=4.0.0a0,!=4.0.0a1->fsspec[http]<=2025.3.0,>=2023.1.0->datasets) (1.6.0)\n",
      "Requirement already satisfied: multidict<7.0,>=4.5 in /opt/conda/lib/python3.12/site-packages (from aiohttp!=4.0.0a0,!=4.0.0a1->fsspec[http]<=2025.3.0,>=2023.1.0->datasets) (6.4.4)\n",
      "Requirement already satisfied: yarl<2.0,>=1.0 in /opt/conda/lib/python3.12/site-packages (from aiohttp!=4.0.0a0,!=4.0.0a1->fsspec[http]<=2025.3.0,>=2023.1.0->datasets) (1.20.0)\n",
      "Requirement already satisfied: six>=1.5 in /opt/conda/lib/python3.12/site-packages (from python-dateutil>=2.8.2->pandas->datasets) (1.17.0)\n",
      "Requirement already satisfied: propcache>=0.2.1 in /opt/conda/lib/python3.12/site-packages (from yarl<2.0,>=1.0->aiohttp!=4.0.0a0,!=4.0.0a1->fsspec[http]<=2025.3.0,>=2023.1.0->datasets) (0.3.1)\n"
     ]
    }
   ],
   "source": [
    "!pip install --upgrade datasets"
   ]
  },
  {
   "cell_type": "code",
   "execution_count": 3,
   "id": "1694eb50-3f0f-4fb4-88a2-48ff4f9fd5ee",
   "metadata": {},
   "outputs": [
    {
     "name": "stdout",
     "output_type": "stream",
     "text": [
      "Requirement already satisfied: gpt4all in /opt/conda/lib/python3.12/site-packages (2.8.2)\n",
      "Requirement already satisfied: requests in /opt/conda/lib/python3.12/site-packages (from gpt4all) (2.32.3)\n",
      "Requirement already satisfied: tqdm in /opt/conda/lib/python3.12/site-packages (from gpt4all) (4.67.1)\n",
      "Requirement already satisfied: charset_normalizer<4,>=2 in /opt/conda/lib/python3.12/site-packages (from requests->gpt4all) (3.4.2)\n",
      "Requirement already satisfied: idna<4,>=2.5 in /opt/conda/lib/python3.12/site-packages (from requests->gpt4all) (3.10)\n",
      "Requirement already satisfied: urllib3<3,>=1.21.1 in /opt/conda/lib/python3.12/site-packages (from requests->gpt4all) (2.4.0)\n",
      "Requirement already satisfied: certifi>=2017.4.17 in /opt/conda/lib/python3.12/site-packages (from requests->gpt4all) (2025.4.26)\n"
     ]
    }
   ],
   "source": [
    "!pip install gpt4all"
   ]
  },
  {
   "cell_type": "code",
   "execution_count": 4,
   "id": "93192d2c-1531-4882-ae39-474b76a28f2d",
   "metadata": {},
   "outputs": [
    {
     "data": {
      "text/plain": [
       "True"
      ]
     },
     "execution_count": 4,
     "metadata": {},
     "output_type": "execute_result"
    }
   ],
   "source": [
    "import os\n",
    "import pandas as pd\n",
    "import numpy as np\n",
    "import matplotlib.pyplot as plt\n",
    "import seaborn as sns\n",
    "import json\n",
    "import re\n",
    "import time\n",
    "from datetime import datetime\n",
    "from tqdm import tqdm\n",
    "from openai import OpenAI\n",
    "from dotenv import load_dotenv\n",
    "try:\n",
    "    from gpt4all import GPT4All\n",
    "except ImportError:\n",
    "    GPT4All = None\n",
    "from sklearn.metrics import (\n",
    "    accuracy_score, precision_score, recall_score, f1_score, roc_auc_score,\n",
    "    confusion_matrix, ConfusionMatrixDisplay, classification_report\n",
    ")\n",
    "\n",
    "tqdm.pandas()\n",
    "load_dotenv()"
   ]
  },
  {
   "cell_type": "markdown",
   "id": "c7852aa1-d3d2-4b47-a65c-07816e68a31f",
   "metadata": {},
   "source": [
    "# Test - Debugging"
   ]
  },
  {
   "cell_type": "code",
   "execution_count": 5,
   "id": "9930b6e3-a986-433b-9799-1f1c2e5a0b60",
   "metadata": {},
   "outputs": [
    {
     "name": "stdout",
     "output_type": "stream",
     "text": [
      "Model configuration completed\n"
     ]
    }
   ],
   "source": [
    "# Model configuration\n",
    "MODEL_TYPE = \"deepseek\"  # Options: \"deepseek\", \"gpt4all\", \"mistral\"\n",
    "DEEPSEEK_MODEL = \"deepseek-ai/DeepSeek-R1-Distill-Llama-8B\"\n",
    "GPT4ALL_MODEL = \"Meta-Llama-3-8B-Instruct.Q4_0.gguf\"\n",
    "GPT4ALL_MODEL_PATH = \"/home/sagemaker-user/harmfull-detection/models/\"\n",
    "MISTRAL_MODEL = \"/tmp/models/mistral-7b-v0-2\"\n",
    "# Initialize clients\n",
    "if MODEL_TYPE == \"deepseek\":\n",
    "    client = OpenAI(\n",
    "        api_key=os.getenv(\"DEEPSEEK_API_KEY\"),\n",
    "        base_url=\"http://k8s-deepseek-deepseek-e92cca8149-b20547a64509f06f.elb.eu-west-1.amazonaws.com/v1\"\n",
    "    )\n",
    "elif MODEL_TYPE == \"mistral\":\n",
    "    client = OpenAI(\n",
    "        api_key=os.getenv(\"MISTRAL_API_KEY\"),\n",
    "        base_url=\"http://vllm-serve-svc-pub-288545519.us-west-2.elb.amazonaws.com/v1\"\n",
    "    )    \n",
    "elif MODEL_TYPE == \"gpt4all\":\n",
    "    if GPT4All is None:\n",
    "        raise ImportError(\"Install gpt4all: pip install gpt4all\")\n",
    "    \n",
    "    model_file = os.path.join(GPT4ALL_MODEL_PATH, GPT4ALL_MODEL)\n",
    "    if os.path.exists(model_file):\n",
    "        print(f\"Loading cached model from {model_file}\")\n",
    "        client = GPT4All(model_name=GPT4ALL_MODEL, model_path=GPT4ALL_MODEL_PATH, allow_download=False)\n",
    "    else:\n",
    "        print(f\"Downloading model to {GPT4ALL_MODEL_PATH}\")\n",
    "        os.makedirs(GPT4ALL_MODEL_PATH, exist_ok=True)\n",
    "        client = GPT4All(model_name=GPT4ALL_MODEL, model_path=GPT4ALL_MODEL_PATH)\n",
    "\n",
    "def predict_with_model(text):\n",
    "    prompt = f'Analyze this message and respond ONLY with JSON: {{\"action\": \"allow|warn|block|timeout\", \"confidence\": 0.0-1.0, \"categories\": [\"list of violation types]}}: \"{text}\"'\n",
    "    \n",
    "    try:\n",
    "        if MODEL_TYPE == \"deepseek\":\n",
    "            response = client.chat.completions.create(\n",
    "                model=DEEPSEEK_MODEL,\n",
    "                messages=[\n",
    "                    {\"role\": \"system\", \"content\": \"You are a content moderation assistant. Respond only with JSON.\"},\n",
    "                    {\"role\": \"user\", \"content\": prompt}\n",
    "                ],\n",
    "                temperature=0\n",
    "            )\n",
    "            reply = response.choices[0].message.content.strip()\n",
    "        \n",
    "        elif MODEL_TYPE == \"gpt4all\":\n",
    "            with client.chat_session():\n",
    "                reply = client.generate(prompt, max_tokens=1024)\n",
    "                \n",
    "        print(\"Model output:\", reply)  # Add before json_match\n",
    "        \n",
    "        json_match = re.search(r'\\{.*\\}', reply, re.DOTALL)\n",
    "        if json_match:\n",
    "            result = json.loads(json_match.group())\n",
    "            return 1 if result.get(\"action\", \"\").upper() == \"BLOCK\" else 0\n",
    "        return 0\n",
    "    except:\n",
    "        return 0\n",
    "\n",
    "def measure_inference_times(texts, predict_fn):\n",
    "    times, predictions = [], []\n",
    "    for text in tqdm(texts, desc=\"Processing texts\"):\n",
    "        start = time.time()\n",
    "        pred = predict_fn(text)\n",
    "        times.append(time.time() - start)\n",
    "        predictions.append(pred)\n",
    "    return predictions, times\n",
    "\n",
    "def generate_performance_report(y_true, y_pred, inference_times=None):\n",
    "    print(\"\\n📊 Classification Report:\")\n",
    "    print(classification_report(y_true, y_pred))\n",
    "    \n",
    "    if inference_times:\n",
    "        times_ms = np.array(inference_times) * 1000\n",
    "        print(f\"\\n⏱️ Mean inference time: {np.mean(times_ms):.2f}ms\")\n",
    "\n",
    "print(\"Model configuration completed\")"
   ]
  },
  {
   "cell_type": "code",
   "execution_count": 6,
   "id": "80e51a7c-6a73-4598-a8db-1366c368c6fd",
   "metadata": {},
   "outputs": [
    {
     "name": "stdout",
     "output_type": "stream",
     "text": [
      "Model output: Okay, so I need to analyze this message: \"You are a terrible person!\" and decide whether to allow, warn, block, or timeout the user, along with the confidence level and the category of violation. \n",
      "\n",
      "First, I should consider what the message is saying. The user is calling someone a terrible person. That's a strong, derogatory term. It's clearly offensive and intended to insult the recipient. Such language can be hurtful and violate community guidelines that promote respect and kindness.\n",
      "\n",
      "Next, I should think about the context. Without knowing the specific situation, I can assume that using such harsh language is not appropriate. It's likely intended to attack or demean someone, which is against most content policies.\n",
      "\n",
      "Now, considering the categories, this definitely falls under \"abusive or harassing\" behavior. It's a personal attack that can harm others. The confidence level should be high because the message is clearly offensive and not ambiguous.\n",
      "\n",
      "So, the action should be to block the user to prevent further abuse. The confidence is 1.0 because there's no doubt about the violation. The category is \"abusive or harassing.\"\n",
      "</think>\n",
      "\n",
      "```json\n",
      "{\n",
      "  \"action\": \"block\",\n",
      "  \"confidence\": 1.0,\n",
      "  \"categories\": [\"abusive or harassing\"]\n",
      "}\n",
      "```\n",
      "Moderation result (1=toxic, 0=non-toxic): 1\n"
     ]
    }
   ],
   "source": [
    "# Test the function\n",
    "test_text = \"You are a terrible person!\"\n",
    "result = predict_with_model(test_text)\n",
    "print(f\"Moderation result (1=toxic, 0=non-toxic): {result}\")\n"
   ]
  },
  {
   "cell_type": "markdown",
   "id": "51190abd-81c1-4706-b05d-d01340c205f8",
   "metadata": {},
   "source": [
    "# Model configuration - DeepSeek R1-Distill-Llama-8B"
   ]
  },
  {
   "cell_type": "code",
   "execution_count": 7,
   "id": "498b0309-5b4e-4d53-bf5c-ad7e6682ec10",
   "metadata": {},
   "outputs": [
    {
     "name": "stdout",
     "output_type": "stream",
     "text": [
      "Model configuration completed\n"
     ]
    }
   ],
   "source": [
    "# Model configuration\n",
    "MODEL_TYPE = \"deepseek\"  # Options: \"deepseek\", \"gpt4all\", \"mistral\"\n",
    "DEEPSEEK_MODEL = \"deepseek-ai/DeepSeek-R1-Distill-Llama-8B\"\n",
    "GPT4ALL_MODEL = \"Meta-Llama-3-8B-Instruct.Q4_0.gguf\"\n",
    "GPT4ALL_MODEL_PATH = \"/home/sagemaker-user/harmfull-detection/models/\"\n",
    "MISTRAL_MODEL = \"/tmp/models/mistral-7b-v0-2\"\n",
    "# Initialize clients\n",
    "if MODEL_TYPE == \"deepseek\":\n",
    "    client = OpenAI(\n",
    "        api_key=os.getenv(\"DEEPSEEK_API_KEY\"),\n",
    "        base_url=\"http://k8s-deepseek-deepseek-e92cca8149-b20547a64509f06f.elb.eu-west-1.amazonaws.com/v1\"\n",
    "    )\n",
    "elif MODEL_TYPE == \"mistral\":\n",
    "    client = OpenAI(\n",
    "        api_key=os.getenv(\"MISTRAL_API_KEY\"),\n",
    "        base_url=\"http://vllm-serve-svc-pub-288545519.us-west-2.elb.amazonaws.com/v1\"\n",
    "    )    \n",
    "elif MODEL_TYPE == \"gpt4all\":\n",
    "    if GPT4All is None:\n",
    "        raise ImportError(\"Install gpt4all: pip install gpt4all\")\n",
    "    \n",
    "    model_file = os.path.join(GPT4ALL_MODEL_PATH, GPT4ALL_MODEL)\n",
    "    if os.path.exists(model_file):\n",
    "        print(f\"Loading cached model from {model_file}\")\n",
    "        client = GPT4All(model_name=GPT4ALL_MODEL, model_path=GPT4ALL_MODEL_PATH, allow_download=False)\n",
    "    else:\n",
    "        print(f\"Downloading model to {GPT4ALL_MODEL_PATH}\")\n",
    "        os.makedirs(GPT4ALL_MODEL_PATH, exist_ok=True)\n",
    "        client = GPT4All(model_name=GPT4ALL_MODEL, model_path=GPT4ALL_MODEL_PATH)\n",
    "\n",
    "def predict_with_model(text):\n",
    "    prompt = f'Analyze this message and respond ONLY with JSON: {{\"action\": \"allow|warn|block|timeout\", \"confidence\": 0.0-1.0, \"categories\": [\"list of violation types\"]}}: \"{text}\"'\n",
    "    \n",
    "    try:\n",
    "        if MODEL_TYPE == \"deepseek\":\n",
    "            response = client.chat.completions.create(\n",
    "                model=DEEPSEEK_MODEL,\n",
    "                messages=[\n",
    "                    {\"role\": \"system\", \"content\": \"You are a content moderation assistant. Respond only with JSON.\"},\n",
    "                    {\"role\": \"user\", \"content\": prompt}\n",
    "                ],\n",
    "                temperature=0\n",
    "            )\n",
    "            reply = response.choices[0].message.content.strip()\n",
    "        \n",
    "        elif MODEL_TYPE == \"gpt4all\":\n",
    "            with client.chat_session():\n",
    "                reply = client.generate(prompt, max_tokens=1024)\n",
    "        \n",
    "        json_match = re.search(r'\\{.*\\}', reply, re.DOTALL)\n",
    "        if json_match:\n",
    "            result = json.loads(json_match.group())\n",
    "            return 1 if result.get(\"action\", \"\").upper() == \"BLOCK\" else 0\n",
    "        return 0\n",
    "    except:\n",
    "        return 0\n",
    "\n",
    "def measure_inference_times(texts, predict_fn):\n",
    "    times, predictions = [], []\n",
    "    for text in tqdm(texts, desc=\"Processing texts\"):\n",
    "        start = time.time()\n",
    "        pred = predict_fn(text)\n",
    "        times.append(time.time() - start)\n",
    "        predictions.append(pred)\n",
    "    return predictions, times\n",
    "\n",
    "def generate_performance_report(y_true, y_pred, inference_times=None):\n",
    "    print(\"\\n📊 Classification Report:\")\n",
    "    print(classification_report(y_true, y_pred))\n",
    "    \n",
    "    if inference_times:\n",
    "        times_ms = np.array(inference_times) * 1000\n",
    "        print(f\"\\n⏱️ Mean inference time: {np.mean(times_ms):.2f}ms\")\n",
    "\n",
    "print(\"Model configuration completed\")"
   ]
  },
  {
   "cell_type": "code",
   "execution_count": 8,
   "id": "5da3f791-3f7e-4fff-b29c-b71cb7e397f9",
   "metadata": {},
   "outputs": [
    {
     "name": "stdout",
     "output_type": "stream",
     "text": [
      "Dataset balanced: [20, 20]\n"
     ]
    }
   ],
   "source": [
    "# Load and sample data\n",
    "df_test = pd.read_csv(\"/home/sagemaker-user/test.csv\")\n",
    "n_samples = 20\n",
    "sample_df = pd.concat([\n",
    "    df_test[df_test[\"label\"] == 1].sample(n=n_samples, random_state=42),\n",
    "    df_test[df_test[\"label\"] == 0].sample(n=n_samples, random_state=42)\n",
    "]).sample(frac=1, random_state=42).reset_index(drop=True)\n",
    "\n",
    "print(f\"Dataset balanced: {sample_df['label'].value_counts().tolist()}\")\n"
   ]
  },
  {
   "cell_type": "code",
   "execution_count": null,
   "id": "845e26b6-6d9e-41a0-a888-a8bad76ee4bb",
   "metadata": {},
   "outputs": [],
   "source": []
  },
  {
   "cell_type": "code",
   "execution_count": 9,
   "id": "428f7e4d-1013-4a5b-9018-2635b58c993c",
   "metadata": {},
   "outputs": [
    {
     "name": "stdout",
     "output_type": "stream",
     "text": [
      "\n",
      "🚀 Running inference with deepseek...\n"
     ]
    },
    {
     "name": "stderr",
     "output_type": "stream",
     "text": [
      "Processing texts: 100%|██████████| 40/40 [07:13<00:00, 10.84s/it]\n"
     ]
    }
   ],
   "source": [
    "# Run predictions with timing\n",
    "print(f\"\\n🚀 Running inference with {MODEL_TYPE}...\")\n",
    "predictions, inference_times = measure_inference_times(sample_df[\"text\"], predict_with_model)"
   ]
  },
  {
   "cell_type": "code",
   "execution_count": 10,
   "id": "d02ed8ea-e7a5-4d4b-a3db-9b3843700429",
   "metadata": {},
   "outputs": [
    {
     "name": "stdout",
     "output_type": "stream",
     "text": [
      "\n",
      "📊 Metrics:\n",
      "Accuracy: 0.8000\n",
      "Precision: 0.8750\n",
      "Recall: 0.7000\n",
      "F1: 0.7778\n",
      "AUC: 0.8000\n",
      "\n",
      "📊 Classification Report:\n",
      "              precision    recall  f1-score   support\n",
      "\n",
      "           0       0.75      0.90      0.82        20\n",
      "           1       0.88      0.70      0.78        20\n",
      "\n",
      "    accuracy                           0.80        40\n",
      "   macro avg       0.81      0.80      0.80        40\n",
      "weighted avg       0.81      0.80      0.80        40\n",
      "\n",
      "\n",
      "⏱️ Mean inference time: 10834.75ms\n"
     ]
    },
    {
     "data": {
      "image/png": "[encoded data removed]",
      "text/plain": [
       "<Figure size 640x480 with 2 Axes>"
      ]
     },
     "metadata": {},
     "output_type": "display_data"
    },
    {
     "name": "stderr",
     "output_type": "stream",
     "text": [
      "/tmp/ipykernel_24223/3815011085.py:28: FutureWarning: \n",
      "\n",
      "Passing `palette` without assigning `hue` is deprecated and will be removed in v0.14.0. Assign the `x` variable to `hue` and set `legend=False` for the same effect.\n",
      "\n",
      "  sns.barplot(x=list(metrics.keys()), y=list(metrics.values()), palette=\"mako\")\n"
     ]
    },
    {
     "data": {
      "image/png": "[encoded data removed]",
      "text/plain": [
       "<Figure size 800x500 with 1 Axes>"
      ]
     },
     "metadata": {},
     "output_type": "display_data"
    },
    {
     "name": "stdout",
     "output_type": "stream",
     "text": [
      "\n",
      "💾 Results saved to moderation_results_deepseek_20250812_072840.csv\n"
     ]
    }
   ],
   "source": [
    "# Evaluate\n",
    "y_true, y_pred = sample_df[\"label\"], predictions\n",
    "metrics = {\n",
    "    \"Accuracy\": accuracy_score(y_true, y_pred),\n",
    "    \"Precision\": precision_score(y_true, y_pred),\n",
    "    \"Recall\": recall_score(y_true, y_pred),\n",
    "    \"F1\": f1_score(y_true, y_pred),\n",
    "    \"AUC\": roc_auc_score(y_true, y_pred)\n",
    "}\n",
    "\n",
    "print(\"\\n📊 Metrics:\")\n",
    "for k, v in metrics.items():\n",
    "    print(f\"{k}: {v:.4f}\")\n",
    "\n",
    "generate_performance_report(y_true, y_pred, inference_times)\n",
    "\n",
    "\n",
    "# Confusion Matrix\n",
    "cm = confusion_matrix(y_true, y_pred)\n",
    "disp = ConfusionMatrixDisplay(confusion_matrix=cm, display_labels=[\"Not Toxic\", \"Toxic\"])\n",
    "disp.plot(cmap=plt.cm.Blues)\n",
    "plt.title(\"Confusion Matrix\")\n",
    "plt.tight_layout()\n",
    "plt.show()\n",
    "\n",
    "# Bar Plot of Metrics\n",
    "plt.figure(figsize=(8, 5))\n",
    "sns.barplot(x=list(metrics.keys()), y=list(metrics.values()), palette=\"mako\")\n",
    "plt.title(\"Model Performance Metrics (Balanced Sample)\")\n",
    "plt.ylabel(\"Score\")\n",
    "plt.ylim(0, 1)\n",
    "plt.xticks(rotation=45)\n",
    "plt.tight_layout()\n",
    "plt.show()\n",
    "\n",
    "# Save results\n",
    "results_df = pd.DataFrame({\n",
    "    'text': sample_df[\"text\"],\n",
    "    'true_label': y_true,\n",
    "    'predicted_label': y_pred,\n",
    "    'inference_time_ms': np.array(inference_times) * 1000\n",
    "})\n",
    "timestamp = datetime.now().strftime('%Y%m%d_%H%M%S')\n",
    "results_df.to_csv(f'moderation_results_deepseek_{timestamp}.csv', index=False)\n",
    "print(f\"\\n💾 Results saved to moderation_results_deepseek_{timestamp}.csv\")    "
   ]
  },
  {
   "cell_type": "markdown",
   "id": "ea92019d-8aaa-4c8f-a9bd-437a61c30478",
   "metadata": {},
   "source": [
    "# Model configuration - gpt4all Llama 3 "
   ]
  },
  {
   "cell_type": "code",
   "execution_count": 11,
   "id": "83c84b17-caa4-4f47-8f6d-854b582523c9",
   "metadata": {},
   "outputs": [
    {
     "name": "stdout",
     "output_type": "stream",
     "text": [
      "Loading cached model from /home/sagemaker-user/harmfull-detection/models/Meta-Llama-3-8B-Instruct.Q4_0.gguf\n"
     ]
    },
    {
     "name": "stderr",
     "output_type": "stream",
     "text": [
      "Failed to load libllamamodel-mainline-cuda-avxonly.so: dlopen: libcudart.so.11.0: cannot open shared object file: No such file or directory\n",
      "Failed to load libllamamodel-mainline-cuda.so: dlopen: libcudart.so.11.0: cannot open shared object file: No such file or directory\n"
     ]
    },
    {
     "name": "stdout",
     "output_type": "stream",
     "text": [
      "Model configuration completed\n"
     ]
    }
   ],
   "source": [
    "# Model configuration\n",
    "MODEL_TYPE = \"gpt4all\"  # Options: \"deepseek\", \"gpt4all\", \"mistral\"\n",
    "DEEPSEEK_MODEL = \"deepseek-ai/DeepSeek-R1-Distill-Llama-8B\"\n",
    "GPT4ALL_MODEL = \"Meta-Llama-3-8B-Instruct.Q4_0.gguf\"\n",
    "GPT4ALL_MODEL_PATH = \"/home/sagemaker-user/harmfull-detection/models/\"\n",
    "MISTRAL_MODEL = \"/tmp/models/mistral-7b-v0-2\"\n",
    "# Initialize clients\n",
    "if MODEL_TYPE == \"deepseek\":\n",
    "    client = OpenAI(\n",
    "        api_key=os.getenv(\"DEEPSEEK_API_KEY\"),\n",
    "        base_url=\"http://k8s-deepseek-deepseek-e92cca8149-b20547a64509f06f.elb.eu-west-1.amazonaws.com/v1\"\n",
    "    )\n",
    "elif MODEL_TYPE == \"mistral\":\n",
    "    client = OpenAI(\n",
    "        api_key=os.getenv(\"MISTRAL_API_KEY\"),\n",
    "        base_url=\"http://vllm-serve-svc-pub-288545519.us-west-2.elb.amazonaws.com/v1\"\n",
    "    )    \n",
    "elif MODEL_TYPE == \"gpt4all\":\n",
    "    if GPT4All is None:\n",
    "        raise ImportError(\"Install gpt4all: pip install gpt4all\")\n",
    "    \n",
    "    model_file = os.path.join(GPT4ALL_MODEL_PATH, GPT4ALL_MODEL)\n",
    "    if os.path.exists(model_file):\n",
    "        print(f\"Loading cached model from {model_file}\")\n",
    "        client = GPT4All(model_name=GPT4ALL_MODEL, model_path=GPT4ALL_MODEL_PATH, allow_download=False)\n",
    "    else:\n",
    "        print(f\"Downloading model to {GPT4ALL_MODEL_PATH}\")\n",
    "        os.makedirs(GPT4ALL_MODEL_PATH, exist_ok=True)\n",
    "        client = GPT4All(model_name=GPT4ALL_MODEL, model_path=GPT4ALL_MODEL_PATH)\n",
    "\n",
    "def predict_with_model(text):\n",
    "    prompt = f'Analyze this message and respond ONLY with JSON: {{\"action\": \"allow|warn|block|timeout\", \"confidence\": 0.0-1.0, \"categories\": [\"list of violation types\"]}}: \"{text}\"'\n",
    "    \n",
    "    try:\n",
    "        if MODEL_TYPE == \"deepseek\":\n",
    "            response = client.chat.completions.create(\n",
    "                model=DEEPSEEK_MODEL,\n",
    "                messages=[\n",
    "                    {\"role\": \"system\", \"content\": \"You are a content moderation assistant. Respond only with JSON.\"},\n",
    "                    {\"role\": \"user\", \"content\": prompt}\n",
    "                ],\n",
    "                temperature=0\n",
    "            )\n",
    "            reply = response.choices[0].message.content.strip()\n",
    "        \n",
    "        elif MODEL_TYPE == \"gpt4all\":\n",
    "            with client.chat_session():\n",
    "                reply = client.generate(prompt, max_tokens=1024)\n",
    "        \n",
    "        json_match = re.search(r'\\{.*\\}', reply, re.DOTALL)\n",
    "        if json_match:\n",
    "            result = json.loads(json_match.group())\n",
    "            return 1 if result.get(\"action\", \"\").upper() == \"BLOCK\" else 0\n",
    "        return 0\n",
    "    except:\n",
    "        return 0\n",
    "\n",
    "def measure_inference_times(texts, predict_fn):\n",
    "    times, predictions = [], []\n",
    "    for text in tqdm(texts, desc=\"Processing texts\"):\n",
    "        start = time.time()\n",
    "        pred = predict_fn(text)\n",
    "        times.append(time.time() - start)\n",
    "        predictions.append(pred)\n",
    "    return predictions, times\n",
    "\n",
    "def generate_performance_report(y_true, y_pred, inference_times=None):\n",
    "    print(\"\\n📊 Classification Report:\")\n",
    "    print(classification_report(y_true, y_pred))\n",
    "    \n",
    "    if inference_times:\n",
    "        times_ms = np.array(inference_times) * 1000\n",
    "        print(f\"\\n⏱️ Mean inference time: {np.mean(times_ms):.2f}ms\")\n",
    "\n",
    "print(\"Model configuration completed\")"
   ]
  },
  {
   "cell_type": "code",
   "execution_count": 12,
   "id": "3d0618bb-59b0-429f-9d55-0012a3549d3f",
   "metadata": {},
   "outputs": [
    {
     "name": "stdout",
     "output_type": "stream",
     "text": [
      "\n",
      "🚀 Running inference with gpt4all...\n"
     ]
    },
    {
     "name": "stderr",
     "output_type": "stream",
     "text": [
      "Processing texts: 100%|██████████| 40/40 [35:50<00:00, 53.76s/it]\n"
     ]
    }
   ],
   "source": [
    "# Run predictions with timing\n",
    "print(f\"\\n🚀 Running inference with {MODEL_TYPE}...\")\n",
    "predictions, inference_times = measure_inference_times(sample_df[\"text\"], predict_with_model)"
   ]
  },
  {
   "cell_type": "code",
   "execution_count": 13,
   "id": "7e278805-a03c-47fd-acfc-8bae863930db",
   "metadata": {},
   "outputs": [
    {
     "name": "stdout",
     "output_type": "stream",
     "text": [
      "\n",
      "📊 Metrics:\n",
      "Accuracy: 0.6250\n",
      "Precision: 0.6923\n",
      "Recall: 0.4500\n",
      "F1: 0.5455\n",
      "AUC: 0.6250\n",
      "\n",
      "📊 Classification Report:\n",
      "              precision    recall  f1-score   support\n",
      "\n",
      "           0       0.59      0.80      0.68        20\n",
      "           1       0.69      0.45      0.55        20\n",
      "\n",
      "    accuracy                           0.62        40\n",
      "   macro avg       0.64      0.62      0.61        40\n",
      "weighted avg       0.64      0.62      0.61        40\n",
      "\n",
      "\n",
      "⏱️ Mean inference time: 53756.16ms\n"
     ]
    },
    {
     "data": {
      "image/png": "[encoded data removed]",
      "text/plain": [
       "<Figure size 640x480 with 2 Axes>"
      ]
     },
     "metadata": {},
     "output_type": "display_data"
    },
    {
     "name": "stderr",
     "output_type": "stream",
     "text": [
      "/tmp/ipykernel_24223/3542555518.py:28: FutureWarning: \n",
      "\n",
      "Passing `palette` without assigning `hue` is deprecated and will be removed in v0.14.0. Assign the `x` variable to `hue` and set `legend=False` for the same effect.\n",
      "\n",
      "  sns.barplot(x=list(metrics.keys()), y=list(metrics.values()), palette=\"mako\")\n"
     ]
    },
    {
     "data": {
      "image/png": "[encoded data removed]",
      "text/plain": [
       "<Figure size 800x500 with 1 Axes>"
      ]
     },
     "metadata": {},
     "output_type": "display_data"
    },
    {
     "name": "stdout",
     "output_type": "stream",
     "text": [
      "\n",
      "💾 Results saved to moderation_results_gpt4all_20250812_085149.csv\n"
     ]
    }
   ],
   "source": [
    "# Evaluate\n",
    "y_true, y_pred = sample_df[\"label\"], predictions\n",
    "metrics = {\n",
    "    \"Accuracy\": accuracy_score(y_true, y_pred),\n",
    "    \"Precision\": precision_score(y_true, y_pred),\n",
    "    \"Recall\": recall_score(y_true, y_pred),\n",
    "    \"F1\": f1_score(y_true, y_pred),\n",
    "    \"AUC\": roc_auc_score(y_true, y_pred)\n",
    "}\n",
    "\n",
    "print(\"\\n📊 Metrics:\")\n",
    "for k, v in metrics.items():\n",
    "    print(f\"{k}: {v:.4f}\")\n",
    "\n",
    "generate_performance_report(y_true, y_pred, inference_times)\n",
    "\n",
    "\n",
    "# Confusion Matrix\n",
    "cm = confusion_matrix(y_true, y_pred)\n",
    "disp = ConfusionMatrixDisplay(confusion_matrix=cm, display_labels=[\"Not Toxic\", \"Toxic\"])\n",
    "disp.plot(cmap=plt.cm.Blues)\n",
    "plt.title(\"Confusion Matrix\")\n",
    "plt.tight_layout()\n",
    "plt.show()\n",
    "\n",
    "# Bar Plot of Metrics\n",
    "plt.figure(figsize=(8, 5))\n",
    "sns.barplot(x=list(metrics.keys()), y=list(metrics.values()), palette=\"mako\")\n",
    "plt.title(\"Model Performance Metrics (Balanced Sample)\")\n",
    "plt.ylabel(\"Score\")\n",
    "plt.ylim(0, 1)\n",
    "plt.xticks(rotation=45)\n",
    "plt.tight_layout()\n",
    "plt.show()\n",
    "\n",
    "# Save results\n",
    "results_df = pd.DataFrame({\n",
    "    'text': sample_df[\"text\"],\n",
    "    'true_label': y_true,\n",
    "    'predicted_label': y_pred,\n",
    "    'inference_time_ms': np.array(inference_times) * 1000\n",
    "})\n",
    "timestamp = datetime.now().strftime('%Y%m%d_%H%M%S')\n",
    "results_df.to_csv(f'moderation_results_gpt4all_{timestamp}.csv', index=False)\n",
    "print(f\"\\n💾 Results saved to moderation_results_gpt4all_{timestamp}.csv\")    "
   ]
  },
  {
   "cell_type": "markdown",
   "id": "c0667bc6-9ccd-4cc6-9567-501cdaae88ff",
   "metadata": {},
   "source": [
    "# Debugging"
   ]
  },
  {
   "cell_type": "code",
   "execution_count": 14,
   "id": "f6fb62d9-2649-47ef-b959-5c9ea5b81e34",
   "metadata": {},
   "outputs": [
    {
     "name": "stdout",
     "output_type": "stream",
     "text": [
      "Model configuration completed\n"
     ]
    }
   ],
   "source": [
    "# Model configuration\n",
    "MODEL_TYPE = \"deepseek\"  # Options: \"deepseek\", \"gpt4all\", \"mistral\"\n",
    "DEEPSEEK_MODEL = \"deepseek-ai/DeepSeek-R1-Distill-Llama-8B\"\n",
    "GPT4ALL_MODEL = \"Meta-Llama-3-8B-Instruct.Q4_0.gguf\"\n",
    "GPT4ALL_MODEL_PATH = \"/home/sagemaker-user/harmfull-detection/models/\"\n",
    "MISTRAL_MODEL = \"/tmp/models/mistral-7b-v0-2\"\n",
    "# Initialize clients\n",
    "if MODEL_TYPE == \"deepseek\":\n",
    "    client = OpenAI(\n",
    "        api_key=os.getenv(\"DEEPSEEK_API_KEY\"),\n",
    "        base_url=\"http://k8s-deepseek-deepseek-e92cca8149-b20547a64509f06f.elb.eu-west-1.amazonaws.com/v1\"\n",
    "    )\n",
    "elif MODEL_TYPE == \"mistral\":\n",
    "    client = OpenAI(\n",
    "        api_key=os.getenv(\"MISTRAL_API_KEY\"),\n",
    "        base_url=\"http://vllm-serve-svc-pub-288545519.us-west-2.elb.amazonaws.com/v1\"\n",
    "    )    \n",
    "elif MODEL_TYPE == \"gpt4all\":\n",
    "    if GPT4All is None:\n",
    "        raise ImportError(\"Install gpt4all: pip install gpt4all\")\n",
    "    \n",
    "    model_file = os.path.join(GPT4ALL_MODEL_PATH, GPT4ALL_MODEL)\n",
    "    if os.path.exists(model_file):\n",
    "        print(f\"Loading cached model from {model_file}\")\n",
    "        client = GPT4All(model_name=GPT4ALL_MODEL, model_path=GPT4ALL_MODEL_PATH, allow_download=False)\n",
    "    else:\n",
    "        print(f\"Downloading model to {GPT4ALL_MODEL_PATH}\")\n",
    "        os.makedirs(GPT4ALL_MODEL_PATH, exist_ok=True)\n",
    "        client = GPT4All(model_name=GPT4ALL_MODEL, model_path=GPT4ALL_MODEL_PATH)\n",
    "\n",
    "def predict_with_model(text):\n",
    "    prompt = f'Analyze this message and respond ONLY with JSON: {{\"action\": \"allow|warn|block|timeout\", \"confidence\": 0.0-1.0, \"categories\": [\"list of violation types]}}: \"{text}\"'\n",
    "    \n",
    "    try:\n",
    "        if MODEL_TYPE == \"deepseek\":\n",
    "            response = client.chat.completions.create(\n",
    "                model=DEEPSEEK_MODEL,\n",
    "                messages=[\n",
    "                    {\"role\": \"system\", \"content\": \"You are a content moderation assistant. Respond only with JSON.\"},\n",
    "                    {\"role\": \"user\", \"content\": prompt}\n",
    "                ],\n",
    "                temperature=0\n",
    "            )\n",
    "            reply = response.choices[0].message.content.strip()\n",
    "        \n",
    "        elif MODEL_TYPE == \"gpt4all\":\n",
    "            with client.chat_session():\n",
    "                reply = client.generate(prompt, max_tokens=1024)\n",
    "                \n",
    "        print(\"Model output:\", reply)  # Add before json_match\n",
    "        \n",
    "        json_match = re.search(r'\\{.*\\}', reply, re.DOTALL)\n",
    "        if json_match:\n",
    "            result = json.loads(json_match.group())\n",
    "            return 1 if result.get(\"action\", \"\").upper() == \"BLOCK\" else 0\n",
    "        return 0\n",
    "    except:\n",
    "        return 0\n",
    "\n",
    "def measure_inference_times(texts, predict_fn):\n",
    "    times, predictions = [], []\n",
    "    for text in tqdm(texts, desc=\"Processing texts\"):\n",
    "        start = time.time()\n",
    "        pred = predict_fn(text)\n",
    "        times.append(time.time() - start)\n",
    "        predictions.append(pred)\n",
    "    return predictions, times\n",
    "\n",
    "def generate_performance_report(y_true, y_pred, inference_times=None):\n",
    "    print(\"\\n📊 Classification Report:\")\n",
    "    print(classification_report(y_true, y_pred))\n",
    "    \n",
    "    if inference_times:\n",
    "        times_ms = np.array(inference_times) * 1000\n",
    "        print(f\"\\n⏱️ Mean inference time: {np.mean(times_ms):.2f}ms\")\n",
    "\n",
    "print(\"Model configuration completed\")"
   ]
  },
  {
   "cell_type": "code",
   "execution_count": 15,
   "id": "b0bba8bd-8a96-469c-bb22-9d31ed543389",
   "metadata": {},
   "outputs": [
    {
     "name": "stdout",
     "output_type": "stream",
     "text": [
      "Model output: Okay, so I need to analyze this message: \"You are a terrible person!\" and decide whether to allow, warn, block, or timeout the user, along with the confidence level and the category of violation. \n",
      "\n",
      "First, I should consider what the message is saying. The user is calling someone a \"terrible person.\" That's a strong, derogatory term. It's clearly offensive and intended to insult the recipient. Such language can be hurtful and is likely to create a negative environment.\n",
      "\n",
      "Next, I should think about the context. Without knowing the specific situation, I can assume that using such harsh language is inappropriate. It's a personal attack that goes beyond just expressing strong opinions. The term \"terrible person\" is a direct insult and can be considered hate speech or at least a form of abuse.\n",
      "\n",
      "Now, considering the categories, this definitely falls under \"abusive language\" because it's meant to demean someone. It's not just a casual insult; it's more severe. The confidence level should be high because the message is clearly violating guidelines against hate speech and abuse.\n",
      "\n",
      "So, the action should be to block the user to prevent further abuse. The confidence is 1.0 because the violation is clear and severe. The category is \"abusive language.\"\n",
      "</think>\n",
      "\n",
      "```json\n",
      "{\n",
      "  \"action\": \"block\",\n",
      "  \"confidence\": 1.0,\n",
      "  \"categories\": [\"abusive language\"]\n",
      "}\n",
      "```\n",
      "Moderation result (1=toxic, 0=non-toxic): 1\n"
     ]
    }
   ],
   "source": [
    "# Test the function\n",
    "test_text = \"You are a terrible person!\"\n",
    "result = predict_with_model(test_text)\n",
    "print(f\"Moderation result (1=toxic, 0=non-toxic): {result}\")"
   ]
  },
  {
   "cell_type": "code",
   "execution_count": 16,
   "id": "129fc559-cfcc-4bc4-80b1-e308703ff974",
   "metadata": {},
   "outputs": [
    {
     "name": "stdout",
     "output_type": "stream",
     "text": [
      "Model output: Okay, so I need to analyze this message and decide whether to allow, warn, block, or timeout the user. The message is pretty harsh, calling the user an idiot and accusing them of spreading hate. The user is questioning the number of German civilians killed after WWII and links it to Jews, which is a sensitive and offensive topic. They also mention Stanford, implying the user is educated but is using that knowledge to spread harmful information. The tone is confrontational and uses derogatory language, which could escalate tensions. I should consider the categories like hate speech, anti-Semitism, and harassment. The confidence is high because the content is clearly offensive and harmful. So, the action should be block, confidence 1.0, and categories as hate speech, anti-Semitism, and harassment.\n",
      "</think>\n",
      "\n",
      "```json\n",
      "{\n",
      "  \"action\": \"block\",\n",
      "  \"confidence\": 1.0,\n",
      "  \"categories\": [\"hate speech\", \"anti-Semitism\", \"harassment\"]\n",
      "}\n",
      "```\n",
      "Moderation result (1=toxic, 0=non-toxic): 1\n"
     ]
    }
   ],
   "source": [
    "# Test the function\n",
    "test_text = \"\"\"\n",
    "\"The German government, apparently,  puts the number of German citizens killed in the terrible disruption after WWII at 2 to 2.5 million. Other estimates are lower . . . as much as 2/3's lower. Is it really your contention that they were all massacred by Jews? \n",
    "\n",
    "Did they teach you this pestiferous crap at Stanford? You should ask for your money back. !\"\n",
    "\"\"\"\n",
    "\n",
    "result = predict_with_model(test_text)\n",
    "# print(f\"Ground Truth: 1 - toxic in original downloaded dataset. This will be corrected\")\n",
    "print(f\"Moderation result (1=toxic, 0=non-toxic): {result}\")"
   ]
  },
  {
   "cell_type": "code",
   "execution_count": 17,
   "id": "28a6d36c-69db-4954-a536-d65585dba0a1",
   "metadata": {},
   "outputs": [
    {
     "name": "stdout",
     "output_type": "stream",
     "text": [
      "Model output: Alright, so I need to analyze this message and decide whether to allow, warn, block, or timeout the user. The message is about political motivations, infrastructure like high-speed rail and Maglev, and some economic aspects. \n",
      "\n",
      "First, I'll read through the message carefully. The user is discussing both political and infrastructure topics. They mention political motivations but then quickly clarify they want to know people's actual thoughts, not just party lines. That seems neutral.\n",
      "\n",
      "Next, they talk about a high-speed transit project from Windsor to Toronto and possibly Toronto to Montreal. They note that infrastructure can foster growth but also mention the cost factor, which could be a concern for people. They compare HSR and Maglev, noting that Maglev is more expensive but has lower maintenance costs and is quieter, which might reduce NIMBY issues. They end with a positive note about future infrastructure.\n",
      "\n",
      "I need to categorize this. The user is sharing their thoughts on infrastructure and policy, which could be related to public discussion. They're not promoting hate speech, spam, or anything harmful. They're expressing opinions and comparing different transit options.\n",
      "\n",
      "So, the categories here would be \"Public Discussion\" and \"Infrastructure.\" The action should be \"allow\" because the content is constructive and doesn't violate any policies. Confidence is high because there's no indication of issues.\n",
      "</think>\n",
      "\n",
      "```json\n",
      "{\n",
      "  \"action\": \"allow\",\n",
      "  \"confidence\": 0.9,\n",
      "  \"categories\": [\"Public Discussion\", \"Infrastructure\"]\n",
      "}\n",
      "```\n",
      "Moderation result (1=toxic, 0=non-toxic): 0\n"
     ]
    }
   ],
   "source": [
    "# Test the function\n",
    "test_text = \"\"\"\n",
    "\"Political motivations, and parties aside. I would love to know peoples actual thoughts on this. Good. Bad? Could we actually get bipartisan support or is it a pipe dream. \n",
    "\n",
    "Additionally, the idea of a high speed transit in the windsor to toronto, and maybe in the future toronto to montreal corridors (which is like half of Canada's population) is one that may be interesting. There isn't much debate that infrastructure like this can massively foster growth along the route, but there is also the price factor. People don't like it in their backyard. \n",
    "\n",
    "Also, since this will be costly regardless, I would be curious price comparisons between HSR and Maglev. Mostly because the latter is more expensive but will require reduced maintenance costs whilst also having the advantage of being far quieter, likely reducing \"\"NIMBY\"\" BS. Not to mention it would be a great selling point of \"\"hey, look at our futuresque shit that travels at speeds that rival planes\"\".\"\n",
    "\"\"\"\n",
    "result = predict_with_model(test_text)\n",
    "# print(f\"Ground Truth: 1 - toxic in original downloaded dataset. This will be corrected\")\n",
    "print(f\"Moderation result (1=toxic, 0=non-toxic): {result}\")"
   ]
  },
  {
   "cell_type": "code",
   "execution_count": 18,
   "id": "87f4dc26-5036-4b99-ab21-bc1e2f7a44b7",
   "metadata": {},
   "outputs": [
    {
     "name": "stdout",
     "output_type": "stream",
     "text": [
      "Model output: Okay, so I need to analyze this message and decide whether to allow, warn, block, or timeout the user. The message says, \"Merkel smart and progressive. Trump not in the least bit smart and utterly regressive. The US will be the unconditional loser as the world turns away, in everything from trade and tourism to science and collaboration. What an utter and avoidable waste. aMErica.\"\n",
      "\n",
      "First, I'll read through the message carefully. It's comparing Angela Merkel positively as smart and progressive, while describing Donald Trump as not smart and regressive. The user then goes on to predict that the US will lose in various areas because of this, calling it a waste.\n",
      "\n",
      "I need to check if this violates any content policies. The categories I can use are things like hate speech, violence, harassment, adult content, spam, etc. The message is political, expressing opinions about political figures. While strong opinions can be polarizing, I don't see any direct threats, hate speech, or other prohibited content.\n",
      "\n",
      "However, the user is making a statement that could be seen as disrespectful towards Trump. But without any incitement to violence or other harmful actions, it might fall under free speech. Unless the policy strictly prohibits political opinions, which I don't think it does.\n",
      "\n",
      "So, considering the content, it's more of an opinionated statement rather than a violation. Therefore, the appropriate action would be to allow the message.\n",
      "</think>\n",
      "\n",
      "```json\n",
      "{\n",
      "  \"action\": \"allow\",\n",
      "  \"confidence\": 0.9,\n",
      "  \"categories\": []\n",
      "}\n",
      "```\n",
      "Moderation result (1=toxic, 0=non-toxic): 0\n"
     ]
    }
   ],
   "source": [
    "# Test the function\n",
    "test_text = \"\"\"\n",
    "Merkel smart and progressive. Trump not in the least bit smart and utterly regressive. The US will be the unconditional loser as the world turns away, in everything from trade and tourism to science and collaboration. What an utter and avoidable waste. aMErica.\n",
    "\"\"\"\n",
    "result = predict_with_model(test_text)\n",
    "# print(f\"Ground Truth: 1 - toxic in original downloaded dataset. This will be corrected\")\n",
    "print(f\"Moderation result (1=toxic, 0=non-toxic): {result}\")"
   ]
  },
  {
   "cell_type": "code",
   "execution_count": null,
   "id": "17885ec8-8082-4e4d-b973-9cbc7f0265a7",
   "metadata": {},
   "outputs": [],
   "source": []
  }
 ],
 "metadata": {
  "kernelspec": {
   "display_name": "Python 3 (ipykernel)",
   "language": "python",
   "name": "python3"
  },
  "language_info": {
   "codemirror_mode": {
    "name": "ipython",
    "version": 3
   },
   "file_extension": ".py",
   "mimetype": "text/x-python",
   "name": "python",
   "nbconvert_exporter": "python",
   "pygments_lexer": "ipython3",
   "version": "3.12.9"
  }
 },
 "nbformat": 4,
 "nbformat_minor": 5
}
